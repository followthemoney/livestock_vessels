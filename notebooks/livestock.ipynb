{
 "cells": [
  {
   "cell_type": "code",
   "execution_count": 1,
   "metadata": {},
   "outputs": [],
   "source": [
    "import sys\n",
    "sys.path.append('../src/')\n",
    "\n",
    "%load_ext autoreload\n",
    "%autoreload 2"
   ]
  },
  {
   "cell_type": "code",
   "execution_count": 2,
   "metadata": {},
   "outputs": [],
   "source": [
    "import gfw\n",
    "import pandas as pd\n",
    "from pathlib import Path\n",
    "import geopandas as gpd\n",
    "import time\n",
    "from openmeteo import get_meteo"
   ]
  },
  {
   "cell_type": "code",
   "execution_count": 3,
   "metadata": {},
   "outputs": [],
   "source": [
    "PATH_DATA = Path.cwd().parent.joinpath('data')"
   ]
  },
  {
   "cell_type": "code",
   "execution_count": 4,
   "metadata": {},
   "outputs": [],
   "source": [
    "# Get list of vessel MMSI\n",
    "\n",
    "vessels = pd.read_csv(PATH_DATA.joinpath('livestock_vessels.csv'), sep=';')\n",
    "mmsi = list(set(vessels.mmsi))"
   ]
  },
  {
   "cell_type": "code",
   "execution_count": null,
   "metadata": {},
   "outputs": [],
   "source": [
    "# Query GFW for vessel info\n",
    "\n",
    "results = gfw.get_vessels(mmsi)\n",
    "len(results)"
   ]
  },
  {
   "cell_type": "code",
   "execution_count": null,
   "metadata": {},
   "outputs": [],
   "source": [
    "# Parse vessel data\n",
    "\n",
    "vessels = []\n",
    "owners = []\n",
    "\n",
    "for result in results:\n",
    "    entries = result.get('entries')\n",
    "    for entry in entries:\n",
    "        if entry.get('registryInfoTotalRecords') != 0:\n",
    "            ships = entry.get('registryInfo')\n",
    "        else:\n",
    "            ships = entry.get('selfReportedInfo')\n",
    "        vessels.append(ships[0])\n",
    "        coms = entry.get('registryOwners')\n",
    "        if len(coms) > 0:\n",
    "            for com in coms:\n",
    "                owners.append(com)\n",
    "        \n",
    "vessels = pd.DataFrame(vessels)\n",
    "owners = pd.DataFrame(owners)\n",
    "\n",
    "# Write to file\n",
    "vessels.to_csv(PATH_DATA.joinpath('vessels.csv'), index=False)\n",
    "owners.to_csv(PATH_DATA.joinpath('owners.csv'), index=False)"
   ]
  },
  {
   "cell_type": "code",
   "execution_count": null,
   "metadata": {},
   "outputs": [],
   "source": [
    "# Get ids for events\n",
    "\n",
    "ids = list(set(vessels.id))\n",
    "len(ids)"
   ]
  },
  {
   "cell_type": "markdown",
   "metadata": {},
   "source": [
    "## Get port visits"
   ]
  },
  {
   "cell_type": "code",
   "execution_count": null,
   "metadata": {},
   "outputs": [],
   "source": [
    "port_visits = []\n",
    "\n",
    "for id in ids:\n",
    "    visits = gfw.get_events(id, event_type='port_visits')\n",
    "    for entry in visits.get('entries'):\n",
    "        port_visits.append(entry)"
   ]
  },
  {
   "cell_type": "code",
   "execution_count": null,
   "metadata": {},
   "outputs": [],
   "source": [
    "# parse data\n",
    "records = []\n",
    "for entry in port_visits:\n",
    "    \n",
    "    record_dict = {'start': entry.get('start'),\n",
    "                'end': entry.get('end'),\n",
    "                'id': entry.get('id'),\n",
    "                'lat': entry.get('position').get('lat'),\n",
    "                'lon': entry.get('position').get('lon'),\n",
    "                'vessel_id': entry.get('vessel').get('id'),\n",
    "                'vessel_name': entry.get('vessel').get('name'),\n",
    "                'mmsi': entry.get('vessel').get('ssvid'),\n",
    "                'duration': entry.get('port_visit').get('durationHrs')\n",
    "                }\n",
    "    records.append(record_dict)\n",
    "\n",
    "# Create geodataframe\n",
    "vis = pd.DataFrame(records)\n",
    "vis = gpd.GeoDataFrame(vis, geometry=gpd.points_from_xy(x=vis.lon, y=vis.lat), crs=4326)\n",
    "\n",
    "# Write to file\n",
    "vis.to_csv(PATH_DATA.joinpath('port_visits.csv'), index=False)"
   ]
  },
  {
   "cell_type": "markdown",
   "metadata": {},
   "source": [
    "## Get loitering events"
   ]
  },
  {
   "cell_type": "code",
   "execution_count": null,
   "metadata": {},
   "outputs": [],
   "source": [
    "loitering = []\n",
    "\n",
    "for id in ids:\n",
    "    try:\n",
    "        visits = gfw.get_events(id, event_type='loitering')\n",
    "    except ConnectionError:\n",
    "        print(f'connection error at {id}')\n",
    "        time.sleep(10)\n",
    "    for entry in visits.get('entries'):\n",
    "        loitering.append(entry)"
   ]
  },
  {
   "cell_type": "code",
   "execution_count": null,
   "metadata": {},
   "outputs": [],
   "source": [
    "# Parse data\n",
    "\n",
    "loiterings = []\n",
    "\n",
    "for entry in loitering:\n",
    "    record_dict = {'start': entry.get('start'),\n",
    "                    'end': entry.get('end'),\n",
    "                    'id': entry.get('id'),\n",
    "                    'lat': entry.get('position').get('lat'),\n",
    "                    'lon': entry.get('position').get('lon'),\n",
    "                    'vessel_id': entry.get('vessel').get('id'),\n",
    "                    'vessel_name': entry.get('vessel').get('name'),\n",
    "                    'mmsi': entry.get('vessel').get('ssvid'),\n",
    "                    'loitering_hours': entry.get('loitering').get('totalTimeHours')\n",
    "                    }\n",
    "    loiterings.append(record_dict)\n",
    "\n",
    "df_loitering = pd.DataFrame(loiterings)\n",
    "\n",
    "# Write to file\n",
    "df_loitering.to_csv(PATH_DATA.joinpath('loitering.csv'), index=False)"
   ]
  },
  {
   "cell_type": "markdown",
   "metadata": {},
   "source": [
    "## Get AIS gaps"
   ]
  },
  {
   "cell_type": "code",
   "execution_count": null,
   "metadata": {},
   "outputs": [],
   "source": [
    "\n",
    "gaps = []\n",
    "\n",
    "for i, id in enumerate(ids):\n",
    "    try:\n",
    "        result = gfw.get_events(id, 'ais')\n",
    "    except ConnectionError:\n",
    "        print(f'Connection Error with {id}')\n",
    "        continue\n",
    "    for entry in gaps:\n",
    "        gaps.append(entry.get('entries'))\n",
    "    "
   ]
  }
 ],
 "metadata": {
  "kernelspec": {
   "display_name": "geo",
   "language": "python",
   "name": "geo"
  },
  "language_info": {
   "codemirror_mode": {
    "name": "ipython",
    "version": 3
   },
   "file_extension": ".py",
   "mimetype": "text/x-python",
   "name": "python",
   "nbconvert_exporter": "python",
   "pygments_lexer": "ipython3",
   "version": "3.10.13"
  }
 },
 "nbformat": 4,
 "nbformat_minor": 2
}
