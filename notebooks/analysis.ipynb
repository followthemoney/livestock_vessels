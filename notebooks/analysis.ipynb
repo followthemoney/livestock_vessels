{
 "cells": [
  {
   "cell_type": "code",
   "execution_count": 2,
   "metadata": {},
   "outputs": [],
   "source": [
    "import sys\n",
    "sys.path.append('../src/')\n",
    "\n",
    "%load_ext autoreload\n",
    "%autoreload 2"
   ]
  },
  {
   "cell_type": "code",
   "execution_count": null,
   "metadata": {},
   "outputs": [],
   "source": [
    "import pandas as pd\n",
    "from pathlib import Path\n",
    "import geopandas as gpd\n",
    "import hvplot.pandas\n",
    "from shapely.geometry import Polygon\n",
    "import hvplot\n",
    "from ast import literal_eval\n",
    "\n",
    "hvplot.extension('bokeh')"
   ]
  },
  {
   "cell_type": "code",
   "execution_count": 4,
   "metadata": {},
   "outputs": [],
   "source": [
    "PATH = Path.cwd().parent.joinpath('data')"
   ]
  },
  {
   "cell_type": "markdown",
   "metadata": {},
   "source": [
    "## Get selected vessels\n",
    "\n",
    "See voyages of Sarah M and Ganado Express including weather"
   ]
  },
  {
   "cell_type": "code",
   "execution_count": 4,
   "metadata": {},
   "outputs": [
    {
     "data": {
      "text/plain": [
       "6393"
      ]
     },
     "execution_count": 4,
     "metadata": {},
     "output_type": "execute_result"
    }
   ],
   "source": [
    "## Import vessels\n",
    "\n",
    "s = pd.read_csv(PATH.joinpath('gfw_tracks', 'sarahm.csv'))\n",
    "s['vessel'] = 'sarahm'\n",
    "g = pd.read_csv(PATH.joinpath('gfw_tracks', 'ganadoexpress.csv'))\n",
    "g['vessel'] = 'ganadoexpress'\n",
    "\n",
    "df = pd.concat([s, g])\n",
    "df.timestamp = pd.to_datetime(df.timestamp, unit='ms')\n",
    "df = df[df.timestamp > '2023-11-01'].copy()\n",
    "gdf = gpd.GeoDataFrame(df, geometry=gpd.points_from_xy(x=df.lon, y=df.lat), crs=4326)\n",
    "len(gdf)"
   ]
  },
  {
   "cell_type": "code",
   "execution_count": 12,
   "metadata": {},
   "outputs": [
    {
     "data": {
      "text/plain": [
       "427"
      ]
     },
     "execution_count": 12,
     "metadata": {},
     "output_type": "execute_result"
    }
   ],
   "source": [
    "# Import weather data\n",
    "\n",
    "w = pd.read_csv(PATH.joinpath('meteo', 'selected_vessels.csv'))\n",
    "w.timestamp = pd.to_datetime(w.timestamp, unit='ms')\n",
    "w = w[(w.timestamp < '2023-11-20') & (w.timestamp > '2023-11-09')].copy()\n",
    "cols = ['tempC', 'windspeedKmph']\n",
    "for col in cols:\n",
    "    w[col] = w[col].astype('int')\n",
    "w = gpd.GeoDataFrame(w, geometry=gpd.points_from_xy(x=w.lon, y=w.lat), crs=4326)\n",
    "len(w)"
   ]
  },
  {
   "cell_type": "code",
   "execution_count": 15,
   "metadata": {},
   "outputs": [],
   "source": [
    "w.to_csv(PATH.joinpath('meteo', 'vessels_for_viz.csv'), index=False)"
   ]
  },
  {
   "cell_type": "code",
   "execution_count": 13,
   "metadata": {},
   "outputs": [
    {
     "data": {},
     "metadata": {},
     "output_type": "display_data"
    },
    {
     "data": {
      "application/vnd.holoviews_exec.v0+json": "",
      "text/html": [
       "<div id='p1411'>\n",
       "  <div id=\"cf2a0b0d-b0cc-4db0-9a54-266f9c2ea60c\" data-root-id=\"p1411\" style=\"display: contents;\"></div>\n",
       "</div>\n",
       "<script type=\"application/javascript\">(function(root) {\n",
       "  var docs_json = {\"235c0c8a-3fa0-4838-8afe-85c6de79c2f4\":{\"version\":\"3.3.2\",\"title\":\"Bokeh Application\",\"roots\":[{\"type\":\"object\",\"name\":\"Row\",\"id\":\"p1411\",\"attributes\":{\"name\":\"Row02808\",\"tags\":[\"embedded\"],\"stylesheets\":[\"\\n:host(.pn-loading.pn-arc):before, .pn-loading.pn-arc:before {\\n  background-image: url(\\\"data:image/svg+xml;base64,PHN2ZyB4bWxucz0iaHR0cDovL3d3dy53My5vcmcvMjAwMC9zdmciIHN0eWxlPSJtYXJnaW46IGF1dG87IGJhY2tncm91bmQ6IG5vbmU7IGRpc3BsYXk6IGJsb2NrOyBzaGFwZS1yZW5kZXJpbmc6IGF1dG87IiB2aWV3Qm94PSIwIDAgMTAwIDEwMCIgcHJlc2VydmVBc3BlY3RSYXRpbz0ieE1pZFlNaWQiPiAgPGNpcmNsZSBjeD0iNTAiIGN5PSI1MCIgZmlsbD0ibm9uZSIgc3Ryb2tlPSIjYzNjM2MzIiBzdHJva2Utd2lkdGg9IjEwIiByPSIzNSIgc3Ryb2tlLWRhc2hhcnJheT0iMTY0LjkzMzYxNDMxMzQ2NDE1IDU2Ljk3Nzg3MTQzNzgyMTM4Ij4gICAgPGFuaW1hdGVUcmFuc2Zvcm0gYXR0cmlidXRlTmFtZT0idHJhbnNmb3JtIiB0eXBlPSJyb3RhdGUiIHJlcGVhdENvdW50PSJpbmRlZmluaXRlIiBkdXI9IjFzIiB2YWx1ZXM9IjAgNTAgNTA7MzYwIDUwIDUwIiBrZXlUaW1lcz0iMDsxIj48L2FuaW1hdGVUcmFuc2Zvcm0+ICA8L2NpcmNsZT48L3N2Zz4=\\\");\\n  background-size: auto calc(min(50%, 400px));\\n}\",{\"type\":\"object\",\"name\":\"ImportedStyleSheet\",\"id\":\"p1414\",\"attributes\":{\"url\":\"https://cdn.holoviz.org/panel/1.3.4/dist/css/loading.css\"}},{\"type\":\"object\",\"name\":\"ImportedStyleSheet\",\"id\":\"p1504\",\"attributes\":{\"url\":\"https://cdn.holoviz.org/panel/1.3.4/dist/css/listpanel.css\"}},{\"type\":\"object\",\"name\":\"ImportedStyleSheet\",\"id\":\"p1412\",\"attributes\":{\"url\":\"https://cdn.holoviz.org/panel/1.3.4/dist/bundled/theme/default.css\"}},{\"type\":\"object\",\"name\":\"ImportedStyleSheet\",\"id\":\"p1413\",\"attributes\":{\"url\":\"https://cdn.holoviz.org/panel/1.3.4/dist/bundled/theme/native.css\"}}],\"min_width\":800,\"margin\":0,\"sizing_mode\":\"stretch_width\",\"align\":\"start\",\"children\":[{\"type\":\"object\",\"name\":\"Spacer\",\"id\":\"p1415\",\"attributes\":{\"name\":\"HSpacer02819\",\"stylesheets\":[\"\\n:host(.pn-loading.pn-arc):before, .pn-loading.pn-arc:before {\\n  background-image: url(\\\"data:image/svg+xml;base64,PHN2ZyB4bWxucz0iaHR0cDovL3d3dy53My5vcmcvMjAwMC9zdmciIHN0eWxlPSJtYXJnaW46IGF1dG87IGJhY2tncm91bmQ6IG5vbmU7IGRpc3BsYXk6IGJsb2NrOyBzaGFwZS1yZW5kZXJpbmc6IGF1dG87IiB2aWV3Qm94PSIwIDAgMTAwIDEwMCIgcHJlc2VydmVBc3BlY3RSYXRpbz0ieE1pZFlNaWQiPiAgPGNpcmNsZSBjeD0iNTAiIGN5PSI1MCIgZmlsbD0ibm9uZSIgc3Ryb2tlPSIjYzNjM2MzIiBzdHJva2Utd2lkdGg9IjEwIiByPSIzNSIgc3Ryb2tlLWRhc2hhcnJheT0iMTY0LjkzMzYxNDMxMzQ2NDE1IDU2Ljk3Nzg3MTQzNzgyMTM4Ij4gICAgPGFuaW1hdGVUcmFuc2Zvcm0gYXR0cmlidXRlTmFtZT0idHJhbnNmb3JtIiB0eXBlPSJyb3RhdGUiIHJlcGVhdENvdW50PSJpbmRlZmluaXRlIiBkdXI9IjFzIiB2YWx1ZXM9IjAgNTAgNTA7MzYwIDUwIDUwIiBrZXlUaW1lcz0iMDsxIj48L2FuaW1hdGVUcmFuc2Zvcm0+ICA8L2NpcmNsZT48L3N2Zz4=\\\");\\n  background-size: auto calc(min(50%, 400px));\\n}\",{\"id\":\"p1414\"},{\"id\":\"p1412\"},{\"id\":\"p1413\"}],\"margin\":0,\"sizing_mode\":\"stretch_width\",\"align\":\"start\"}},{\"type\":\"object\",\"name\":\"Figure\",\"id\":\"p1444\",\"attributes\":{\"width\":800,\"margin\":[5,10],\"sizing_mode\":\"fixed\",\"align\":\"start\",\"x_range\":{\"type\":\"object\",\"name\":\"Range1d\",\"id\":\"p1425\",\"attributes\":{\"tags\":[[[\"Longitude\",\"Longitude\",null]],[]],\"start\":-2234627.3886185866,\"end\":2373512.7393845096,\"reset_start\":-2234627.3886185866,\"reset_end\":2373512.7393845096,\"min_interval\":5}},\"y_range\":{\"type\":\"object\",\"name\":\"Range1d\",\"id\":\"p1426\",\"attributes\":{\"tags\":[[[\"Latitude\",\"Latitude\",null]],{\"type\":\"map\",\"entries\":[[\"invert_yaxis\",false],[\"autorange\",false]]}],\"start\":4006613.9700162285,\"end\":7462719.066018551,\"reset_start\":4006613.9700162285,\"reset_end\":7462719.066018551,\"min_interval\":5}},\"x_scale\":{\"type\":\"object\",\"name\":\"LinearScale\",\"id\":\"p1454\"},\"y_scale\":{\"type\":\"object\",\"name\":\"LinearScale\",\"id\":\"p1455\"},\"title\":{\"type\":\"object\",\"name\":\"Title\",\"id\":\"p1447\",\"attributes\":{\"text_color\":\"black\",\"text_font_size\":\"12pt\"}},\"renderers\":[{\"type\":\"object\",\"name\":\"TileRenderer\",\"id\":\"p1477\",\"attributes\":{\"level\":\"underlay\",\"tile_source\":{\"type\":\"object\",\"name\":\"WMTSTileSource\",\"id\":\"p1473\",\"attributes\":{\"url\":\"https://c.tile.openstreetmap.org/{Z}/{X}/{Y}.png\",\"attribution\":\"&copy; <a href=\\\"https://www.openstreetmap.org/copyright\\\">OpenStreetMap</a> contributors\"}}}},{\"type\":\"object\",\"name\":\"GlyphRenderer\",\"id\":\"p1493\",\"attributes\":{\"data_source\":{\"type\":\"object\",\"name\":\"ColumnDataSource\",\"id\":\"p1482\",\"attributes\":{\"selected\":{\"type\":\"object\",\"name\":\"Selection\",\"id\":\"p1483\",\"attributes\":{\"indices\":[],\"line_indices\":[]}},\"selection_policy\":{\"type\":\"object\",\"name\":\"UnionRenderers\",\"id\":\"p1484\"},\"data\":{\"type\":\"map\",\"entries\":[[\"Longitude\",{\"type\":\"ndarray\",\"array\":{\"type\":\"bytes\",\"data\":\"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\"},\"shape\":[217],\"dtype\":\"float64\",\"order\":\"little\"}],[\"Latitude\",{\"type\":\"ndarray\",\"array\":{\"type\":\"bytes\",\"data\":\"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\"},\"shape\":[217],\"dtype\":\"float64\",\"order\":\"little\"}],[\"windspeedKmph\",{\"type\":\"ndarray\",\"array\":{\"type\":\"bytes\",\"data\":\"IwAAACMAAAAjAAAAGAAAABgAAAAYAAAAHgAAACUAAAAlAAAAKQAAACkAAAAoAAAAKAAAACgAAAAmAAAAJgAAACQAAAAkAAAAGQAAABsAAAAbAAAAGwAAABsAAAARAAAAEQAAABEAAAARAAAAHwAAAB8AAAASAAAAEgAAABIAAAASAAAAEQAAABEAAAARAAAAEQAAAAkAAAAJAAAACQAAAAkAAAAJAAAABgAAAAYAAAAGAAAABgAAACIAAAAiAAAAJAAAACQAAAAkAAAAGwAAABIAAAATAAAAEwAAABIAAAASAAAAHAAAABwAAAAcAAAAFgAAABYAAAAWAAAAFgAAAA4AAAAOAAAACgAAAAoAAAAKAAAABgAAAA4AAAAOAAAADwAAAA4AAAAOAAAAEwAAABcAAAAXAAAAFwAAABkAAAAcAAAAHAAAABwAAAAcAAAAHAAAACYAAAAmAAAAJgAAACYAAAAmAAAAMQAAADEAAAA0AAAANAAAADQAAAAyAAAAMgAAADIAAAAtAAAALQAAAC0AAAAtAAAALQAAACgAAAAoAAAAEgAAABIAAAASAAAAEgAAABIAAAASAAAAEgAAABIAAAAoAAAAEwAAABMAAAATAAAAEwAAACIAAAAiAAAAIgAAACIAAAAiAAAAJAAAACQAAAAkAAAAJAAAACUAAAAqAAAAKgAAACoAAAAqAAAALAAAACwAAAAsAAAAFgAAABIAAAASAAAAFQAAABUAAAAVAAAAEgAAABIAAAASAAAAFAAAABQAAAAUAAAALQAAACQAAAArAAAAKwAAACkAAAAsAAAALAAAADQAAAA0AAAANAAAAD0AAAA9AAAAPQAAADYAAAA2AAAALQAAAC0AAAAtAAAAJQAAACUAAAAlAAAALgAAAC4AAAAuAAAALwAAAC0AAAAtAAAALQAAAC0AAAAhAAAAIQAAACEAAAAhAAAAIQAAACEAAAAhAAAAHwAAAB8AAAAYAAAAGAAAABgAAAAYAAAAGAAAABIAAAASAAAAEgAAABIAAAAVAAAAFQAAACEAAAAhAAAAIQAAACEAAAAUAAAAFAAAABQAAAAUAAAAEgAAABIAAAAUAAAAFAAAAA0AAAANAAAACAAAAAgAAAAFAAAABQAAAA0AAAANAAAADQAAAA==\"},\"shape\":[217],\"dtype\":\"int32\",\"order\":\"little\"}],[\"vessel\",[\"ganadoexpress\",\"ganadoexpress\",\"ganadoexpress\",\"ganadoexpress\",\"ganadoexpress\",\"ganadoexpress\",\"ganadoexpress\",\"ganadoexpress\",\"ganadoexpress\",\"ganadoexpress\",\"ganadoexpress\",\"ganadoexpress\",\"ganadoexpress\",\"ganadoexpress\",\"ganadoexpress\",\"ganadoexpress\",\"ganadoexpress\",\"ganadoexpress\",\"ganadoexpress\",\"ganadoexpress\",\"ganadoexpress\",\"ganadoexpress\",\"ganadoexpress\",\"ganadoexpress\",\"ganadoexpress\",\"ganadoexpress\",\"ganadoexpress\",\"ganadoexpress\",\"ganadoexpress\",\"ganadoexpress\",\"ganadoexpress\",\"ganadoexpress\",\"ganadoexpress\",\"ganadoexpress\",\"ganadoexpress\",\"ganadoexpress\",\"ganadoexpress\",\"ganadoexpress\",\"ganadoexpress\",\"ganadoexpress\",\"ganadoexpress\",\"ganadoexpress\",\"ganadoexpress\",\"ganadoexpress\",\"ganadoexpress\",\"ganadoexpress\",\"ganadoexpress\",\"ganadoexpress\",\"ganadoexpress\",\"ganadoexpress\",\"ganadoexpress\",\"ganadoexpress\",\"ganadoexpress\",\"ganadoexpress\",\"ganadoexpress\",\"ganadoexpress\",\"ganadoexpress\",\"ganadoexpress\",\"ganadoexpress\",\"ganadoexpress\",\"ganadoexpress\",\"ganadoexpress\",\"ganadoexpress\",\"ganadoexpress\",\"ganadoexpress\",\"ganadoexpress\",\"ganadoexpress\",\"ganadoexpress\",\"ganadoexpress\",\"ganadoexpress\",\"ganadoexpress\",\"ganadoexpress\",\"ganadoexpress\",\"ganadoexpress\",\"ganadoexpress\",\"ganadoexpress\",\"ganadoexpress\",\"ganadoexpress\",\"ganadoexpress\",\"ganadoexpress\",\"ganadoexpress\",\"ganadoexpress\",\"ganadoexpress\",\"ganadoexpress\",\"ganadoexpress\",\"ganadoexpress\",\"ganadoexpress\",\"ganadoexpress\",\"ganadoexpress\",\"ganadoexpress\",\"ganadoexpress\",\"ganadoexpress\",\"ganadoexpress\",\"ganadoexpress\",\"ganadoexpress\",\"ganadoexpress\",\"ganadoexpress\",\"ganadoexpress\",\"ganadoexpress\",\"ganadoexpress\",\"ganadoexpress\",\"ganadoexpress\",\"ganadoexpress\",\"ganadoexpress\",\"ganadoexpress\",\"ganadoexpress\",\"ganadoexpress\",\"ganadoexpress\",\"ganadoexpress\",\"ganadoexpress\",\"ganadoexpress\",\"ganadoexpress\",\"ganadoexpress\",\"ganadoexpress\",\"ganadoexpress\",\"ganadoexpress\",\"ganadoexpress\",\"ganadoexpress\",\"ganadoexpress\",\"ganadoexpress\",\"ganadoexpress\",\"ganadoexpress\",\"ganadoexpress\",\"ganadoexpress\",\"ganadoexpress\",\"ganadoexpress\",\"ganadoexpress\",\"ganadoexpress\",\"ganadoexpress\",\"ganadoexpress\",\"ganadoexpress\",\"ganadoexpress\",\"ganadoexpress\",\"ganadoexpress\",\"ganadoexpress\",\"ganadoexpress\",\"ganadoexpress\",\"ganadoexpress\",\"ganadoexpress\",\"ganadoexpress\",\"ganadoexpress\",\"ganadoexpress\",\"ganadoexpress\",\"ganadoexpress\",\"ganadoexpress\",\"ganadoexpress\",\"ganadoexpress\",\"ganadoexpress\",\"ganadoexpress\",\"ganadoexpress\",\"ganadoexpress\",\"ganadoexpress\",\"ganadoexpress\",\"ganadoexpress\",\"ganadoexpress\",\"ganadoexpress\",\"ganadoexpress\",\"ganadoexpress\",\"ganadoexpress\",\"ganadoexpress\",\"ganadoexpress\",\"ganadoexpress\",\"ganadoexpress\",\"ganadoexpress\",\"ganadoexpress\",\"ganadoexpress\",\"ganadoexpress\",\"ganadoexpress\",\"ganadoexpress\",\"ganadoexpress\",\"ganadoexpress\",\"ganadoexpress\",\"ganadoexpress\",\"ganadoexpress\",\"ganadoexpress\",\"ganadoexpress\",\"ganadoexpress\",\"ganadoexpress\",\"ganadoexpress\",\"ganadoexpress\",\"ganadoexpress\",\"ganadoexpress\",\"ganadoexpress\",\"ganadoexpress\",\"ganadoexpress\",\"ganadoexpress\",\"ganadoexpress\",\"ganadoexpress\",\"ganadoexpress\",\"ganadoexpress\",\"ganadoexpress\",\"ganadoexpress\",\"ganadoexpress\",\"ganadoexpress\",\"ganadoexpress\",\"ganadoexpress\",\"ganadoexpress\",\"ganadoexpress\",\"ganadoexpress\",\"ganadoexpress\",\"ganadoexpress\",\"ganadoexpress\",\"ganadoexpress\",\"ganadoexpress\",\"ganadoexpress\",\"ganadoexpress\",\"ganadoexpress\",\"ganadoexpress\",\"ganadoexpress\",\"ganadoexpress\",\"ganadoexpress\",\"ganadoexpress\",\"ganadoexpress\",\"ganadoexpress\",\"ganadoexpress\",\"ganadoexpress\",\"ganadoexpress\"]],[\"timestamp\",{\"type\":\"ndarray\",\"array\":{\"type\":\"bytes\",\"data\":\"AIDyLxa7eEIAgLeJGrt4QgAAGB8du3hCAIAskSC7eEIAADzpJLt4QgAACownu3hCAACveTC7eEIAgMUyNrt4QgCA4cg4u3hCAIBRJ0K7eEIAgOWdRrt4QgAAqkBLu3hCAAAUTU27eEIAgD/QULt4QgAAHUhYu3hCAIB33lq7eEIAgL69Ybt4QgCACVtlu3hCAIDhH2m7eEIAgFtNbLt4QgCANlZvu3hCAADPL3O7eEIAAFRwdrt4QgAAoeN5u3hCAACnyn27eEIAgKJVgbt4QgAAw8WEu3hCAADVLYi7eEIAgJspjLt4QgCAmq+Ou3hCAICewJK7eEIAAMwZlrt4QgCA95yZu3hCAIB1+Zu7eEIAAMV2n7t4QgAAVq+ju3hCAIDZU6a7eEIAgLW+qrt4QgAAh1atu3hCAACk0bC7eEIAAM8gtLt4QgAAc0G4u3hCAADaA7y7eEIAgEf/vrt4QgCAVT7Cu3hCAACTQcW7eEIAAPzZyLt4QgCA7bPNu3hCAIC7VtC7eEIAAIFt07t4QgCAiWTWu3hCAACfwdm7eEIAgM5t3bt4QgAAhi3hu3hCAICZN+S7eEIAgGmk6Lt4QgCANAPsu3hCAIDNme67eEIAAIcv8rt4QgCAUyr2u3hCAIC8wvm7eEIAgLtC/bt4QgAA4cABvHhCAIABugO8eEIAgIuRBrx4QgCAJYQLvHhCAIAEMw+8eEIAAKQCEbx4QgAAfp0UvHhCAACPFBm8eEIAgIb/Grx4QgAAPGwevHhCAIDnqiK8eEIAAKSEJbx4QgAAUP0ovHhCAIBQli28eEIAgKilL7x4QgAAZ08zvHhCAICIJze8eEIAAFsnOrx4QgCAV509vHhCAABOFEG8eEIAgA0mRbx4QgCA15lIvHhCAAA0AEy8eEIAAP2IT7x4QgCAjvtSvHhCAIDZG1a8eEIAAHj6WLx4QgAAcJBcvHhCAAA8V2C8eEIAgOrZY7x4QgAAh19nvHhCAADhPmq8eEIAAIG5bbx4QgAA5NVwvHhCAABtP3S8eEIAgE2KeLx4QgCAJrd8vHhCAIDrn368eEIAgOqWg7x4QgCAaHaFvHhCAIC76Ii8eEIAgBcVjbx4QgAAY2ORvHhCAAAoTJO8eEIAgL1emLx4QgAAT1qavHhCAIDRkJ28eEIAgGsMobx4QgCArs6lvHhCAIB4SKi8eEIAgNc7q7x4QgCAk0yxvHhCAIDEI7O8eEIAADrutrx4QgAAjem4vHhCAICHg728eEIAAFkbwLx4QgCAqmjEvHhCAAB1Fse8eEIAAHSWyrx4QgCA8iDOvHhCAAD7lNG8eEIAgPcK1bx4QgAAd+vbvHhCAID1aeG8eEIAAJky67x4QgCAsc3uvHhCAABpjfK8eEIAAE5H9Lx4QgCAVdb2vHhCAAD6rfq8eEIAABcp/rx4QgCAfTQCvXhCAACAJga9eEIAgMfICr14QgAAv60NvXhCAICJ0hG9eEIAgNIiFL14QgCAsPIVvXhCAADi8Rm9eEIAgLKYHb14QgAAS/sfvXhCAIAUsiS9eEIAgGiGKb14QgAAahwrvXhCAIBhGae9eEIAAPilqb14QgAAn4etvXhCAICTKLG9eEIAgKdmtL14QgAATMG3vXhCAABnZru9eEIAgEc6vr14QgAAza7BvXhCAIBWw8a9eEIAgIEMy714QgCAY3zOvXhCAAD/FtK9eEIAgKKG1b14QgCAOq/YvXhCAADFN9y9eEIAgGDS3714QgAAbfjhvXhCAIB21OW9eEIAgMdw6b14QgAAkhLuvXhCAAByrPG9eEIAAH8A9b14QgAA+/34vXhCAADe1fy9eEIAAPVLAb54QgCAiucEvnhCAIC0vAq+eEIAgBksDr54QgAAN1ITvnhCAABSAxW+eEIAAPeXF754QgCAqqsbvnhCAIDTJB++eEIAgFq+Ib54QgAA+KslvnhCAABZdSi+eEIAAKg7LL54QgAAPDUwvnhCAADBdTO+eEIAgAE0N754QgCA+N46vnhCAAAXAj2+eEIAgBN4QL54QgAAt+dDvnhCAAAXQ0e+eEIAAACXS754QgCA9ShOvnhCAAALhlG+eEIAgAQpWL54QgCADctcvnhCAIDV61++eEIAAHH3Zb54QgCAVuVnvnhCAIDVqWq+eEIAgHAQbr54QgCAFaVwvnhCAAAabXS+eEIAgJW5d754QgAABJp7vnhCAIBqLn6+eEIAgJgyg754QgAAUlGFvnhCAIAng4q+eEIAAJ5EjL54QgCAFWKQvnhCAIDLApS+eEIAgOeYlr54QgCAnTmavnhCAAAwGp2+eEI=\"},\"shape\":[217],\"dtype\":\"float64\",\"order\":\"little\"}],[\"color\",{\"type\":\"ndarray\",\"array\":{\"type\":\"bytes\",\"data\":\"IwAAACMAAAAjAAAAGAAAABgAAAAYAAAAHgAAACUAAAAlAAAAKQAAACkAAAAoAAAAKAAAACgAAAAmAAAAJgAAACQAAAAkAAAAGQAAABsAAAAbAAAAGwAAABsAAAARAAAAEQAAABEAAAARAAAAHwAAAB8AAAASAAAAEgAAABIAAAASAAAAEQAAABEAAAARAAAAEQAAAAkAAAAJAAAACQAAAAkAAAAJAAAABgAAAAYAAAAGAAAABgAAACIAAAAiAAAAJAAAACQAAAAkAAAAGwAAABIAAAATAAAAEwAAABIAAAASAAAAHAAAABwAAAAcAAAAFgAAABYAAAAWAAAAFgAAAA4AAAAOAAAACgAAAAoAAAAKAAAABgAAAA4AAAAOAAAADwAAAA4AAAAOAAAAEwAAABcAAAAXAAAAFwAAABkAAAAcAAAAHAAAABwAAAAcAAAAHAAAACYAAAAmAAAAJgAAACYAAAAmAAAAMQAAADEAAAA0AAAANAAAADQAAAAyAAAAMgAAADIAAAAtAAAALQAAAC0AAAAtAAAALQAAACgAAAAoAAAAEgAAABIAAAASAAAAEgAAABIAAAASAAAAEgAAABIAAAAoAAAAEwAAABMAAAATAAAAEwAAACIAAAAiAAAAIgAAACIAAAAiAAAAJAAAACQAAAAkAAAAJAAAACUAAAAqAAAAKgAAACoAAAAqAAAALAAAACwAAAAsAAAAFgAAABIAAAASAAAAFQAAABUAAAAVAAAAEgAAABIAAAASAAAAFAAAABQAAAAUAAAALQAAACQAAAArAAAAKwAAACkAAAAsAAAALAAAADQAAAA0AAAANAAAAD0AAAA9AAAAPQAAADYAAAA2AAAALQAAAC0AAAAtAAAAJQAAACUAAAAlAAAALgAAAC4AAAAuAAAALwAAAC0AAAAtAAAALQAAAC0AAAAhAAAAIQAAACEAAAAhAAAAIQAAACEAAAAhAAAAHwAAAB8AAAAYAAAAGAAAABgAAAAYAAAAGAAAABIAAAASAAAAEgAAABIAAAAVAAAAFQAAACEAAAAhAAAAIQAAACEAAAAUAAAAFAAAABQAAAAUAAAAEgAAABIAAAAUAAAAFAAAAA0AAAANAAAACAAAAAgAAAAFAAAABQAAAA0AAAANAAAADQAAAA==\"},\"shape\":[217],\"dtype\":\"int32\",\"order\":\"little\"}]]}}},\"view\":{\"type\":\"object\",\"name\":\"CDSView\",\"id\":\"p1494\",\"attributes\":{\"filter\":{\"type\":\"object\",\"name\":\"AllIndices\",\"id\":\"p1495\"}}},\"glyph\":{\"type\":\"object\",\"name\":\"Scatter\",\"id\":\"p1488\",\"attributes\":{\"tags\":[\"apply_ranges\"],\"x\":{\"type\":\"field\",\"field\":\"Longitude\"},\"y\":{\"type\":\"field\",\"field\":\"Latitude\"},\"size\":{\"type\":\"value\",\"value\":5.477225575051661},\"line_color\":{\"type\":\"field\",\"field\":\"color\",\"transform\":{\"type\":\"object\",\"name\":\"LinearColorMapper\",\"id\":\"p1481\",\"attributes\":{\"palette\":[\"#000000\",\"#060000\",\"#0d0000\",\"#120000\",\"#160000\",\"#190000\",\"#1c0000\",\"#1f0000\",\"#220000\",\"#240000\",\"#260000\",\"#280000\",\"#2b0000\",\"#2d0000\",\"#2e0000\",\"#300000\",\"#320000\",\"#340000\",\"#350000\",\"#370000\",\"#380000\",\"#3a0000\",\"#3b0000\",\"#3d0000\",\"#3e0000\",\"#400000\",\"#410000\",\"#430000\",\"#440000\",\"#460000\",\"#470000\",\"#490000\",\"#4a0000\",\"#4c0000\",\"#4d0000\",\"#4f0000\",\"#500000\",\"#520000\",\"#530000\",\"#550000\",\"#560000\",\"#580000\",\"#590100\",\"#5b0100\",\"#5d0100\",\"#5e0100\",\"#600100\",\"#610100\",\"#630100\",\"#650100\",\"#660100\",\"#680100\",\"#690100\",\"#6b0100\",\"#6d0100\",\"#6e0100\",\"#700100\",\"#710100\",\"#730100\",\"#750100\",\"#760100\",\"#780200\",\"#7a0200\",\"#7b0200\",\"#7d0200\",\"#7f0200\",\"#800200\",\"#820200\",\"#840200\",\"#850200\",\"#870200\",\"#890200\",\"#8a0200\",\"#8c0300\",\"#8e0300\",\"#900300\",\"#910300\",\"#930300\",\"#950300\",\"#960300\",\"#980300\",\"#9a0300\",\"#9c0300\",\"#9d0400\",\"#9f0400\",\"#a10400\",\"#a20400\",\"#a40400\",\"#a60400\",\"#a80400\",\"#a90400\",\"#ab0500\",\"#ad0500\",\"#af0500\",\"#b00500\",\"#b20500\",\"#b40500\",\"#b60600\",\"#b80600\",\"#b90600\",\"#bb0600\",\"#bd0600\",\"#bf0700\",\"#c00700\",\"#c20700\",\"#c40700\",\"#c60800\",\"#c80800\",\"#c90800\",\"#cb0800\",\"#cd0900\",\"#cf0900\",\"#d10900\",\"#d20a00\",\"#d40a00\",\"#d60a00\",\"#d80b00\",\"#da0b00\",\"#db0c00\",\"#dd0c00\",\"#df0d00\",\"#e10d00\",\"#e30e00\",\"#e40f00\",\"#e60f00\",\"#e81000\",\"#ea1100\",\"#eb1300\",\"#ed1400\",\"#ee1600\",\"#f01800\",\"#f11b00\",\"#f21d00\",\"#f32000\",\"#f52300\",\"#f62600\",\"#f62900\",\"#f72c00\",\"#f82f00\",\"#f93200\",\"#f93500\",\"#fa3800\",\"#fa3b00\",\"#fb3d00\",\"#fb4000\",\"#fb4300\",\"#fc4600\",\"#fc4900\",\"#fc4b00\",\"#fd4e00\",\"#fd5100\",\"#fd5300\",\"#fd5600\",\"#fd5800\",\"#fe5b00\",\"#fe5d00\",\"#fe5f00\",\"#fe6200\",\"#fe6400\",\"#fe6600\",\"#fe6800\",\"#fe6b00\",\"#fe6d00\",\"#fe6f00\",\"#fe7100\",\"#fe7300\",\"#fe7500\",\"#fe7700\",\"#fe7900\",\"#fe7c00\",\"#ff7e00\",\"#ff8000\",\"#ff8200\",\"#ff8300\",\"#ff8500\",\"#ff8700\",\"#ff8900\",\"#ff8b00\",\"#ff8d00\",\"#ff8f00\",\"#ff9100\",\"#ff9300\",\"#ff9400\",\"#ff9600\",\"#ff9800\",\"#ff9a00\",\"#ff9c00\",\"#ff9d00\",\"#ff9f00\",\"#ffa100\",\"#ffa300\",\"#ffa401\",\"#ffa601\",\"#ffa801\",\"#ffaa01\",\"#ffab01\",\"#ffad01\",\"#ffaf01\",\"#ffb001\",\"#ffb202\",\"#ffb402\",\"#ffb502\",\"#ffb702\",\"#ffb902\",\"#ffba02\",\"#ffbc03\",\"#ffbd03\",\"#ffbf03\",\"#ffc103\",\"#ffc204\",\"#ffc404\",\"#ffc604\",\"#ffc704\",\"#ffc905\",\"#ffca05\",\"#ffcc05\",\"#ffce06\",\"#ffcf06\",\"#ffd106\",\"#ffd207\",\"#ffd407\",\"#ffd508\",\"#ffd708\",\"#ffd909\",\"#ffda09\",\"#ffdc0a\",\"#ffdd0a\",\"#ffdf0b\",\"#ffe00b\",\"#ffe20c\",\"#ffe30d\",\"#ffe50e\",\"#ffe60f\",\"#ffe810\",\"#ffea11\",\"#ffeb12\",\"#ffed14\",\"#ffee17\",\"#fff01a\",\"#fff11e\",\"#fff324\",\"#fff42a\",\"#fff532\",\"#fff73b\",\"#fff847\",\"#fff953\",\"#fffb62\",\"#fffb72\",\"#fffc83\",\"#fffd95\",\"#fffea8\",\"#fffeba\",\"#fffecc\",\"#fffede\",\"#fffeee\",\"#ffffff\"],\"low\":5,\"high\":61}}},\"fill_color\":{\"type\":\"field\",\"field\":\"color\",\"transform\":{\"id\":\"p1481\"}},\"hatch_color\":{\"type\":\"field\",\"field\":\"color\",\"transform\":{\"id\":\"p1481\"}}}},\"selection_glyph\":{\"type\":\"object\",\"name\":\"Scatter\",\"id\":\"p1490\",\"attributes\":{\"tags\":[\"apply_ranges\"],\"x\":{\"type\":\"field\",\"field\":\"Longitude\"},\"y\":{\"type\":\"field\",\"field\":\"Latitude\"},\"size\":{\"type\":\"value\",\"value\":5.477225575051661},\"line_color\":{\"type\":\"field\",\"field\":\"color\",\"transform\":{\"id\":\"p1481\"}},\"fill_color\":{\"type\":\"field\",\"field\":\"color\",\"transform\":{\"id\":\"p1481\"}},\"hatch_color\":{\"type\":\"field\",\"field\":\"color\",\"transform\":{\"id\":\"p1481\"}}}},\"nonselection_glyph\":{\"type\":\"object\",\"name\":\"Scatter\",\"id\":\"p1489\",\"attributes\":{\"tags\":[\"apply_ranges\"],\"x\":{\"type\":\"field\",\"field\":\"Longitude\"},\"y\":{\"type\":\"field\",\"field\":\"Latitude\"},\"size\":{\"type\":\"value\",\"value\":5.477225575051661},\"line_color\":{\"type\":\"field\",\"field\":\"color\",\"transform\":{\"id\":\"p1481\"}},\"line_alpha\":{\"type\":\"value\",\"value\":0.1},\"fill_color\":{\"type\":\"field\",\"field\":\"color\",\"transform\":{\"id\":\"p1481\"}},\"fill_alpha\":{\"type\":\"value\",\"value\":0.1},\"hatch_color\":{\"type\":\"field\",\"field\":\"color\",\"transform\":{\"id\":\"p1481\"}},\"hatch_alpha\":{\"type\":\"value\",\"value\":0.1}}},\"hover_glyph\":{\"type\":\"object\",\"name\":\"Scatter\",\"id\":\"p1491\",\"attributes\":{\"tags\":[\"apply_ranges\"],\"x\":{\"type\":\"field\",\"field\":\"Longitude\"},\"y\":{\"type\":\"field\",\"field\":\"Latitude\"},\"size\":{\"type\":\"value\",\"value\":5.477225575051661},\"line_color\":{\"type\":\"field\",\"field\":\"color\",\"transform\":{\"id\":\"p1481\"}},\"fill_color\":{\"type\":\"field\",\"field\":\"color\",\"transform\":{\"id\":\"p1481\"}},\"hatch_color\":{\"type\":\"field\",\"field\":\"color\",\"transform\":{\"id\":\"p1481\"}}}},\"muted_glyph\":{\"type\":\"object\",\"name\":\"Scatter\",\"id\":\"p1492\",\"attributes\":{\"tags\":[\"apply_ranges\"],\"x\":{\"type\":\"field\",\"field\":\"Longitude\"},\"y\":{\"type\":\"field\",\"field\":\"Latitude\"},\"size\":{\"type\":\"value\",\"value\":5.477225575051661},\"line_color\":{\"type\":\"field\",\"field\":\"color\",\"transform\":{\"id\":\"p1481\"}},\"line_alpha\":{\"type\":\"value\",\"value\":0.2},\"fill_color\":{\"type\":\"field\",\"field\":\"color\",\"transform\":{\"id\":\"p1481\"}},\"fill_alpha\":{\"type\":\"value\",\"value\":0.2},\"hatch_color\":{\"type\":\"field\",\"field\":\"color\",\"transform\":{\"id\":\"p1481\"}},\"hatch_alpha\":{\"type\":\"value\",\"value\":0.2}}}}}],\"toolbar\":{\"type\":\"object\",\"name\":\"Toolbar\",\"id\":\"p1453\",\"attributes\":{\"tools\":[{\"type\":\"object\",\"name\":\"WheelZoomTool\",\"id\":\"p1429\",\"attributes\":{\"renderers\":\"auto\",\"zoom_on_axis\":false}},{\"type\":\"object\",\"name\":\"BoxZoomTool\",\"id\":\"p1430\",\"attributes\":{\"overlay\":{\"type\":\"object\",\"name\":\"BoxAnnotation\",\"id\":\"p1006\",\"attributes\":{\"syncable\":false,\"level\":\"overlay\",\"visible\":false,\"left\":{\"type\":\"number\",\"value\":\"nan\"},\"right\":{\"type\":\"number\",\"value\":\"nan\"},\"top\":{\"type\":\"number\",\"value\":\"nan\"},\"bottom\":{\"type\":\"number\",\"value\":\"nan\"},\"left_units\":\"canvas\",\"right_units\":\"canvas\",\"top_units\":\"canvas\",\"bottom_units\":\"canvas\",\"line_color\":\"black\",\"line_alpha\":1.0,\"line_width\":2,\"line_dash\":[4,4],\"fill_color\":\"lightgrey\",\"fill_alpha\":0.5}},\"match_aspect\":true}},{\"type\":\"object\",\"name\":\"HoverTool\",\"id\":\"p1443\",\"attributes\":{\"tags\":[\"hv_created\"],\"renderers\":[{\"id\":\"p1493\"}],\"tooltips\":[[\"Longitude\",\"$x{custom}\"],[\"Latitude\",\"$y{custom}\"],[\"windspeedKmph\",\"@{windspeedKmph}\"],[\"vessel\",\"@{vessel}\"],[\"timestamp\",\"@{timestamp}{%F %T}\"]],\"formatters\":{\"type\":\"map\",\"entries\":[[\"$x\",{\"type\":\"object\",\"name\":\"CustomJSHover\",\"id\":\"p1479\",\"attributes\":{\"code\":\"\\n        const projections = Bokeh.require(\\\"core/util/projections\\\");\\n        const {snap_x, snap_y} = special_vars\\n        const coords = projections.wgs84_mercator.invert(snap_x, snap_y)\\n        return \\\"\\\" + (coords[0]).toFixed(4)\\n    \"}}],[\"$y\",{\"type\":\"object\",\"name\":\"CustomJSHover\",\"id\":\"p1480\",\"attributes\":{\"code\":\"\\n        const projections = Bokeh.require(\\\"core/util/projections\\\");\\n        const {snap_x, snap_y} = special_vars\\n        const coords = projections.wgs84_mercator.invert(snap_x, snap_y)\\n        return \\\"\\\" + (coords[1]).toFixed(4)\\n    \"}}],[\"@{timestamp}\",\"datetime\"]]}}},{\"type\":\"object\",\"name\":\"PanTool\",\"id\":\"p1467\"},{\"type\":\"object\",\"name\":\"ResetTool\",\"id\":\"p1468\"}],\"active_drag\":{\"id\":\"p1430\"},\"active_scroll\":{\"id\":\"p1429\"}}},\"left\":[{\"type\":\"object\",\"name\":\"LinearAxis\",\"id\":\"p1461\",\"attributes\":{\"ticker\":{\"type\":\"object\",\"name\":\"MercatorTicker\",\"id\":\"p1471\",\"attributes\":{\"mantissas\":[1,2,5],\"dimension\":\"lat\"}},\"formatter\":{\"type\":\"object\",\"name\":\"MercatorTickFormatter\",\"id\":\"p1472\",\"attributes\":{\"dimension\":\"lat\"}},\"axis_label\":\"Latitude\",\"major_label_policy\":{\"type\":\"object\",\"name\":\"AllLabels\",\"id\":\"p1464\"}}}],\"right\":[{\"type\":\"object\",\"name\":\"ColorBar\",\"id\":\"p1497\",\"attributes\":{\"location\":[0,0],\"ticker\":{\"type\":\"object\",\"name\":\"BasicTicker\",\"id\":\"p1496\",\"attributes\":{\"mantissas\":[1,2,5]}},\"major_label_policy\":{\"type\":\"object\",\"name\":\"NoOverlap\",\"id\":\"p1498\"},\"label_standoff\":8,\"major_tick_line_color\":\"black\",\"bar_line_color\":\"black\",\"color_mapper\":{\"id\":\"p1481\"}}}],\"below\":[{\"type\":\"object\",\"name\":\"LinearAxis\",\"id\":\"p1456\",\"attributes\":{\"ticker\":{\"type\":\"object\",\"name\":\"MercatorTicker\",\"id\":\"p1469\",\"attributes\":{\"mantissas\":[1,2,5],\"dimension\":\"lon\"}},\"formatter\":{\"type\":\"object\",\"name\":\"MercatorTickFormatter\",\"id\":\"p1470\",\"attributes\":{\"dimension\":\"lon\"}},\"axis_label\":\"Longitude\",\"major_label_policy\":{\"type\":\"object\",\"name\":\"AllLabels\",\"id\":\"p1459\"}}}],\"center\":[{\"type\":\"object\",\"name\":\"Grid\",\"id\":\"p1460\",\"attributes\":{\"axis\":{\"id\":\"p1456\"},\"grid_line_color\":null}},{\"type\":\"object\",\"name\":\"Grid\",\"id\":\"p1465\",\"attributes\":{\"dimension\":1,\"axis\":{\"id\":\"p1461\"},\"grid_line_color\":null}}],\"frame_width\":800,\"frame_height\":600,\"min_border_top\":10,\"min_border_bottom\":10,\"min_border_left\":10,\"min_border_right\":10,\"output_backend\":\"webgl\",\"match_aspect\":true}},{\"type\":\"object\",\"name\":\"Spacer\",\"id\":\"p1502\",\"attributes\":{\"name\":\"HSpacer02822\",\"stylesheets\":[\"\\n:host(.pn-loading.pn-arc):before, .pn-loading.pn-arc:before {\\n  background-image: url(\\\"data:image/svg+xml;base64,PHN2ZyB4bWxucz0iaHR0cDovL3d3dy53My5vcmcvMjAwMC9zdmciIHN0eWxlPSJtYXJnaW46IGF1dG87IGJhY2tncm91bmQ6IG5vbmU7IGRpc3BsYXk6IGJsb2NrOyBzaGFwZS1yZW5kZXJpbmc6IGF1dG87IiB2aWV3Qm94PSIwIDAgMTAwIDEwMCIgcHJlc2VydmVBc3BlY3RSYXRpbz0ieE1pZFlNaWQiPiAgPGNpcmNsZSBjeD0iNTAiIGN5PSI1MCIgZmlsbD0ibm9uZSIgc3Ryb2tlPSIjYzNjM2MzIiBzdHJva2Utd2lkdGg9IjEwIiByPSIzNSIgc3Ryb2tlLWRhc2hhcnJheT0iMTY0LjkzMzYxNDMxMzQ2NDE1IDU2Ljk3Nzg3MTQzNzgyMTM4Ij4gICAgPGFuaW1hdGVUcmFuc2Zvcm0gYXR0cmlidXRlTmFtZT0idHJhbnNmb3JtIiB0eXBlPSJyb3RhdGUiIHJlcGVhdENvdW50PSJpbmRlZmluaXRlIiBkdXI9IjFzIiB2YWx1ZXM9IjAgNTAgNTA7MzYwIDUwIDUwIiBrZXlUaW1lcz0iMDsxIj48L2FuaW1hdGVUcmFuc2Zvcm0+ICA8L2NpcmNsZT48L3N2Zz4=\\\");\\n  background-size: auto calc(min(50%, 400px));\\n}\",{\"id\":\"p1414\"},{\"id\":\"p1412\"},{\"id\":\"p1413\"}],\"margin\":0,\"sizing_mode\":\"stretch_width\",\"align\":\"start\"}}]}}],\"defs\":[{\"type\":\"model\",\"name\":\"ReactiveHTML1\"},{\"type\":\"model\",\"name\":\"FlexBox1\",\"properties\":[{\"name\":\"align_content\",\"kind\":\"Any\",\"default\":\"flex-start\"},{\"name\":\"align_items\",\"kind\":\"Any\",\"default\":\"flex-start\"},{\"name\":\"flex_direction\",\"kind\":\"Any\",\"default\":\"row\"},{\"name\":\"flex_wrap\",\"kind\":\"Any\",\"default\":\"wrap\"},{\"name\":\"justify_content\",\"kind\":\"Any\",\"default\":\"flex-start\"}]},{\"type\":\"model\",\"name\":\"FloatPanel1\",\"properties\":[{\"name\":\"config\",\"kind\":\"Any\",\"default\":{\"type\":\"map\"}},{\"name\":\"contained\",\"kind\":\"Any\",\"default\":true},{\"name\":\"position\",\"kind\":\"Any\",\"default\":\"right-top\"},{\"name\":\"offsetx\",\"kind\":\"Any\",\"default\":null},{\"name\":\"offsety\",\"kind\":\"Any\",\"default\":null},{\"name\":\"theme\",\"kind\":\"Any\",\"default\":\"primary\"},{\"name\":\"status\",\"kind\":\"Any\",\"default\":\"normalized\"}]},{\"type\":\"model\",\"name\":\"GridStack1\",\"properties\":[{\"name\":\"mode\",\"kind\":\"Any\",\"default\":\"warn\"},{\"name\":\"ncols\",\"kind\":\"Any\",\"default\":null},{\"name\":\"nrows\",\"kind\":\"Any\",\"default\":null},{\"name\":\"allow_resize\",\"kind\":\"Any\",\"default\":true},{\"name\":\"allow_drag\",\"kind\":\"Any\",\"default\":true},{\"name\":\"state\",\"kind\":\"Any\",\"default\":[]}]},{\"type\":\"model\",\"name\":\"drag1\",\"properties\":[{\"name\":\"slider_width\",\"kind\":\"Any\",\"default\":5},{\"name\":\"slider_color\",\"kind\":\"Any\",\"default\":\"black\"},{\"name\":\"value\",\"kind\":\"Any\",\"default\":50}]},{\"type\":\"model\",\"name\":\"click1\",\"properties\":[{\"name\":\"terminal_output\",\"kind\":\"Any\",\"default\":\"\"},{\"name\":\"debug_name\",\"kind\":\"Any\",\"default\":\"\"},{\"name\":\"clears\",\"kind\":\"Any\",\"default\":0}]},{\"type\":\"model\",\"name\":\"toggle_value1\",\"properties\":[{\"name\":\"active_icons\",\"kind\":\"Any\",\"default\":{\"type\":\"map\"}},{\"name\":\"options\",\"kind\":\"Any\",\"default\":{\"type\":\"map\",\"entries\":[[\"favorite\",\"heart\"]]}},{\"name\":\"value\",\"kind\":\"Any\",\"default\":[]},{\"name\":\"_reactions\",\"kind\":\"Any\",\"default\":[]},{\"name\":\"_base_url\",\"kind\":\"Any\",\"default\":\"https://tabler-icons.io/static/tabler-icons/icons/\"}]},{\"type\":\"model\",\"name\":\"copy_to_clipboard1\",\"properties\":[{\"name\":\"value\",\"kind\":\"Any\",\"default\":null},{\"name\":\"fill\",\"kind\":\"Any\",\"default\":\"none\"}]},{\"type\":\"model\",\"name\":\"FastWrapper1\",\"properties\":[{\"name\":\"object\",\"kind\":\"Any\",\"default\":null},{\"name\":\"style\",\"kind\":\"Any\",\"default\":null}]},{\"type\":\"model\",\"name\":\"NotificationAreaBase1\",\"properties\":[{\"name\":\"js_events\",\"kind\":\"Any\",\"default\":{\"type\":\"map\"}},{\"name\":\"position\",\"kind\":\"Any\",\"default\":\"bottom-right\"},{\"name\":\"_clear\",\"kind\":\"Any\",\"default\":0}]},{\"type\":\"model\",\"name\":\"NotificationArea1\",\"properties\":[{\"name\":\"js_events\",\"kind\":\"Any\",\"default\":{\"type\":\"map\"}},{\"name\":\"notifications\",\"kind\":\"Any\",\"default\":[]},{\"name\":\"position\",\"kind\":\"Any\",\"default\":\"bottom-right\"},{\"name\":\"_clear\",\"kind\":\"Any\",\"default\":0},{\"name\":\"types\",\"kind\":\"Any\",\"default\":[{\"type\":\"map\",\"entries\":[[\"type\",\"warning\"],[\"background\",\"#ffc107\"],[\"icon\",{\"type\":\"map\",\"entries\":[[\"className\",\"fas fa-exclamation-triangle\"],[\"tagName\",\"i\"],[\"color\",\"white\"]]}]]},{\"type\":\"map\",\"entries\":[[\"type\",\"info\"],[\"background\",\"#007bff\"],[\"icon\",{\"type\":\"map\",\"entries\":[[\"className\",\"fas fa-info-circle\"],[\"tagName\",\"i\"],[\"color\",\"white\"]]}]]}]}]},{\"type\":\"model\",\"name\":\"Notification\",\"properties\":[{\"name\":\"background\",\"kind\":\"Any\",\"default\":null},{\"name\":\"duration\",\"kind\":\"Any\",\"default\":3000},{\"name\":\"icon\",\"kind\":\"Any\",\"default\":null},{\"name\":\"message\",\"kind\":\"Any\",\"default\":\"\"},{\"name\":\"notification_type\",\"kind\":\"Any\",\"default\":null},{\"name\":\"_destroyed\",\"kind\":\"Any\",\"default\":false}]},{\"type\":\"model\",\"name\":\"TemplateActions1\",\"properties\":[{\"name\":\"open_modal\",\"kind\":\"Any\",\"default\":0},{\"name\":\"close_modal\",\"kind\":\"Any\",\"default\":0}]},{\"type\":\"model\",\"name\":\"BootstrapTemplateActions1\",\"properties\":[{\"name\":\"open_modal\",\"kind\":\"Any\",\"default\":0},{\"name\":\"close_modal\",\"kind\":\"Any\",\"default\":0}]},{\"type\":\"model\",\"name\":\"MaterialTemplateActions1\",\"properties\":[{\"name\":\"open_modal\",\"kind\":\"Any\",\"default\":0},{\"name\":\"close_modal\",\"kind\":\"Any\",\"default\":0}]}]}};\n",
       "  var render_items = [{\"docid\":\"235c0c8a-3fa0-4838-8afe-85c6de79c2f4\",\"roots\":{\"p1411\":\"cf2a0b0d-b0cc-4db0-9a54-266f9c2ea60c\"},\"root_ids\":[\"p1411\"]}];\n",
       "  var docs = Object.values(docs_json)\n",
       "  if (!docs) {\n",
       "    return\n",
       "  }\n",
       "  const py_version = docs[0].version.replace('rc', '-rc.').replace('.dev', '-dev.')\n",
       "  function embed_document(root) {\n",
       "    var Bokeh = get_bokeh(root)\n",
       "    Bokeh.embed.embed_items_notebook(docs_json, render_items);\n",
       "    for (const render_item of render_items) {\n",
       "      for (const root_id of render_item.root_ids) {\n",
       "\tconst id_el = document.getElementById(root_id)\n",
       "\tif (id_el.children.length && (id_el.children[0].className === 'bk-root')) {\n",
       "\t  const root_el = id_el.children[0]\n",
       "\t  root_el.id = root_el.id + '-rendered'\n",
       "\t}\n",
       "      }\n",
       "    }\n",
       "  }\n",
       "  function get_bokeh(root) {\n",
       "    if (root.Bokeh === undefined) {\n",
       "      return null\n",
       "    } else if (root.Bokeh.version !== py_version) {\n",
       "      if (root.Bokeh.versions === undefined || !root.Bokeh.versions.has(py_version)) {\n",
       "\treturn null\n",
       "      }\n",
       "      return root.Bokeh.versions.get(py_version);\n",
       "    } else if (root.Bokeh.version === py_version) {\n",
       "      return root.Bokeh\n",
       "    }\n",
       "    return null\n",
       "  }\n",
       "  function is_loaded(root) {\n",
       "    var Bokeh = get_bokeh(root)\n",
       "    return (Bokeh != null && Bokeh.Panel !== undefined)\n",
       "  }\n",
       "  if (is_loaded(root)) {\n",
       "    embed_document(root);\n",
       "  } else {\n",
       "    var attempts = 0;\n",
       "    var timer = setInterval(function(root) {\n",
       "      if (is_loaded(root)) {\n",
       "        clearInterval(timer);\n",
       "        embed_document(root);\n",
       "      } else if (document.readyState == \"complete\") {\n",
       "        attempts++;\n",
       "        if (attempts > 200) {\n",
       "          clearInterval(timer);\n",
       "\t  var Bokeh = get_bokeh(root)\n",
       "\t  if (Bokeh == null || Bokeh.Panel == null) {\n",
       "            console.warn(\"Panel: ERROR: Unable to run Panel code because Bokeh or Panel library is missing\");\n",
       "\t  } else {\n",
       "\t    console.warn(\"Panel: WARNING: Attempting to render but not all required libraries could be resolved.\")\n",
       "\t    embed_document(root)\n",
       "\t  }\n",
       "        }\n",
       "      }\n",
       "    }, 25, root)\n",
       "  }\n",
       "})(window);</script>"
      ],
      "text/plain": [
       ":Overlay\n",
       "   .WMTS.I   :WMTS   [Longitude,Latitude]\n",
       "   .Points.I :Points   [Longitude,Latitude]   (windspeedKmph,vessel,timestamp)"
      ]
     },
     "execution_count": 13,
     "metadata": {
      "application/vnd.holoviews_exec.v0+json": {
       "id": "p1411"
      }
     },
     "output_type": "execute_result"
    }
   ],
   "source": [
    "\n",
    "w[w.vessel=='ganadoexpress'].hvplot(geo=True, \n",
    "                             color='windspeedKmph', \n",
    "                             cmap='fire', \n",
    "                             width=800, \n",
    "                             height=600, \n",
    "                             hover_cols=['vessel', 'windspeedKmph', 'timestamp'],\n",
    "                             tiles=True).opts(active_tools=['box_zoom', 'wheel_zoom']) "
   ]
  },
  {
   "cell_type": "code",
   "execution_count": 64,
   "metadata": {},
   "outputs": [
    {
     "data": {
      "text/plain": [
       "32294"
      ]
     },
     "execution_count": 64,
     "metadata": {},
     "output_type": "execute_result"
    }
   ],
   "source": [
    "meteo = pd.read_csv(PATH.joinpath('meteo', 'meteo_results_hourly.csv'))\n",
    "len(meteo)"
   ]
  },
  {
   "cell_type": "markdown",
   "metadata": {},
   "source": [
    "## Get events"
   ]
  },
  {
   "cell_type": "code",
   "execution_count": 16,
   "metadata": {},
   "outputs": [],
   "source": [
    "events = []\n",
    "for file in PATH.joinpath('gfw_data').glob('*-events-*'):\n",
    "    name = file.stem\n",
    "    df = pd.read_csv(file)\n",
    "    df['vessel'] = name\n",
    "    events.append(df)\n",
    "\n",
    "df = pd.concat(events)\n",
    "len(df)\n",
    "\n",
    "# Clean\n",
    "df.start = pd.to_datetime(df.start)\n",
    "df.end = pd.to_datetime(df.end)\n",
    "df['vessel_flag'] = df.vessel.apply(lambda x: x.split('(')[0][0:3])\n",
    "df.vessel = df.vessel.apply(lambda x: x.split('-')[0][:-5])"
   ]
  },
  {
   "cell_type": "code",
   "execution_count": 17,
   "metadata": {},
   "outputs": [],
   "source": [
    "# Get port visits\n",
    "\n",
    "pv = df[df['type']=='port_visit'][['start','end','voyage','latitude','longitude',\n",
    "                                   'portVisitName','portVisitFlag', 'vessel', 'vessel_flag']].copy()"
   ]
  },
  {
   "cell_type": "code",
   "execution_count": 18,
   "metadata": {},
   "outputs": [
    {
     "data": {
      "text/plain": [
       "portVisitFlag\n",
       "AUS    1135\n",
       "EGY     894\n",
       "TUR     730\n",
       "IDN     561\n",
       "ROU     540\n",
       "ESP     385\n",
       "CHN     339\n",
       "VNM     300\n",
       "SGP     271\n",
       "SAU     245\n",
       "Name: count, dtype: int64"
      ]
     },
     "execution_count": 18,
     "metadata": {},
     "output_type": "execute_result"
    }
   ],
   "source": [
    "# Most visited ports\n",
    "\n",
    "pv.portVisitFlag.value_counts()[0:10]"
   ]
  },
  {
   "cell_type": "code",
   "execution_count": 19,
   "metadata": {},
   "outputs": [],
   "source": [
    "pv = gpd.GeoDataFrame(pv, geometry=gpd.points_from_xy(x=pv.longitude, y=pv.latitude), crs=4326)"
   ]
  },
  {
   "cell_type": "code",
   "execution_count": 21,
   "metadata": {},
   "outputs": [],
   "source": [
    "ports = pv.groupby(['portVisitName']).agg(latitude=('latitude', 'median'),\n",
    "                                          longitude=('longitude', 'median'),\n",
    "                                          visits=('vessel', 'count'),\n",
    "                                          vessels_diff=('vessel', lambda x: x.nunique())).reset_index()\n",
    "\n",
    "ports = gpd.GeoDataFrame(ports, geometry=gpd.points_from_xy(x=ports.longitude, y=ports.latitude), crs=4326)"
   ]
  },
  {
   "cell_type": "code",
   "execution_count": 24,
   "metadata": {},
   "outputs": [],
   "source": [
    "ports[['portVisitName', 'latitude', 'longitude', 'visits']].to_csv(PATH.joinpath('gfw_data', 'port_visits.csv'))"
   ]
  },
  {
   "cell_type": "code",
   "execution_count": 22,
   "metadata": {},
   "outputs": [
    {
     "data": {},
     "metadata": {},
     "output_type": "display_data"
    },
    {
     "data": {
      "application/vnd.holoviews_exec.v0+json": "",
      "text/html": [
       "<div id='p1511'>\n",
       "  <div id=\"ec1d95fc-db9a-49a4-b9a5-6480b2bac50e\" data-root-id=\"p1511\" style=\"display: contents;\"></div>\n",
       "</div>\n",
       "<script type=\"application/javascript\">(function(root) {\n",
       "  var docs_json = {\"e3957e9f-eafd-4704-aae4-13b6c50fafed\":{\"version\":\"3.3.2\",\"title\":\"Bokeh Application\",\"roots\":[{\"type\":\"object\",\"name\":\"Row\",\"id\":\"p1511\",\"attributes\":{\"name\":\"Row02989\",\"tags\":[\"embedded\"],\"stylesheets\":[\"\\n:host(.pn-loading.pn-arc):before, .pn-loading.pn-arc:before {\\n  background-image: url(\\\"data:image/svg+xml;base64,PHN2ZyB4bWxucz0iaHR0cDovL3d3dy53My5vcmcvMjAwMC9zdmciIHN0eWxlPSJtYXJnaW46IGF1dG87IGJhY2tncm91bmQ6IG5vbmU7IGRpc3BsYXk6IGJsb2NrOyBzaGFwZS1yZW5kZXJpbmc6IGF1dG87IiB2aWV3Qm94PSIwIDAgMTAwIDEwMCIgcHJlc2VydmVBc3BlY3RSYXRpbz0ieE1pZFlNaWQiPiAgPGNpcmNsZSBjeD0iNTAiIGN5PSI1MCIgZmlsbD0ibm9uZSIgc3Ryb2tlPSIjYzNjM2MzIiBzdHJva2Utd2lkdGg9IjEwIiByPSIzNSIgc3Ryb2tlLWRhc2hhcnJheT0iMTY0LjkzMzYxNDMxMzQ2NDE1IDU2Ljk3Nzg3MTQzNzgyMTM4Ij4gICAgPGFuaW1hdGVUcmFuc2Zvcm0gYXR0cmlidXRlTmFtZT0idHJhbnNmb3JtIiB0eXBlPSJyb3RhdGUiIHJlcGVhdENvdW50PSJpbmRlZmluaXRlIiBkdXI9IjFzIiB2YWx1ZXM9IjAgNTAgNTA7MzYwIDUwIDUwIiBrZXlUaW1lcz0iMDsxIj48L2FuaW1hdGVUcmFuc2Zvcm0+ICA8L2NpcmNsZT48L3N2Zz4=\\\");\\n  background-size: auto calc(min(50%, 400px));\\n}\",{\"type\":\"object\",\"name\":\"ImportedStyleSheet\",\"id\":\"p1514\",\"attributes\":{\"url\":\"https://cdn.holoviz.org/panel/1.3.4/dist/css/loading.css\"}},{\"type\":\"object\",\"name\":\"ImportedStyleSheet\",\"id\":\"p1599\",\"attributes\":{\"url\":\"https://cdn.holoviz.org/panel/1.3.4/dist/css/listpanel.css\"}},{\"type\":\"object\",\"name\":\"ImportedStyleSheet\",\"id\":\"p1512\",\"attributes\":{\"url\":\"https://cdn.holoviz.org/panel/1.3.4/dist/bundled/theme/default.css\"}},{\"type\":\"object\",\"name\":\"ImportedStyleSheet\",\"id\":\"p1513\",\"attributes\":{\"url\":\"https://cdn.holoviz.org/panel/1.3.4/dist/bundled/theme/native.css\"}}],\"min_width\":800,\"margin\":0,\"sizing_mode\":\"stretch_width\",\"align\":\"start\",\"children\":[{\"type\":\"object\",\"name\":\"Spacer\",\"id\":\"p1515\",\"attributes\":{\"name\":\"HSpacer03000\",\"stylesheets\":[\"\\n:host(.pn-loading.pn-arc):before, .pn-loading.pn-arc:before {\\n  background-image: url(\\\"data:image/svg+xml;base64,PHN2ZyB4bWxucz0iaHR0cDovL3d3dy53My5vcmcvMjAwMC9zdmciIHN0eWxlPSJtYXJnaW46IGF1dG87IGJhY2tncm91bmQ6IG5vbmU7IGRpc3BsYXk6IGJsb2NrOyBzaGFwZS1yZW5kZXJpbmc6IGF1dG87IiB2aWV3Qm94PSIwIDAgMTAwIDEwMCIgcHJlc2VydmVBc3BlY3RSYXRpbz0ieE1pZFlNaWQiPiAgPGNpcmNsZSBjeD0iNTAiIGN5PSI1MCIgZmlsbD0ibm9uZSIgc3Ryb2tlPSIjYzNjM2MzIiBzdHJva2Utd2lkdGg9IjEwIiByPSIzNSIgc3Ryb2tlLWRhc2hhcnJheT0iMTY0LjkzMzYxNDMxMzQ2NDE1IDU2Ljk3Nzg3MTQzNzgyMTM4Ij4gICAgPGFuaW1hdGVUcmFuc2Zvcm0gYXR0cmlidXRlTmFtZT0idHJhbnNmb3JtIiB0eXBlPSJyb3RhdGUiIHJlcGVhdENvdW50PSJpbmRlZmluaXRlIiBkdXI9IjFzIiB2YWx1ZXM9IjAgNTAgNTA7MzYwIDUwIDUwIiBrZXlUaW1lcz0iMDsxIj48L2FuaW1hdGVUcmFuc2Zvcm0+ICA8L2NpcmNsZT48L3N2Zz4=\\\");\\n  background-size: auto calc(min(50%, 400px));\\n}\",{\"id\":\"p1514\"},{\"id\":\"p1512\"},{\"id\":\"p1513\"}],\"margin\":0,\"sizing_mode\":\"stretch_width\",\"align\":\"start\"}},{\"type\":\"object\",\"name\":\"Figure\",\"id\":\"p1544\",\"attributes\":{\"width\":800,\"margin\":[5,10],\"sizing_mode\":\"fixed\",\"align\":\"start\",\"x_range\":{\"type\":\"object\",\"name\":\"Range1d\",\"id\":\"p1525\",\"attributes\":{\"tags\":[[[\"Longitude\",\"Longitude\",null]],[]],\"start\":-16186286.448695723,\"end\":22204234.818903737,\"reset_start\":-16186286.448695723,\"reset_end\":22204234.818903737,\"min_interval\":5}},\"y_range\":{\"type\":\"object\",\"name\":\"Range1d\",\"id\":\"p1526\",\"attributes\":{\"tags\":[[[\"Latitude\",\"Latitude\",null]],{\"type\":\"map\",\"entries\":[[\"invert_yaxis\",false],[\"autorange\",false]]}],\"start\":-12647801.907379463,\"end\":16145089.043320134,\"reset_start\":-12647801.907379463,\"reset_end\":16145089.043320134,\"min_interval\":5}},\"x_scale\":{\"type\":\"object\",\"name\":\"LinearScale\",\"id\":\"p1554\"},\"y_scale\":{\"type\":\"object\",\"name\":\"LinearScale\",\"id\":\"p1555\"},\"title\":{\"type\":\"object\",\"name\":\"Title\",\"id\":\"p1547\",\"attributes\":{\"text_color\":\"black\",\"text_font_size\":\"12pt\"}},\"renderers\":[{\"type\":\"object\",\"name\":\"TileRenderer\",\"id\":\"p1577\",\"attributes\":{\"level\":\"underlay\",\"tile_source\":{\"type\":\"object\",\"name\":\"WMTSTileSource\",\"id\":\"p1573\",\"attributes\":{\"url\":\"https://c.tile.openstreetmap.org/{Z}/{X}/{Y}.png\",\"attribution\":\"&copy; <a href=\\\"https://www.openstreetmap.org/copyright\\\">OpenStreetMap</a> contributors\"}}}},{\"type\":\"object\",\"name\":\"GlyphRenderer\",\"id\":\"p1590\",\"attributes\":{\"data_source\":{\"type\":\"object\",\"name\":\"ColumnDataSource\",\"id\":\"p1581\",\"attributes\":{\"selected\":{\"type\":\"object\",\"name\":\"Selection\",\"id\":\"p1582\",\"attributes\":{\"indices\":[],\"line_indices\":[]}},\"selection_policy\":{\"type\":\"object\",\"name\":\"UnionRenderers\",\"id\":\"p1583\"},\"data\":{\"type\":\"map\",\"entries\":[[\"Longitude\",{\"type\":\"ndarray\",\"array\":{\"type\":\"bytes\",\"data\":\"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\"},\"shape\":[404],\"dtype\":\"float64\",\"order\":\"little\"}],[\"Latitude\",{\"type\":\"ndarray\",\"array\":{\"type\":\"bytes\",\"data\":\"6nsGmu4lTEE7XxQwRpRPwdY+xDQ2J0tB2PeLnGHnVEEQnqdfmPRPQe88v3Od6lBBKYNGTw51UkEHNglj3OpLQRdGC928c1BBOMmwXM3TUEHv1IXGMBdTQYKbXNF+o1RBZLkkYJD4UEF9srwmVgxEQQrjn+bb2VBBpUy4nUx8WUGsv6MOTHxUQYxuKZEJVFBBZ9EL5SmPTEFXedLhDddQwXeRX0WJW1pBS7XxKpjrUkEMj631EKRUQdOfMzi1lVVB1hmT8z9uLkEvn4XEytVbQZFOEsOgclBBUsQbWKXFUkHNJh+FPRozQdBfiEDbUDdBha5lT5sIN0GvAY0Gwr1TQRrP18RkSlNBRcGYOMNO/kCHn+2S9XM3QddKH9y0gFNBkZrCh6KlTkF0AzipYsxQQbQN1EG2RhpB4ZDd5JjZTEGPT5pCotkxQSxin2/nOBZBmCtZbj0WUUGI2okVOgBXQWUs0jy7kjdBwY+ZIuVUM0FPLrSbgJpVQfryumOLRltB1g2soFBnUEEQOpcqEc9PQVEnIgxIBC1Bcd4PE2fXN0EelaBbKpM0wRdNViqQdlBB20kzKCFxUkHSCKfkWfxRQU7hfGoWnE7BBDjejBg7UUG1qrOBkmZOQVLEpIv3L1FBFvNVhQikUUGinKSDdtNRQYBzYR9pLFBBCG3ANdCtUUF6THAhd9RRQW83C0sMs0NBPKZIRgFTJMHoDgStK3sqwSrVR/6sEhxBaBpwCVnNJ0FutXFumu0vQUrEOHtTCjBBysUvwX3sVEFvTcuFsslZQbH/rJD0FSVBGZViKIZcUEG8MSSIUA9OQfkG6Rvr81FBQ1o7t7MyTEGy0dLCnMxSQUMp1aFxTjXBny02b6nGUEF13+Z59QAoQcZwb26A+VJBxpl7biZ6W0HdKMM/Z5pbQW9rNk+0+1JBWYO6x9HwM0G74AF2BI1RQXFrCkCNxkNBOkzOwfteV0FlJ2bwXwpaQexQbAe3fkrB6JsskgS+TcEYU8QG5RVLQW/Z8e5mPEtBOdecs4pASkE+nmQZpalQQTEP4m9q4EtBq3z2okxtUUE4ITe7REdTQV/PAwFyX1RBPLpigRPvT0Ha/3YcJ79QQffvzJEO+VJBi6+iMeZdWkHQxNo3fLtMwZpF4pQz7EZBt2uQDT+qTkFETSnTopJSQZWYCUp7EEpBbPskVWCnW0GlSzkl0odRweq/qGLMy1JBFv5B13cRVUF8szKcuH5JwWlwVoIheFBBGrE35XKqVUGHQvBSdRFeQTu5htGQe1FB43Q/qAloUkHPx0Ls1wBQQT5EGbeDb1BBG++szP+uUUGNd18X6ldbQfolL5MUQ0NBSNBu592FMUFt2YyEsE1DQSfWvdgJEFFB3unW5ULgUkHebbLrpJBNQQitaWkLEUJBf29xOU4iW0FWgzcJVQJgQam5D2aBojFBcpBtrQ1iW0G0YmQNqCRCQVgPre9pVUNB/SIXTS6uUUE1eCxHNutDQQae5xeEr0NBcUIY4NbaUkE8HhKprPtIwdv4HJewJ1FBG9J9Ty2DQcHUCrKryZFVQXtyLodFu1BBDUDkSb5AS0GFF8oWRxlTQd5YxMEztFFBF0EW3dB+JMFSAULWi6dCQVSiGw/5FVJB9P+BgmP2UkHdVL4eHt1NQReSWS3E505Bh5gUQiLwUEHkkM6XtbBPQQqUaLMF2ltBrCVCMurmUEE3IAaaNLhDQQx5fFNGClNBTaVIYoJ0UUGIHusBkUZRQblUWKN1e1RB1zVVElcbUEEOJ2LLjDcfQY4xVIKeak1B6YROE7hIRkGBkmiMEqJbQfQ3HSGymlxBIgWknJlxNkGZIgEQhFRPQeKaXAVjvE5BxLVuIULKVUHvm4mIGeRQQd1/nE8bhCRBq5J3AMcZYEEnt8tn4OEaQe6fwpZjS0NBG40RJLoiUEEvdXksYq9PQb52GHYZ5EhB3Obzyu4hUEHiLy+O5tNPQSApofB5UFFBvmSYKIFAWEFPWivV2vtQQfDKk3Iil09BI/B/zNNqT0EHXYTPq9o4Qd6m8Hahk1RB5ajCU5uPJEEKPnQn7cEtwaAu3Dy7XEFB2jdJ6iimGUERqkHwHMRQQRdJ9zr3/DhBiDI6a6OaNUGA2DSev9BGwX4ab9H/dFJBFYWWuETdVEFCOZJ9KtBZQfuijklLHFNBRaIroZRUUEFuuWk91XFUQXk+zFFuLjVBcWfwfHQRHEFHyE3p1BskwQQcun6Xy1BBR+KgIY0KVUEvnDgPlSA9QZHT0PWXGU1B6twXwkkvT0HQjNp8vWFQQVL9puMdsE5B8bHmYAaiG8HFSONUabZPwSwdVxrhZ1BBQDOoLjJAIUG5gofmgZZWQeBt/J7cOVFBK1wYh/W9T0H7BykS+BpHQWxlmISGxENBFHJprL1DUsFzXotxWQNTQYWJIQPoBTlBqPx4dycUU0EzHBeEOONRQSkRG4u+CFLBlis3fa2QHEES1nSeoWRKQTTYtn1SPlVBVyAX5vEDTkHMF/OhMLVWQdSUWFuGYU9BftLKk08VT0Eo6ArgW0ZQQXF0KWdHTlJBUT3uOX2oLkEyrqL9icAiwe5bBHdcMAJBDvEEhK6bUUFOlMMS3HkiQV7Q+a/w5gFB5Qc/4mZuUUHznk0qdscxQSMHJKcNa1FBgIbXRRqrMUGIczBNYTEgwTUorTneeUTBXSzqmHyjTsHPbkRuGILxwG/URu0JnUHBb3MVxw44E0EAvyaf5HhBwSkKij4/FUxBwCuptf+mUcHOGhGNFOhVQUDkxRKRAVJBvl/8/YbHU0FfzwMBcl9UQTGknw+7si9B9S1tCPT2MUEMzk6rHmhTwUmSLPPTZlPBf8p4qbFNUUEiF6CtKmxQQSFZoygwdlJBJO+6lVPTQkF8EJtFNZc3QTnWLrmd2FBBew2V/a6jSEFX6DYYUHJVQf/vLUoclDVBABZnRWb4T8HiK6ANKYxRQd66BxMqlVtBAvQY1n+oVUEr2USsZKFQQbHM/baGp11BrNBTtkifVUG6O1Oc6PRDwex1E/4p0UzB9jbcU54IUEGnAseDPetZQeRXpUFC6FlBkMLgohvrWUE0Fhz9gqNVQd+fXozks1VBzNjZdraMVUE2bWL65aZVQVKYcCu3rmJBdOm3E23EU0Em9WHzU5ZHQcO8nnyfSk5BPWZRXgF4VEFvG1iE4fNfQQ8SVhoMTk9BeOvAe70pPUF55QmvU1JTQTuJMpypQklBlvLWY8vJUMF830cbC0dSQVBHKPtN4UTBVIpBrwEp4kCOLhwRho9AQegNvEG5miBBSgCI+oQAT0GiEYgv4sUBQRXzyOAMfFRB3lF/5cu6UUEIdWek9RYCQTWqZp7r6UtBk1oMyrZsRkGdgrmSkSBMQSCIvl5G2VBBIHW1QUigQkGeGGftZBMyQWbZ2osibFFBnNRLjKYtAUFoMRJJOK5TQTZQ4z+J4lBBJukSYF5RUEFZzjvI1Wk5QdMho0Q2G0tBy5EcAmeZSkEzZIsCBZtKQQCJwWmtilVBn9RaMJDYJ8FC6Z9mhClRQVqih9EM1lZBhVw2fHnDTEEoeK4ITEVFQYzgSZYLxFDBWWhK3nKgX0EBk/YPVltQQQZloLeasQBBCY24lzwqU0H0mdgTRa5PQRY4eWWDj1BBoSjRutFCUcHNkZI6xrIcQR80AmszLfxARnMnulHtIkElPdqeJEJJQeLei02jsFBBKBTzW+WYWUGcdV2G3eVSQe3AGKtv+lFB3QK4YAeVWUElH0wz/hNVwRqquQEfvU5BSgZ57EhAMEHT5xWsNN9QQcViSW0OUFRBUd/ZyXOfQMEG07TuxCJTQeQt+/mo1lVB+Q9jcjk3T0Gq5AsF7uVSQQpp1gRdpVJBn3RWEQeYUEEgLbFDoJlRQXBCrPqYzlJBzRYk0uQJU0GjfoR6fFFSQQtOOZY/u1JBDI6xSYPUUkF6c5djIL9SQXECq6ryBlNBzZnOBqdsVkFsYCtKpB1QQZCxs5i4wEpBUt61Czc/UkEOi6kjN1tQQUFUQ3AyuE3BA0QHlKvPU0E4R7dnuDcEwTSRwYccBljBPomjhAGGWUG8mUC4HM1SQZPWwI2QeUFBLkDzjOJrMUGbJtUEnLBVQWwRw8IW/kPBpa/F1D0fUUESOBLg0GRSQRxKN5bOhDrBw+FEeEBcRUGLmwvjifRSQXduzj5C8lJB2eyLfkISRUFn+BsBMxRBQRtpoiW+RVFB4gmvz1/7UkG7H7asIndPQcVzi7mVFVBBzAA0vDRjHsEvIBwClYFZQYiVMVscU0VB/FxxPuG/SkE1V/5xVPxCQQ==\"},\"shape\":[404],\"dtype\":\"float64\",\"order\":\"little\"}],[\"visits\",{\"type\":\"ndarray\",\"array\":{\"type\":\"bytes\",\"data\":\"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\"},\"shape\":[404],\"dtype\":\"int32\",\"order\":\"little\"}],[\"size\",{\"type\":\"ndarray\",\"array\":{\"type\":\"bytes\",\"data\":\"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\"},\"shape\":[404],\"dtype\":\"float64\",\"order\":\"little\"}]]}}},\"view\":{\"type\":\"object\",\"name\":\"CDSView\",\"id\":\"p1591\",\"attributes\":{\"filter\":{\"type\":\"object\",\"name\":\"AllIndices\",\"id\":\"p1592\"}}},\"glyph\":{\"type\":\"object\",\"name\":\"Scatter\",\"id\":\"p1587\",\"attributes\":{\"tags\":[\"apply_ranges\"],\"x\":{\"type\":\"field\",\"field\":\"Longitude\"},\"y\":{\"type\":\"field\",\"field\":\"Latitude\"},\"size\":{\"type\":\"field\",\"field\":\"size\"},\"line_color\":{\"type\":\"value\",\"value\":\"#30a2da\"},\"fill_color\":{\"type\":\"value\",\"value\":\"#30a2da\"},\"hatch_color\":{\"type\":\"value\",\"value\":\"#30a2da\"}}},\"selection_glyph\":{\"type\":\"object\",\"name\":\"Scatter\",\"id\":\"p1595\",\"attributes\":{\"tags\":[\"apply_ranges\"],\"x\":{\"type\":\"field\",\"field\":\"Longitude\"},\"y\":{\"type\":\"field\",\"field\":\"Latitude\"},\"size\":{\"type\":\"field\",\"field\":\"size\"},\"angle\":{\"type\":\"value\",\"value\":0.0},\"line_color\":{\"type\":\"value\",\"value\":\"#30a2da\"},\"line_alpha\":{\"type\":\"value\",\"value\":1.0},\"line_width\":{\"type\":\"value\",\"value\":1},\"line_join\":{\"type\":\"value\",\"value\":\"bevel\"},\"line_cap\":{\"type\":\"value\",\"value\":\"butt\"},\"line_dash\":{\"type\":\"value\",\"value\":[]},\"line_dash_offset\":{\"type\":\"value\",\"value\":0},\"fill_color\":{\"type\":\"value\",\"value\":\"#30a2da\"},\"fill_alpha\":{\"type\":\"value\",\"value\":1.0},\"hatch_color\":{\"type\":\"value\",\"value\":\"#30a2da\"},\"hatch_alpha\":{\"type\":\"value\",\"value\":1.0},\"hatch_scale\":{\"type\":\"value\",\"value\":12.0},\"hatch_pattern\":{\"type\":\"value\",\"value\":null},\"hatch_weight\":{\"type\":\"value\",\"value\":1.0},\"marker\":{\"type\":\"value\",\"value\":\"circle\"}}},\"nonselection_glyph\":{\"type\":\"object\",\"name\":\"Scatter\",\"id\":\"p1588\",\"attributes\":{\"tags\":[\"apply_ranges\"],\"x\":{\"type\":\"field\",\"field\":\"Longitude\"},\"y\":{\"type\":\"field\",\"field\":\"Latitude\"},\"size\":{\"type\":\"field\",\"field\":\"size\"},\"line_color\":{\"type\":\"value\",\"value\":\"#30a2da\"},\"line_alpha\":{\"type\":\"value\",\"value\":0.1},\"fill_color\":{\"type\":\"value\",\"value\":\"#30a2da\"},\"fill_alpha\":{\"type\":\"value\",\"value\":0.1},\"hatch_color\":{\"type\":\"value\",\"value\":\"#30a2da\"},\"hatch_alpha\":{\"type\":\"value\",\"value\":0.1}}},\"muted_glyph\":{\"type\":\"object\",\"name\":\"Scatter\",\"id\":\"p1589\",\"attributes\":{\"tags\":[\"apply_ranges\"],\"x\":{\"type\":\"field\",\"field\":\"Longitude\"},\"y\":{\"type\":\"field\",\"field\":\"Latitude\"},\"size\":{\"type\":\"field\",\"field\":\"size\"},\"line_color\":{\"type\":\"value\",\"value\":\"#30a2da\"},\"line_alpha\":{\"type\":\"value\",\"value\":0.2},\"fill_color\":{\"type\":\"value\",\"value\":\"#30a2da\"},\"fill_alpha\":{\"type\":\"value\",\"value\":0.2},\"hatch_color\":{\"type\":\"value\",\"value\":\"#30a2da\"},\"hatch_alpha\":{\"type\":\"value\",\"value\":0.2}}}}}],\"toolbar\":{\"type\":\"object\",\"name\":\"Toolbar\",\"id\":\"p1553\",\"attributes\":{\"tools\":[{\"type\":\"object\",\"name\":\"WheelZoomTool\",\"id\":\"p1529\",\"attributes\":{\"renderers\":\"auto\",\"zoom_on_axis\":false}},{\"type\":\"object\",\"name\":\"BoxZoomTool\",\"id\":\"p1530\",\"attributes\":{\"overlay\":{\"type\":\"object\",\"name\":\"BoxAnnotation\",\"id\":\"p1006\",\"attributes\":{\"syncable\":false,\"level\":\"overlay\",\"visible\":false,\"left\":{\"type\":\"number\",\"value\":\"nan\"},\"right\":{\"type\":\"number\",\"value\":\"nan\"},\"top\":{\"type\":\"number\",\"value\":\"nan\"},\"bottom\":{\"type\":\"number\",\"value\":\"nan\"},\"left_units\":\"canvas\",\"right_units\":\"canvas\",\"top_units\":\"canvas\",\"bottom_units\":\"canvas\",\"line_color\":\"black\",\"line_alpha\":1.0,\"line_width\":2,\"line_dash\":[4,4],\"fill_color\":\"lightgrey\",\"fill_alpha\":0.5}},\"match_aspect\":true}},{\"type\":\"object\",\"name\":\"HoverTool\",\"id\":\"p1543\",\"attributes\":{\"tags\":[\"hv_created\"],\"renderers\":[{\"id\":\"p1590\"}],\"tooltips\":[[\"Longitude\",\"$x{custom}\"],[\"Latitude\",\"$y{custom}\"],[\"visits\",\"@{visits}\"]],\"formatters\":{\"type\":\"map\",\"entries\":[[\"$x\",{\"type\":\"object\",\"name\":\"CustomJSHover\",\"id\":\"p1579\",\"attributes\":{\"code\":\"\\n        const projections = Bokeh.require(\\\"core/util/projections\\\");\\n        const {snap_x, snap_y} = special_vars\\n        const coords = projections.wgs84_mercator.invert(snap_x, snap_y)\\n        return \\\"\\\" + (coords[0]).toFixed(4)\\n    \"}}],[\"$y\",{\"type\":\"object\",\"name\":\"CustomJSHover\",\"id\":\"p1580\",\"attributes\":{\"code\":\"\\n        const projections = Bokeh.require(\\\"core/util/projections\\\");\\n        const {snap_x, snap_y} = special_vars\\n        const coords = projections.wgs84_mercator.invert(snap_x, snap_y)\\n        return \\\"\\\" + (coords[1]).toFixed(4)\\n    \"}}]]}}},{\"type\":\"object\",\"name\":\"PanTool\",\"id\":\"p1567\"},{\"type\":\"object\",\"name\":\"ResetTool\",\"id\":\"p1568\"}],\"active_scroll\":{\"id\":\"p1529\"}}},\"left\":[{\"type\":\"object\",\"name\":\"LinearAxis\",\"id\":\"p1561\",\"attributes\":{\"ticker\":{\"type\":\"object\",\"name\":\"MercatorTicker\",\"id\":\"p1571\",\"attributes\":{\"mantissas\":[1,2,5],\"dimension\":\"lat\"}},\"formatter\":{\"type\":\"object\",\"name\":\"MercatorTickFormatter\",\"id\":\"p1572\",\"attributes\":{\"dimension\":\"lat\"}},\"axis_label\":\"Latitude\",\"major_label_policy\":{\"type\":\"object\",\"name\":\"AllLabels\",\"id\":\"p1564\"}}}],\"below\":[{\"type\":\"object\",\"name\":\"LinearAxis\",\"id\":\"p1556\",\"attributes\":{\"ticker\":{\"type\":\"object\",\"name\":\"MercatorTicker\",\"id\":\"p1569\",\"attributes\":{\"mantissas\":[1,2,5],\"dimension\":\"lon\"}},\"formatter\":{\"type\":\"object\",\"name\":\"MercatorTickFormatter\",\"id\":\"p1570\",\"attributes\":{\"dimension\":\"lon\"}},\"axis_label\":\"Longitude\",\"major_label_policy\":{\"type\":\"object\",\"name\":\"AllLabels\",\"id\":\"p1559\"}}}],\"center\":[{\"type\":\"object\",\"name\":\"Grid\",\"id\":\"p1560\",\"attributes\":{\"axis\":{\"id\":\"p1556\"},\"grid_line_color\":null}},{\"type\":\"object\",\"name\":\"Grid\",\"id\":\"p1565\",\"attributes\":{\"dimension\":1,\"axis\":{\"id\":\"p1561\"},\"grid_line_color\":null}}],\"frame_width\":800,\"frame_height\":600,\"min_border_top\":10,\"min_border_bottom\":10,\"min_border_left\":10,\"min_border_right\":10,\"output_backend\":\"webgl\",\"match_aspect\":true}},{\"type\":\"object\",\"name\":\"Spacer\",\"id\":\"p1597\",\"attributes\":{\"name\":\"HSpacer03003\",\"stylesheets\":[\"\\n:host(.pn-loading.pn-arc):before, .pn-loading.pn-arc:before {\\n  background-image: url(\\\"data:image/svg+xml;base64,PHN2ZyB4bWxucz0iaHR0cDovL3d3dy53My5vcmcvMjAwMC9zdmciIHN0eWxlPSJtYXJnaW46IGF1dG87IGJhY2tncm91bmQ6IG5vbmU7IGRpc3BsYXk6IGJsb2NrOyBzaGFwZS1yZW5kZXJpbmc6IGF1dG87IiB2aWV3Qm94PSIwIDAgMTAwIDEwMCIgcHJlc2VydmVBc3BlY3RSYXRpbz0ieE1pZFlNaWQiPiAgPGNpcmNsZSBjeD0iNTAiIGN5PSI1MCIgZmlsbD0ibm9uZSIgc3Ryb2tlPSIjYzNjM2MzIiBzdHJva2Utd2lkdGg9IjEwIiByPSIzNSIgc3Ryb2tlLWRhc2hhcnJheT0iMTY0LjkzMzYxNDMxMzQ2NDE1IDU2Ljk3Nzg3MTQzNzgyMTM4Ij4gICAgPGFuaW1hdGVUcmFuc2Zvcm0gYXR0cmlidXRlTmFtZT0idHJhbnNmb3JtIiB0eXBlPSJyb3RhdGUiIHJlcGVhdENvdW50PSJpbmRlZmluaXRlIiBkdXI9IjFzIiB2YWx1ZXM9IjAgNTAgNTA7MzYwIDUwIDUwIiBrZXlUaW1lcz0iMDsxIj48L2FuaW1hdGVUcmFuc2Zvcm0+ICA8L2NpcmNsZT48L3N2Zz4=\\\");\\n  background-size: auto calc(min(50%, 400px));\\n}\",{\"id\":\"p1514\"},{\"id\":\"p1512\"},{\"id\":\"p1513\"}],\"margin\":0,\"sizing_mode\":\"stretch_width\",\"align\":\"start\"}}]}}],\"defs\":[{\"type\":\"model\",\"name\":\"ReactiveHTML1\"},{\"type\":\"model\",\"name\":\"FlexBox1\",\"properties\":[{\"name\":\"align_content\",\"kind\":\"Any\",\"default\":\"flex-start\"},{\"name\":\"align_items\",\"kind\":\"Any\",\"default\":\"flex-start\"},{\"name\":\"flex_direction\",\"kind\":\"Any\",\"default\":\"row\"},{\"name\":\"flex_wrap\",\"kind\":\"Any\",\"default\":\"wrap\"},{\"name\":\"justify_content\",\"kind\":\"Any\",\"default\":\"flex-start\"}]},{\"type\":\"model\",\"name\":\"FloatPanel1\",\"properties\":[{\"name\":\"config\",\"kind\":\"Any\",\"default\":{\"type\":\"map\"}},{\"name\":\"contained\",\"kind\":\"Any\",\"default\":true},{\"name\":\"position\",\"kind\":\"Any\",\"default\":\"right-top\"},{\"name\":\"offsetx\",\"kind\":\"Any\",\"default\":null},{\"name\":\"offsety\",\"kind\":\"Any\",\"default\":null},{\"name\":\"theme\",\"kind\":\"Any\",\"default\":\"primary\"},{\"name\":\"status\",\"kind\":\"Any\",\"default\":\"normalized\"}]},{\"type\":\"model\",\"name\":\"GridStack1\",\"properties\":[{\"name\":\"mode\",\"kind\":\"Any\",\"default\":\"warn\"},{\"name\":\"ncols\",\"kind\":\"Any\",\"default\":null},{\"name\":\"nrows\",\"kind\":\"Any\",\"default\":null},{\"name\":\"allow_resize\",\"kind\":\"Any\",\"default\":true},{\"name\":\"allow_drag\",\"kind\":\"Any\",\"default\":true},{\"name\":\"state\",\"kind\":\"Any\",\"default\":[]}]},{\"type\":\"model\",\"name\":\"drag1\",\"properties\":[{\"name\":\"slider_width\",\"kind\":\"Any\",\"default\":5},{\"name\":\"slider_color\",\"kind\":\"Any\",\"default\":\"black\"},{\"name\":\"value\",\"kind\":\"Any\",\"default\":50}]},{\"type\":\"model\",\"name\":\"click1\",\"properties\":[{\"name\":\"terminal_output\",\"kind\":\"Any\",\"default\":\"\"},{\"name\":\"debug_name\",\"kind\":\"Any\",\"default\":\"\"},{\"name\":\"clears\",\"kind\":\"Any\",\"default\":0}]},{\"type\":\"model\",\"name\":\"toggle_value1\",\"properties\":[{\"name\":\"active_icons\",\"kind\":\"Any\",\"default\":{\"type\":\"map\"}},{\"name\":\"options\",\"kind\":\"Any\",\"default\":{\"type\":\"map\",\"entries\":[[\"favorite\",\"heart\"]]}},{\"name\":\"value\",\"kind\":\"Any\",\"default\":[]},{\"name\":\"_reactions\",\"kind\":\"Any\",\"default\":[]},{\"name\":\"_base_url\",\"kind\":\"Any\",\"default\":\"https://tabler-icons.io/static/tabler-icons/icons/\"}]},{\"type\":\"model\",\"name\":\"copy_to_clipboard1\",\"properties\":[{\"name\":\"value\",\"kind\":\"Any\",\"default\":null},{\"name\":\"fill\",\"kind\":\"Any\",\"default\":\"none\"}]},{\"type\":\"model\",\"name\":\"FastWrapper1\",\"properties\":[{\"name\":\"object\",\"kind\":\"Any\",\"default\":null},{\"name\":\"style\",\"kind\":\"Any\",\"default\":null}]},{\"type\":\"model\",\"name\":\"NotificationAreaBase1\",\"properties\":[{\"name\":\"js_events\",\"kind\":\"Any\",\"default\":{\"type\":\"map\"}},{\"name\":\"position\",\"kind\":\"Any\",\"default\":\"bottom-right\"},{\"name\":\"_clear\",\"kind\":\"Any\",\"default\":0}]},{\"type\":\"model\",\"name\":\"NotificationArea1\",\"properties\":[{\"name\":\"js_events\",\"kind\":\"Any\",\"default\":{\"type\":\"map\"}},{\"name\":\"notifications\",\"kind\":\"Any\",\"default\":[]},{\"name\":\"position\",\"kind\":\"Any\",\"default\":\"bottom-right\"},{\"name\":\"_clear\",\"kind\":\"Any\",\"default\":0},{\"name\":\"types\",\"kind\":\"Any\",\"default\":[{\"type\":\"map\",\"entries\":[[\"type\",\"warning\"],[\"background\",\"#ffc107\"],[\"icon\",{\"type\":\"map\",\"entries\":[[\"className\",\"fas fa-exclamation-triangle\"],[\"tagName\",\"i\"],[\"color\",\"white\"]]}]]},{\"type\":\"map\",\"entries\":[[\"type\",\"info\"],[\"background\",\"#007bff\"],[\"icon\",{\"type\":\"map\",\"entries\":[[\"className\",\"fas fa-info-circle\"],[\"tagName\",\"i\"],[\"color\",\"white\"]]}]]}]}]},{\"type\":\"model\",\"name\":\"Notification\",\"properties\":[{\"name\":\"background\",\"kind\":\"Any\",\"default\":null},{\"name\":\"duration\",\"kind\":\"Any\",\"default\":3000},{\"name\":\"icon\",\"kind\":\"Any\",\"default\":null},{\"name\":\"message\",\"kind\":\"Any\",\"default\":\"\"},{\"name\":\"notification_type\",\"kind\":\"Any\",\"default\":null},{\"name\":\"_destroyed\",\"kind\":\"Any\",\"default\":false}]},{\"type\":\"model\",\"name\":\"TemplateActions1\",\"properties\":[{\"name\":\"open_modal\",\"kind\":\"Any\",\"default\":0},{\"name\":\"close_modal\",\"kind\":\"Any\",\"default\":0}]},{\"type\":\"model\",\"name\":\"BootstrapTemplateActions1\",\"properties\":[{\"name\":\"open_modal\",\"kind\":\"Any\",\"default\":0},{\"name\":\"close_modal\",\"kind\":\"Any\",\"default\":0}]},{\"type\":\"model\",\"name\":\"MaterialTemplateActions1\",\"properties\":[{\"name\":\"open_modal\",\"kind\":\"Any\",\"default\":0},{\"name\":\"close_modal\",\"kind\":\"Any\",\"default\":0}]}]}};\n",
       "  var render_items = [{\"docid\":\"e3957e9f-eafd-4704-aae4-13b6c50fafed\",\"roots\":{\"p1511\":\"ec1d95fc-db9a-49a4-b9a5-6480b2bac50e\"},\"root_ids\":[\"p1511\"]}];\n",
       "  var docs = Object.values(docs_json)\n",
       "  if (!docs) {\n",
       "    return\n",
       "  }\n",
       "  const py_version = docs[0].version.replace('rc', '-rc.').replace('.dev', '-dev.')\n",
       "  function embed_document(root) {\n",
       "    var Bokeh = get_bokeh(root)\n",
       "    Bokeh.embed.embed_items_notebook(docs_json, render_items);\n",
       "    for (const render_item of render_items) {\n",
       "      for (const root_id of render_item.root_ids) {\n",
       "\tconst id_el = document.getElementById(root_id)\n",
       "\tif (id_el.children.length && (id_el.children[0].className === 'bk-root')) {\n",
       "\t  const root_el = id_el.children[0]\n",
       "\t  root_el.id = root_el.id + '-rendered'\n",
       "\t}\n",
       "      }\n",
       "    }\n",
       "  }\n",
       "  function get_bokeh(root) {\n",
       "    if (root.Bokeh === undefined) {\n",
       "      return null\n",
       "    } else if (root.Bokeh.version !== py_version) {\n",
       "      if (root.Bokeh.versions === undefined || !root.Bokeh.versions.has(py_version)) {\n",
       "\treturn null\n",
       "      }\n",
       "      return root.Bokeh.versions.get(py_version);\n",
       "    } else if (root.Bokeh.version === py_version) {\n",
       "      return root.Bokeh\n",
       "    }\n",
       "    return null\n",
       "  }\n",
       "  function is_loaded(root) {\n",
       "    var Bokeh = get_bokeh(root)\n",
       "    return (Bokeh != null && Bokeh.Panel !== undefined)\n",
       "  }\n",
       "  if (is_loaded(root)) {\n",
       "    embed_document(root);\n",
       "  } else {\n",
       "    var attempts = 0;\n",
       "    var timer = setInterval(function(root) {\n",
       "      if (is_loaded(root)) {\n",
       "        clearInterval(timer);\n",
       "        embed_document(root);\n",
       "      } else if (document.readyState == \"complete\") {\n",
       "        attempts++;\n",
       "        if (attempts > 200) {\n",
       "          clearInterval(timer);\n",
       "\t  var Bokeh = get_bokeh(root)\n",
       "\t  if (Bokeh == null || Bokeh.Panel == null) {\n",
       "            console.warn(\"Panel: ERROR: Unable to run Panel code because Bokeh or Panel library is missing\");\n",
       "\t  } else {\n",
       "\t    console.warn(\"Panel: WARNING: Attempting to render but not all required libraries could be resolved.\")\n",
       "\t    embed_document(root)\n",
       "\t  }\n",
       "        }\n",
       "      }\n",
       "    }, 25, root)\n",
       "  }\n",
       "})(window);</script>"
      ],
      "text/plain": [
       ":Overlay\n",
       "   .WMTS.I   :WMTS   [Longitude,Latitude]\n",
       "   .Points.I :Points   [Longitude,Latitude]   (visits)"
      ]
     },
     "execution_count": 22,
     "metadata": {
      "application/vnd.holoviews_exec.v0+json": {
       "id": "p1511"
      }
     },
     "output_type": "execute_result"
    }
   ],
   "source": [
    "ports.hvplot(geo=True,\n",
    "             tiles=True,\n",
    "             width=800,\n",
    "             height=600,\n",
    "             size='visits'\n",
    "             ).opts(active_tools=['wheel_zoom'])"
   ]
  },
  {
   "cell_type": "code",
   "execution_count": 27,
   "metadata": {},
   "outputs": [
    {
     "data": {
      "text/plain": [
       "115"
      ]
     },
     "execution_count": 27,
     "metadata": {},
     "output_type": "execute_result"
    }
   ],
   "source": [
    "# How about the NL?\n",
    "\n",
    "pvnl = pv[pv.portVisitFlag=='NLD'].copy()\n",
    "len(pvnl)"
   ]
  },
  {
   "cell_type": "code",
   "execution_count": 108,
   "metadata": {},
   "outputs": [
    {
     "data": {
      "text/plain": [
       "array(['SHORTHORN EXPRESS', 'ESPERANCE'], dtype=object)"
      ]
     },
     "execution_count": 108,
     "metadata": {},
     "output_type": "execute_result"
    }
   ],
   "source": [
    "pvnl.vessel.unique()"
   ]
  },
  {
   "cell_type": "markdown",
   "metadata": {},
   "source": [
    "There are only 115 port visits in the Netherlands. These are not all visits, because during the research I saw tracks going into the Netherlands ports that haven't been logged as a port visit by the GFW algorithms. I can use the tracks data and filter with port polygons."
   ]
  },
  {
   "cell_type": "code",
   "execution_count": 92,
   "metadata": {},
   "outputs": [],
   "source": [
    "# Create Polygons for ports\n",
    "\n",
    "ijmuiden = ((4.504274, 52.493004),\n",
    "          (4.910082, 52.449922),\n",
    "          (4.89085588546282, 52.37956124860245),\n",
    "          (4.394411, 52.413918),\n",
    "          (4.504274, 52.493004))\n",
    "\n",
    "rotterdam = ((3.892931,52.034854),\n",
    "             (4.443900,51.956091),\n",
    "             (4.423893,51.803771),\n",
    "             (3.745890,51.899889),\n",
    "             (3.892931,52.034854))\n",
    "\n",
    "zeeland = ((3.299345,51.546999),\n",
    "           (4.350941,51.467881),\n",
    "           (4.273901,51.198332),\n",
    "           (3.064373,51.403045),\n",
    "           (3.299345,51.546999))\n",
    "\n",
    "den_helder = ((4.641531,53.027905),\n",
    "              (4.880262,53.010702),\n",
    "              (4.892696,52.923835),\n",
    "              (52.914838, 4.641531),\n",
    "              (4.641531,53.027905))\n",
    "\n",
    "urk = ((5.506152,52.730952),\n",
    "       (5.690174,52.709111),\n",
    "       (5.710574,52.598706),\n",
    "       (5.535640,52.626007),\n",
    "       (5.506152,52.730952)\n",
    "       )\n",
    "\n",
    "eemshaven = ((6.585831,53.652322),\n",
    "             (7.044206,53.753703),\n",
    "             (7.059318,53.266950),\n",
    "             (6.578275,53.367753),\n",
    "             (6.585831,53.652322))\n",
    "\n",
    "harlingen = ((5.336631,53.214196),\n",
    "             (5.525522,53.227767),\n",
    "             (5.487744,53.129655),\n",
    "             (5.319001,53.151561),\n",
    "             (5.336631,53.214196))\n"
   ]
  },
  {
   "cell_type": "code",
   "execution_count": 103,
   "metadata": {},
   "outputs": [
    {
     "data": {
      "text/plain": [
       "4643101"
      ]
     },
     "execution_count": 103,
     "metadata": {},
     "output_type": "execute_result"
    }
   ],
   "source": [
    "# Import tracks\n",
    "\n",
    "tracks = []\n",
    "\n",
    "for file in PATH.joinpath('gfw_tracks').glob('*.csv'):\n",
    "    name = file.stem\n",
    "    df = pd.read_csv(file)\n",
    "    df['vessel'] = name\n",
    "    tracks.append(df)\n",
    "\n",
    "tracks = pd.concat(tracks)\n",
    "tracks = gpd.GeoDataFrame(tracks, geometry=gpd.points_from_xy(x=tracks.lon, y=tracks.lat), crs=4326)\n",
    "len(tracks)"
   ]
  },
  {
   "cell_type": "code",
   "execution_count": 104,
   "metadata": {},
   "outputs": [],
   "source": [
    "visits = []\n",
    "\n",
    "cols = [ijmuiden, rotterdam, zeeland]\n",
    "for col in cols:\n",
    "    polygon = Polygon(col)\n",
    "    gdf = tracks.loc[tracks.within(polygon)]\n",
    "    visits.append(gdf)\n",
    "\n",
    "portsnl = pd.concat(visits)\n",
    "portsnl.seg_id = portsnl.seg_id.str[10:]\n",
    "portsnl.seg_id = pd.to_datetime(portsnl.seg_id).dt.date"
   ]
  },
  {
   "cell_type": "code",
   "execution_count": 105,
   "metadata": {},
   "outputs": [],
   "source": [
    "visits = portsnl.groupby(['vessel', 'seg_id']).agg(observations=('vessel', 'count')).reset_index()\n",
    "visits[visits.seg_id.astype('str').str.contains('2023')].sort_values(by='seg_id', ascending=False).vessel.unique()"
   ]
  },
  {
   "cell_type": "code",
   "execution_count": 118,
   "metadata": {},
   "outputs": [
    {
     "data": {},
     "metadata": {},
     "output_type": "display_data"
    },
    {
     "data": {
      "application/vnd.holoviews_exec.v0+json": "",
      "text/html": [
       "<div id='p1199'>\n",
       "  <div id=\"ded353b8-f45a-462a-a839-b870b7e599f5\" data-root-id=\"p1199\" style=\"display: contents;\"></div>\n",
       "</div>\n",
       "<script type=\"application/javascript\">(function(root) {\n",
       "  var docs_json = {\"4a85436f-4184-4278-af8c-fc8a220aa425\":{\"version\":\"3.3.2\",\"title\":\"Bokeh Application\",\"roots\":[{\"type\":\"object\",\"name\":\"Row\",\"id\":\"p1199\",\"attributes\":{\"name\":\"Row01982\",\"tags\":[\"embedded\"],\"stylesheets\":[\"\\n:host(.pn-loading.pn-arc):before, .pn-loading.pn-arc:before {\\n  background-image: url(\\\"data:image/svg+xml;base64,PHN2ZyB4bWxucz0iaHR0cDovL3d3dy53My5vcmcvMjAwMC9zdmciIHN0eWxlPSJtYXJnaW46IGF1dG87IGJhY2tncm91bmQ6IG5vbmU7IGRpc3BsYXk6IGJsb2NrOyBzaGFwZS1yZW5kZXJpbmc6IGF1dG87IiB2aWV3Qm94PSIwIDAgMTAwIDEwMCIgcHJlc2VydmVBc3BlY3RSYXRpbz0ieE1pZFlNaWQiPiAgPGNpcmNsZSBjeD0iNTAiIGN5PSI1MCIgZmlsbD0ibm9uZSIgc3Ryb2tlPSIjYzNjM2MzIiBzdHJva2Utd2lkdGg9IjEwIiByPSIzNSIgc3Ryb2tlLWRhc2hhcnJheT0iMTY0LjkzMzYxNDMxMzQ2NDE1IDU2Ljk3Nzg3MTQzNzgyMTM4Ij4gICAgPGFuaW1hdGVUcmFuc2Zvcm0gYXR0cmlidXRlTmFtZT0idHJhbnNmb3JtIiB0eXBlPSJyb3RhdGUiIHJlcGVhdENvdW50PSJpbmRlZmluaXRlIiBkdXI9IjFzIiB2YWx1ZXM9IjAgNTAgNTA7MzYwIDUwIDUwIiBrZXlUaW1lcz0iMDsxIj48L2FuaW1hdGVUcmFuc2Zvcm0+ICA8L2NpcmNsZT48L3N2Zz4=\\\");\\n  background-size: auto calc(min(50%, 400px));\\n}\",{\"type\":\"object\",\"name\":\"ImportedStyleSheet\",\"id\":\"p1202\",\"attributes\":{\"url\":\"https://cdn.holoviz.org/panel/1.3.4/dist/css/loading.css\"}},{\"type\":\"object\",\"name\":\"ImportedStyleSheet\",\"id\":\"p1287\",\"attributes\":{\"url\":\"https://cdn.holoviz.org/panel/1.3.4/dist/css/listpanel.css\"}},{\"type\":\"object\",\"name\":\"ImportedStyleSheet\",\"id\":\"p1200\",\"attributes\":{\"url\":\"https://cdn.holoviz.org/panel/1.3.4/dist/bundled/theme/default.css\"}},{\"type\":\"object\",\"name\":\"ImportedStyleSheet\",\"id\":\"p1201\",\"attributes\":{\"url\":\"https://cdn.holoviz.org/panel/1.3.4/dist/bundled/theme/native.css\"}}],\"min_width\":800,\"margin\":0,\"sizing_mode\":\"stretch_width\",\"align\":\"start\",\"children\":[{\"type\":\"object\",\"name\":\"Spacer\",\"id\":\"p1203\",\"attributes\":{\"name\":\"HSpacer01992\",\"stylesheets\":[\"\\n:host(.pn-loading.pn-arc):before, .pn-loading.pn-arc:before {\\n  background-image: url(\\\"data:image/svg+xml;base64,PHN2ZyB4bWxucz0iaHR0cDovL3d3dy53My5vcmcvMjAwMC9zdmciIHN0eWxlPSJtYXJnaW46IGF1dG87IGJhY2tncm91bmQ6IG5vbmU7IGRpc3BsYXk6IGJsb2NrOyBzaGFwZS1yZW5kZXJpbmc6IGF1dG87IiB2aWV3Qm94PSIwIDAgMTAwIDEwMCIgcHJlc2VydmVBc3BlY3RSYXRpbz0ieE1pZFlNaWQiPiAgPGNpcmNsZSBjeD0iNTAiIGN5PSI1MCIgZmlsbD0ibm9uZSIgc3Ryb2tlPSIjYzNjM2MzIiBzdHJva2Utd2lkdGg9IjEwIiByPSIzNSIgc3Ryb2tlLWRhc2hhcnJheT0iMTY0LjkzMzYxNDMxMzQ2NDE1IDU2Ljk3Nzg3MTQzNzgyMTM4Ij4gICAgPGFuaW1hdGVUcmFuc2Zvcm0gYXR0cmlidXRlTmFtZT0idHJhbnNmb3JtIiB0eXBlPSJyb3RhdGUiIHJlcGVhdENvdW50PSJpbmRlZmluaXRlIiBkdXI9IjFzIiB2YWx1ZXM9IjAgNTAgNTA7MzYwIDUwIDUwIiBrZXlUaW1lcz0iMDsxIj48L2FuaW1hdGVUcmFuc2Zvcm0+ICA8L2NpcmNsZT48L3N2Zz4=\\\");\\n  background-size: auto calc(min(50%, 400px));\\n}\",{\"id\":\"p1202\"},{\"id\":\"p1200\"},{\"id\":\"p1201\"}],\"margin\":0,\"sizing_mode\":\"stretch_width\",\"align\":\"start\"}},{\"type\":\"object\",\"name\":\"Figure\",\"id\":\"p1232\",\"attributes\":{\"width\":800,\"margin\":[5,10],\"sizing_mode\":\"fixed\",\"align\":\"start\",\"x_range\":{\"type\":\"object\",\"name\":\"Range1d\",\"id\":\"p1213\",\"attributes\":{\"tags\":[[[\"Longitude\",\"Longitude\",null]],[]],\"start\":265139.06177807087,\"end\":596851.726633109,\"reset_start\":265139.06177807087,\"reset_end\":596851.726633109,\"min_interval\":5}},\"y_range\":{\"type\":\"object\",\"name\":\"Range1d\",\"id\":\"p1214\",\"attributes\":{\"tags\":[[[\"Latitude\",\"Latitude\",null]],{\"type\":\"map\",\"entries\":[[\"invert_yaxis\",false],[\"autorange\",false]]}],\"start\":6658585.138505912,\"end\":6907369.637147191,\"reset_start\":6658585.138505912,\"reset_end\":6907369.637147191,\"min_interval\":5}},\"x_scale\":{\"type\":\"object\",\"name\":\"LinearScale\",\"id\":\"p1242\"},\"y_scale\":{\"type\":\"object\",\"name\":\"LinearScale\",\"id\":\"p1243\"},\"title\":{\"type\":\"object\",\"name\":\"Title\",\"id\":\"p1235\",\"attributes\":{\"text_color\":\"black\",\"text_font_size\":\"12pt\"}},\"renderers\":[{\"type\":\"object\",\"name\":\"TileRenderer\",\"id\":\"p1265\",\"attributes\":{\"level\":\"underlay\",\"tile_source\":{\"type\":\"object\",\"name\":\"WMTSTileSource\",\"id\":\"p1261\",\"attributes\":{\"url\":\"https://c.tile.openstreetmap.org/{Z}/{X}/{Y}.png\",\"attribution\":\"&copy; <a href=\\\"https://www.openstreetmap.org/copyright\\\">OpenStreetMap</a> contributors\"}}}},{\"type\":\"object\",\"name\":\"GlyphRenderer\",\"id\":\"p1278\",\"attributes\":{\"data_source\":{\"type\":\"object\",\"name\":\"ColumnDataSource\",\"id\":\"p1269\",\"attributes\":{\"selected\":{\"type\":\"object\",\"name\":\"Selection\",\"id\":\"p1270\",\"attributes\":{\"indices\":[],\"line_indices\":[]}},\"selection_policy\":{\"type\":\"object\",\"name\":\"UnionRenderers\",\"id\":\"p1271\"},\"data\":{\"type\":\"map\",\"entries\":[[\"Longitude\",{\"type\":\"ndarray\",\"array\":{\"type\":\"bytes\",\"data\":\"oHUQz5iKHkHMvW70JgEfQS0rdAeoKh9BGWYBFT09H0F3/whAekYfQTOMDzV6mh9B7om8EfyvH0EzfFldD7AfQdtqKQMZsB9B8fjV3/avH0Gc56WFALAfQS4AMpmyrx9BX0PP2JeuH0Gw2NduMa4fQYXjAM72rR9BaRT0fiuuH0GdFXmFEa4fQV37NyMerh9BwLzhvfytH0GvnU6vGa4fQSeRcAETrh9BdMRtvxOuH0G7TcjvAa4fQczVnRkKrh9BUOJ7xxCuH0HSf0CnHK4fQSnM+cAqrh9Bo4SSUwyuH0EH6gfJJ64fQe+3jxENrh9Bb76WDD6uH0GdrDZq7K0fQTRB6kH7rR9Bkvy8KQSuH0FBWqadCK4fQXTEbb8Trh9BmKZftxauH0HY7ll1F64fQRx4tKUFrh9BdMRtvxOuH0GS/LwpBK4fQXkzh40Orh9BAUBlOxWuH0Ew0tBzAK4fQXkzh40Orh9BXfs3Ix6uH0HB92p9FK4fQR8cgIBCrh9BuUNi26iXH0HKDiWRJVkfQS8odO9DQh9BAmliQBgFH0EkW2fVf7weQaxiDTTgeR5Bjs+7KFLbHkG4X9qATCMfQdaN2OtIPB9BYqjfVzNlH0FkHImrL6YfQaPZHVvksB9B7wwbGeWwH0EwJ1x72LAfQR3NP63dsB9BqRp+zdGwH0Fc54AP0bAfQcFM9oTssB9B3YRF79ywH0GO4i5j4bAfQcFM9oTssB9ByyopIeKwH0H+lPBC7bAfQVl4Z0HWsB9BNZZ1SdOwH0FSNwfP6LAfQd2ERe/csB9BuqJT99mwH0GpGn7N0bAfQca7D1PnsB9BQa8xpeCwH0HvDBsZ5bAfQUYeS3PbsB9ByFLNN8KwH0G0Mzop37AfQQAsrifIsB9BYVaa3cuwH0Gj2R1b5LAfQTtAGNflsB9BNZZ1SdOwH0FlkSOd47AfQRheJt/isB9BKeb7COuwH0G0Mzop37AfQemdAUvqsB9B6QZEZg+xH0FBrzGl4LAfQdLUy670sB9B0tTLrvSwH0EYXibf4rAfQWoAPWvesB9BWXhnQdawH0HvDBsZ5bAfQZ1qBI3psB9BVuGpXPuwH0GAyXIH1LAfQR3NP63dsB9B10PlfO+wH0GY++q+7rAfQR3NP63dsB9BS8jtAO6wH0HLKikh4rAfQUvI7QDusB9BtDM6Kd+wH0E7QBjX5bAfQRLvDBHosB9ByyopIeKwH0EdzT+t3bAfQUvI7QDusB9BYVaa3cuwH0FBrzGl4LAfQW1vVjnZsB9BbW9WOdmwH0HS1Muu9LAfQUtfq+XIsB9BB9ZQtdqwH0F7iBKV5rAfQXQZ+cbrsB9BhaHO8POwH0FUcpCOALEfQUFG74m7sB9B9Hs059+wH0G0Mzop37AfQWoAPWvesB9B0muJk8+wH0FZeGdB1rAfQe8MGxnlsB9BZZEjneOwH0FGHktz27AfQcsqKSHisB9B9BLyy7qwH0EMRWqD1bAfQcsqKSHisB9BWXhnQdawH0HoYniL0rAfQakafs3RsB9B3YRF79ywH0E7QBjX5bAfQTAnXHvYsB9BmPvqvu6wH0EH1lC12rAfQRheJt/isB9BM/+3ZPiwH0G0Mzop37AfQTAnXHvYsB9B7wwbGeWwH0FBrzGl4LAfQY7iLmPhsB9BRh5Lc9uwH0GFoc7w87AfQbQzOinfsB9B6Z0BS+qwH0FqAD1r3rAfQXQZ+cbrsB9ByyopIeKwH0G0Mzop37AfQUvI7QDusB9BRh5Lc9uwH0Gu8tm28bAfQY7iLmPhsB9Bo9kdW+SwH0HoYniL0rAfQakafs3RsB9BbW9WOdmwH0G6olP32bAfQQxFaoPVsB9BOAWPF86wH0GFOIzVzrAfQUa1CFi2sB9BHgjJbPWwH0EwJ1x72LAfQca7D1PnsB9ByyopIeKwH0G/EW3F1LAfQaPZHVvksB9BHc0/rd2wH0GQUUgx3LAfQaPZHVvksB9BWXhnQdawH0HvDBsZ5bAfQf6U8ELtsB9BagA9a96wH0GpGn7N0bAfQRLvDBHosB9BRh5Lc9uwH0HLKikh4rAfQePzXr3XsB9BEu8MEeiwH0G/EW3F1LAfQfW2vab3sB9BmPvqvu6wH0E7QBjX5bAfQYtLcX4GsR9BagA9a96wH0GAMrUi+bAfQXuIEpXmsB9BkFFIMdywH0G/EW3F1LAfQddD5XzvsB9B/pTwQu2wH0FlkSOd47AfQUdZ1DLzsB9BRh5Lc9uwH0Gj2R1b5LAfQTtAGNflsB9BZZEjneOwH0FLyO0A7rAfQWoAPWvesB9BMCdce9iwH0G6olP32bAfQRheJt/isB9BO0AY1+WwH0H7Jdd08rAfQe8MGxnlsB9BnWoEjemwH0HGuw9T57AfQR3NP63dsB9B0muJk8+wH0GdagSN6bAfQcKq5nyfnx9BaQFV30lCH0FNaShKDy4fQfZJuHWRzB5BPHqXxmJ6GkH9n7UelSEbQaQMsXc2gBtBABk6/D3YG0ETRn9fBzYcQU300txshhxBGfeZFhTOHEE2PofkAycdQdmPCGhpjR1Bs52R+KLZHUFX2rcJN+UdQWm+2/wF4x1Bu2DyiAHjHUF9gTrmJeMdQVQwLyAo4x1BJTWBzBfjHUFLhoySFeMdQSXMPrHy4h1BDQMJFf3iHUEqO1h/7eIdQUBt0DYI4x1BDQMJFf3iHUGHmvZBM+MdQYDwU7Qg4x1BQG3QNgjjHUFR9aVgEOMdQUkXc8Qa4x1BSRdzxBrjHUEjkbXx2uIdQQZZZofq4h1BekaxJg7jHUESciLj9+IdQdKSakAc4x1BKKSamhLjHUERrauiD+MdQcEKlRYU4x1BmX4Akf7iHUHM6MeyCeMdQRyL3j4F4x1BFxzFcArjHUESCeDH0uIdQWVPwi4L4x1BzOjHsgnjHUGYuYlQFuMdQTDl+gwA4x1BDqfU7znjHUEXHMVwCuMdQW9ofooY4x1BwQqVFhTjHUHNI1FyIeMdQeSx/U7/4h1B0pJqQBzjHUFR9aVgEOMdQRyL3j4F4x1BXw5ivB3jHUFF3OkEA+MdQSU1gcwX4x1BS4aMkhXjHUFX2rcJN+UdQU7Mv6v68h1Bf+Uy8VUIHkHmfdqL3BAeQVoC4w/bEB5B2mQeMM8QHkEK94louhAeQaX6Vg7EEB5BiMIHpNMQHkEHYMyD3xAeQeZ92ovcEB5BvcOMqrkQHkFfcfzd1RAeQSwHNbzKEB5Bw20vOMwQHkEUeYjf7BAeQYjCB6TTEB5BMLHXSd0QHkG4VHPcvhAeQQdgzIPfEB5BBfGyteQQHkG4VHPcvhAeQdpkHjDPEB5B90A5dfwQHkH41/ZZ1xAeQQ3P5VHaEB5B/EYQKNIQHkHJ3EgGxxAeQa8TE2rREB5BydxIBscQHkG4vbX34xAeQfxGECjSEB5BcssYrNAQHkGOA2gWwRAeQcNtLzjMEB5BG+ihrecQHkFaAuMP2xAeQfItVMzEEB5BDc/lUdoQHkEwsddJ3RAeQcNtLzjMEB5Bw20vOMwQHkFO6Sa0zRAeQdP1BGLUEB5B+Nf2WdcQHkElAV4J9RAeQayk+ZvWEB5BoIs9QMkQHkGl+lYOxBAeQVSTyUHgEB5BSXoN5tIQHkHT9QRi1BAeQcncSAbHEB5BVJPJQeAQHkGlkRTznhAeQdCG65PZEB5B8i1UzMQQHkEDtin2zBAeQaCLPUDJEB5B2mQeMM8QHkHJ3EgGxxAeQXypS0jGEB5BdzoyessQHkHsvjr+yRAeQeZ92ovcEB5BVFhAgsgQHkGU28P/4BAeQfxGECjSEB5Bw20vOMwQHkFfcfzd1RAeQfxGECjSEB5BoIs9QMkQHkEg7nhgvRAeQeZ92ovcEB5BdzoyessQHkENz+VR2hAeQdCG65PZEB5B7L46/skQHkGU28P/4BAeQVoC4w/bEB5B4Q7BveEQHkH41/ZZ1xAeQVRYQILIEB5BthnqHKcQHkE4W3rX7xAeQZocJHLOEB5BFBBGxMcQHkEDtin2zBAeQWuKuDnjEB5BB2DMg98QHkH8RhAo0hAeQeEOwb3hEB5BiMIHpNMQHkFyyxis0BAeQaw7t4CxEB5Bmhwkcs4QHkGOA2gWwRAeQQdgzIPfEB5BfeTUB94QHkGIwgek0xAeQULQaljAEB5BB2DMg98QHkGvExNq0RAeQQdgzIPfEB5B/EYQKNIQHkEQCm8R8hAeQZTbw//gEB5BVe/9ZqMQHkFCOa1z5RAeQeGlfqK8EB5BpfpWDsQQHkENz+VR2hAeQWuKuDnjEB5B8paW5+kQHkHJ3EgGxxAeQY4DaBbBEB5Bmhwkcs4QHkEF8bK15BAeQYNT7tXYEB5BB2DMg98QHkFHP4QmuxAeQdP1BGLUEB5BZbJcUMMQHkErQr574hAeQXejdJXwEB5BfeTUB94QHkHaZB4wzxAeQey+Ov7JEB5BayF2Hr4QHkHsvjr+yRAeQU7pJrTNEB5B0Ibrk9kQHkHmfdqL3BAeQbi9tffjEB5BuFRz3L4QHkHDbS84zBAeQdCG65PZEB5BLAc1vMoQHkHJ3EgGxxAeQT9hUYrFEB5BfeTUB94QHkH3nG2avxAeQfxGECjSEB5Bj2yqMeYQHkH8RhAo0hAeQXLLGKzQEB5BA7Yp9swQHkFyyxis0BAeQdCG65PZEB5BVFhAgsgQHkFUWECCyBAeQQr3iWi6EB5B/EYQKNIQHkHOS2LUwRAeQfxGECjSEB5BoPR/W+4QHkFO6Sa0zRAeQdpkHjDPEB5B0Ibrk9kQHkEHYMyD3xAeQdCG65PZEB5B3J+n7+YQHkG9LM/F3hAeQfKWlufpEB5B2mQeMM8QHkHaZB4wzxAeQa8TE2rREB5BayF2Hr4QHkFamaD0tRAeQULQaljAEB5B8paW5+kQHkHylpbn6RAeQc5LYtTBEB5BcJCP7LgQHkHDbS84zBAeQQ1moza1EB5BDc/lUdoQHkFO6Sa0zRAeQbJOnCnpEB5B0/UEYtQQHkENz+VR2hAeQU7pJrTNEB5B/EYQKNIQHkGD6qu6sxAeQey+Ov7JEB5B7L46/skQHkGspPmb1hAeQdP1BGLUEB5B5n3ai9wQHkGIwgek0xAeQey+Ov7JEB5BK0K+e+IQHkE9ypOl6hAeQWB+CtQ3ER5B0Ibrk9kQHkFbpq7qFxEeQV9x/N3VEB5BToDkmKgQHkHDbS84zBAeQZocJHLOEB5BvSzPxd4QHkFC0GpYwBAeQYjCB6TTEB5BXwi6wrAQHkHDbS84zBAeQU7pJrTNEB5B/EYQKNIQHkFO6Sa0zRAeQc5LYtTBEB5BGiMrbf8QHkEwsddJ3RAeQX3k1AfeEB5Bw9ZxU/EQHkGZ4ZqythAeQXCQj+y4EB5B4Q7BveEQHkG9LM/F3hAeQZTbw//gEB5B+Nf2WdcQHkEb6KGt5xAeQQr3iWi6EB5B8paW5+kQHkHhpX6ivBAeQXc6MnrLEB5B/EYQKNIQHkFUk8lB4BAeQdP1BGLUEB5BpjXgzdsQHkElAV4J9RAeQfjX9lnXEB5BFBBGxMcQHkGl+lYOxBAeQQdgzIPfEB5BD/1gG5AQHkHsvjr+yRAeQaY14M3bEB5BDWajNrUQHkEDtin2zBAeQcncSAbHEB5BWpmg9LUQHkEHYMyD3xAeQclFiyHsEB5B/EYQKNIQHkENz+VR2hAeQYjCB6TTEB5BlNvD/+AQHkHnuGNL9BAeQfxGECjSEB5BQjmtc+UQHkG4VHPcvhAeQclFiyHsEB5B5n3ai9wQHkH8RhAo0hAeQdpkHjDPEB5B+Nf2WdcQHkHsvjr+yRAeQdP1BGLUEB5BpfpWDsQQHkGPbKox5hAeQeZ92ovcEB5B+Nf2WdcQHkErqwCXBxEeQQNN59qnEB5BIPuGVh8RHkF95NQH3hAeQdCG65PZEB5Bw20vOMwQHkHJ3EgGxxAeQRvooa3nEB5BVFhAgsgQHkGaHCRyzhAeQV9x/N3VEB5B+Nf2WdcQHkHOS2LUwRAeQcNtLzjMEB5BX3H83dUQHkGvExNq0RAeQdCG65PZEB5BBfGyteQQHkF8qUtIxhAeQYjCB6TTEB5B/EYQKNIQHkF8qUtIxhAeQSApAiDVEB5BSXoN5tIQHkEQCm8R8hAeQdpkHjDPEB5B/EYQKNIQHkGIwgek0xAeQVRYQILIEB5BX3H83dUQHkGyTpwp6RAeQQdgzIPfEB5BFBBGxMcQHkHcn6fv5hAeQfjX9lnXEB5BfKlLSMYQHkE/YVGKxRAeQaX6Vg7EEB5BpfpWDsQQHkEF8bK15BAeQXLLGKzQEB5BuFRz3L4QHkF95NQH3hAeQey+Ov7JEB5BsarQTqwQHkGl+lYOxBAeQYjCB6TTEB5BVJPJQeAQHkGPbKox5hAeQYNT7tXYEB5B0/UEYtQQHkF3o3SV8BAeQfxGECjSEB5BG+ihrecQHkGDU+7V2BAeQfecbZq/EB5BiMIHpNMQHkHQhuuT2RAeQeZ92ovcEB5B2mQeMM8QHkHhDsG94RAeQfjX9lnXEB5B2mQeMM8QHkHT9QRi1BAeQdCG65PZEB5BdzoyessQHkHsvjr+yRAeQQ3P5VHaEB5B2mQeMM8QHkEUEEbExxAeQStCvnviEB5BlHKB5LsQHkF3OjJ6yxAeQey+Ov7JEB5Bj2yqMeYQHkHcn6fv5hAeQSWYG+7PEB5BfeTUB94QHkE9M9bADxEeQcNtLzjMEB5B2mQeMM8QHkHDbS84zBAeQbJOnCnpEB5Bmhwkcs4QHkEsBzW8yhAeQdpkHjDPEB5BydxIBscQHkEb6KGt5xAeQRvooa3nEB5BayF2Hr4QHkGDU+7V2BAeQRR5iN/sEB5B0Ibrk9kQHkHmfdqL3BAeQQ3P5VHaEB5Bsk6cKekQHkHT9QRi1BAeQcncSAbHEB5BfeTUB94QHkGvExNq0RAeQV9x/N3VEB5Bw20vOMwQHkF3OjJ6yxAeQTa3rvyyEB5BdzoyessQHkH41/ZZ1xAeQXLLGKzQEB5B4Q7BveEQHkH41/ZZ1xAeQX3k1AfeEB5BTukmtM0QHkF3OjJ6yxAeQRR5iN/sEB5Bmhwkcs4QHkGgiz1AyRAeQT9hUYrFEB5B8i1UzMQQHkGl+lYOxBAeQfxGECjSEB5BBfGyteQQHkGl+lYOxBAeQVRYQILIEB5B5n3ai9wQHkH41/ZZ1xAeQVRYQILIEB5B7L46/skQHkHaZB4wzxAeQdP1BGLUEB5B0/UEYtQQHkE2IPEX2BAeQfjX9lnXEB5BBfGyteQQHkFsl8YvRREeQYXovocc6x1BMA+CzIOZHUE3Ufqy3CodQYt8jqkryRxBZT1+uNQFHEG2c8GXj4IbQdHI5pCbBRtBwpz/qpPNGUH4iSXUh84ZQVNT8sALyhlBx9f6RArKGUHC0SOSNMoZQXlPAKXSyhlBt4NDT4bNGUGO4/e1I9AZQXJPdCZw0BlBoKZWn0PQGUHy3yoQGtAZQXGrqEsz0BlBpVD5LFbQGUGw0vejiNAZQVvBx0mS0BlBQ49PknfQGUGTA+tUvdAZQQosv7P40BlBy7VJLELRGUEJ/kPqQtEZQUfXPn5MzxlBMX4Ov2rKGUFq4Z6d6ckZQZlzCtbUyRlBsaWCje/JGUE1pVJFlMkZQdK1LeH/yRlB2LRbdurMGUEsxhn2gdAZQZYDBfnAzhlBNUJbXuLOGUE0Ie6Kjs8ZQfHSHBq4zxlBnow6s3/PGUEGvf0bWc8ZQbFcp5IB0BlBE/DVYyrQGUGjKc9KMM8ZQaIPs15szhlBY7oC4WTMGUHrihOK39IZQeyYxd7FMBpB+dDQ5p6lGkHiPAWnVggbQU5gGjPeaxtBoq5JFobGG0H9WDmdUxscQcD52lpeZRxByxB+HoKpHEGLuVzSNe0cQYFMuc3URx1BqHHZN7qgHUHFuoLYmegdQdvp4NNMAh5BxRpgA+T8HUFP+dyLOPsdQRNOtfc/+x1BwUJcUB/7HUFwrVO6hfsdQaq0r3NB+x1BtZLiDzf7HUETTrX3P/sdQYbSvXs++x1BMcGNIUj7HUHkjZBjR/sdQcGrnmtE+x1BAsbfzTf7HUE3MKfvQvsdQZPreddL+x1BhtK9ez77HUEM35spRfsdQer8qTFC+x1B2XTUBzr7HUFBSWNLUPsdQaRzTwFU+x1B+xs9QCX7HUGem/MXNPsdQc1bGKws+x1BeyJEO1b7HUG7PIWdSfsdQeQkTkgi+x1BhtK9ez77HUG7PIWdSfsdQcGrnmtE+x1B3uPt1TT7HUGwI8lBPPsdQYAoG+4r+x1BsCPJQTz7HUHZdNQHOvsdQWCBsrVA+x1BnpvzFzT7HUE8n8C9PfsdQU/53Is4+x1BYIGytUD7HUGkCg3mLvsdQQLG3803+x1BCBqZavoAHkFYLfkYfvUdQS6eHgb4ph1BkHfiRJ5SHUEd5FUBpPccQZI2P0UEshxBp18MlzdgHEG9et/j7xIcQRVpusaZvBtB6Yv9ySZoG0HinOLRoBwbQVnjjeN1yhpBOeatlJnMGkHwbN3WwyAbQU8fRj9TZhtBdvjnW+CpG0Fsc+Q9q/IbQc5nmSdBMxxBIYxTDLRvHEH73GxjaLAcQT5m+PP95hxBEFs3A4kvHUGPATVuHYUdQW7YacMo4B1BI8uDAoEeHkG5GKbXMhceQXcCyAW6xR1BXPvCHDx3HUH1JQJVABYdQTcWRSK8whxByfvF5raBHEGJYD8VxDwcQUw7I/lb9htBxh+n51WdG0H5c7WtF0sbQe/SSOvANxpBlwTVKE6UGkGa/XGAb/0aQXiz4cvLWhtBT6GRYW+kG0EyNMFK5NobQTBNsK3XGhxBWIvr3wJKHEHonPqm0rQcQSbmnVL24BxBr7AGAgQVHUEtm9h4h1gdQfshXKOPmB1BZ04z5eu0HUGUd0JerrYdQQFSqFSath1B5RlZ6qm2HUFvlVBmq7YdQQG76m+/th1BQtUr0rK2HUEe8znar7YdQVfMGsq1th1Bj3Frq9i2HUH2oS4UsrYdQQcqBD66th1B0r88HK+2HUGLNuLrwLYdQQ3UpsvMth1B9qEuFLK2HUHNUCNOtLYdQTyUy1/Fth1BwJObF2q2HUEe8znar7YdQQFSqFSath1B8DIVRre2HUExtpjDz7YdQfAyFUa3th1B/acFx4e2HUEfive+irYdQZPghHnTth1BjM2f0Ju2HUEHwcEilbYdQeUZWeqpth1Bauut2Ji2HUFBmqISm7YdQQww2/CPth1BPCuJRKC2HUFC1SvSsrYdQU2zXm6oth1BlHdCXq62HUFXY9iukLYdQSWd3GfCth1BlHdCXq62HUEY4FQxeLYdQQ1rZLCnth1Bb5VQZqu2HUHNUCNOtLYdQTa8b3alth1B/acFx4e2HUH2oS4UsrYdQTB7DwS4th1Be64Mwri2HUGekP65u7YdQfahLhSyth1BTu7nLcC2HUENa2Swp7YdQUdERaCtth1BNrxvdqW2HUFvlVBmq7YdQRPafX6ith1B8DIVRre2HUFC1SvSsrYdQXU/8/O9th1BTbNebqi2HUF1P/PzvbYdQU2zXm6oth1B8DIVRre2HUEHKgQ+urYdQRhJl0ydth1Bf0Mj6Qj3HUG5WjDrkBIeQQsjh4UhUB1BmCBTTovxHEEaX/WxvqEcQbzOacdJ6xtBMHTx3+qCG0GuYfRiwxMbQWhWThC51RpB3hyJcbrSGkG66j4y50MbQaKlQeukpxtBnKZZy8YKHEFbaCJTz78cQfpRMyYlIx1BloJjIXmRHUH4c3ApBugdQQpO0UKCAh5BV/G5OZP/HUHsHCv2fP8dQU5HF6yA/x1B2lnMDF3/HUEtN2xYcP8dQXMpCaSD/x1BBOZgknL/HUF/5pDazf8dQduUVcx0/x1B/qQAIIX/HUG3smPUcf8dQRD/HO5//x1B0NfNlSr/HUGLW4Fbnv8dQQq+vHuS/x1BbLrv1Yj/HUEKvrx7kv8dQfPGzYOP/x1BcykJpIP/HUFX8bk5k/8dQck6Of55/x1BsQjBRl//HUGLW4Fbnv8dQewcK/Z8/x1BfULF/5D/HUFfZqq6Y/8dQXeYInJ+/x1BV/G5OZP/HUEg4yY9S/8dQXMpCaSD/x1BYqEzenv/HUEzpoUma/8dQQ/Eky5o/x1B1eqyPmL/HUE+v0GCeP8dQbeyY9Rx/x1BsQjBRl//HUG0Q0oGd/8dQSGH8heI/x1B4WyxtZT/HUGL8j5Aef8dQQRPo62X/x1B88bNg4//HUE9KISdnf8dQQRPo62X/x1Bz+Tbi4z/HUHP5NuLjP8dQduUVcx0/x1BStj93YX/HUEhh/IXiP8dQQq+vHuS/x1Bd5gicn7/HUHzxs2Dj/8dQTMPyEGQ/x1B6Ry5Gx4DHkHgNUhlAd8dQZ334cfqlB1BF+cuQ1QYHUE3YH4GIrQcQViRULh5TRxBqQME18b2G0EvSR74PW0bQbykS6K+9hdBA6aGUdFPGEEVjvaELZUYQWJSNf+kKhlBVlzOGuSAGUHDby3PAPoZQXMaOe/hbBpBir/VOs3uGkH8SG5EzS8bQcT+PqOgbBtBIJ7cBvyvG0GI4T4PtxscQbedqNzZbhxBjdWRVuOpHEEF97cIld4cQZJS655lCx1BMgVIHX0ZHUGA1b/OKhsdQYHGD6rcKR1By/ZK4tBBHUGhcMP+1kYdQamFZHr+NR1BVg0GDi4jHUE2dAm1HBsdQdwd6oa1BB1Bb0dZ+6KvHEFP9OyAcIQcQeTplfc0KhxB+e30OTLGG0HWf2uvvW8bQWIKLfQQXxtBoF+X/Av7GkFzkHc/GtUaQajvSQOtkBpBGFs0a08jGkFJKZkNGbMZQbY+KKoMTxlBUxUJZMmrGEE4JU7vhUMXQTiQBmiOzBZBuXPp32PbFUEH1y/7WGIVQQA8EcGL6xRBJmYMtR26FUGUUrNhcy4WQUwWCQMDpRZBpbY1sH0WF0GFOyoawIsXQah9P7IZBhhBk5akPelUGEGmDCJhmnkYQdn5vl9CFxlBPq+hnUmnGUH2q3knVvoZQX7uHxuCVBpB7ubtPb+cGkEKm3sosNUaQT0By6Tb9xpBHEpPz4tAG0GkzoRltGQbQVSnxdk+cRtBJOSB+j+8G0HR6Ar8kg4cQR+C7fdaWRxBYx3mo6yaHEHjEzfHcrAcQWSDy+Fz5RxBmXSaEO/6HEEtfIQ9HRUdQa1AASXwGR1BedY5A+UZHUGNQAcarDUdQYAz+8qIPh1BDmjTHowzHUH59f4AYiMdQXOoTF/QHR1BkUne5OUdHUHkr/uaTLwcQfIjXdL9jRxB0I7DCWc0HEHfzXfDdNQbQSLKwtN1iBtB0NUl56Q8G0Hh/tiU1OwaQfiqpyj3zhpBfRwkezqJGkG9fFKBBjMaQdDolfWw1xlBv++Iam97GUHdCCxjmjkZQUL2u8ryERlBW5SV6DjHGEFV2FTfwoUYQWEOigTyOxhBEiDEyvbvF0Ex9IwEFscXQezj/vWuSRdB\"},\"shape\":[1077],\"dtype\":\"float64\",\"order\":\"little\"}],[\"Latitude\",{\"type\":\"ndarray\",\"array\":{\"type\":\"bytes\",\"data\":\"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\"},\"shape\":[1077],\"dtype\":\"float64\",\"order\":\"little\"}],[\"timestamp\",[\"2013-04-06T01:16:06.000Z\",\"2013-04-06T01:40:31.000Z\",\"2013-04-06T01:52:38.000Z\",\"2013-04-06T02:06:25.000Z\",\"2013-04-06T02:18:31.000Z\",\"2013-04-06T02:31:07.000Z\",\"2013-04-06T02:43:31.000Z\",\"2013-04-06T03:24:33.000Z\",\"2013-04-06T04:02:02.000Z\",\"2013-04-06T04:36:35.000Z\",\"2013-04-06T04:48:39.000Z\",\"2013-04-06T05:02:33.000Z\",\"2013-04-06T05:15:34.000Z\",\"2013-04-06T05:27:37.000Z\",\"2013-04-06T06:09:46.000Z\",\"2013-04-06T06:54:38.000Z\",\"2013-04-06T07:18:41.000Z\",\"2013-04-06T07:32:13.000Z\",\"2013-04-06T07:45:41.000Z\",\"2013-04-06T07:57:42.000Z\",\"2013-04-06T08:36:44.000Z\",\"2013-04-06T08:48:53.000Z\",\"2013-04-06T09:03:44.000Z\",\"2013-04-06T09:42:45.000Z\",\"2013-04-06T10:23:30.000Z\",\"2013-04-06T10:36:46.000Z\",\"2013-04-06T10:51:45.000Z\",\"2013-04-06T11:31:44.000Z\",\"2013-04-06T12:09:49.000Z\",\"2013-04-06T13:00:51.000Z\",\"2013-04-06T13:27:50.000Z\",\"2013-04-06T13:42:45.000Z\",\"2013-04-06T14:12:52.000Z\",\"2013-04-06T14:26:57.000Z\",\"2013-04-06T14:39:51.000Z\",\"2013-04-06T14:51:52.000Z\",\"2013-04-06T15:03:52.000Z\",\"2013-04-06T15:45:53.000Z\",\"2013-04-06T16:30:55.000Z\",\"2013-04-06T16:45:54.000Z\",\"2013-04-06T16:57:55.000Z\",\"2013-04-06T17:09:55.000Z\",\"2013-04-06T17:21:59.000Z\",\"2013-04-06T18:00:59.000Z\",\"2013-04-06T18:27:59.000Z\",\"2013-04-06T18:44:36.000Z\",\"2013-04-06T19:01:00.000Z\",\"2013-04-06T19:13:05.000Z\",\"2013-04-06T19:25:17.000Z\",\"2013-04-06T19:37:50.000Z\",\"2013-04-06T19:51:56.000Z\",\"2013-04-06T20:16:04.000Z\",\"2013-04-06T20:28:07.000Z\",\"2013-08-13T16:07:16.000Z\",\"2013-08-13T16:19:48.000Z\",\"2013-08-13T16:32:16.000Z\",\"2013-08-13T16:45:19.000Z\",\"2013-08-13T17:10:00.000Z\",\"2013-08-13T17:22:26.000Z\",\"2013-08-13T17:59:35.000Z\",\"2013-08-13T18:24:15.000Z\",\"2013-08-13T18:37:46.000Z\",\"2013-08-13T19:15:51.000Z\",\"2013-08-13T19:51:53.000Z\",\"2013-08-13T20:03:54.000Z\",\"2013-08-13T20:15:54.000Z\",\"2013-08-13T20:27:58.000Z\",\"2013-08-13T20:40:01.000Z\",\"2013-08-13T21:21:56.000Z\",\"2013-08-13T21:51:57.000Z\",\"2013-08-13T22:03:58.000Z\",\"2013-08-13T22:28:01.000Z\",\"2013-08-13T23:09:43.000Z\",\"2013-08-13T23:49:01.000Z\",\"2013-08-14T00:03:59.000Z\",\"2013-08-14T00:16:00.000Z\",\"2013-08-14T00:55:01.000Z\",\"2013-08-14T01:31:03.000Z\",\"2013-08-14T02:01:04.000Z\",\"2013-08-14T02:52:06.000Z\",\"2013-08-14T03:31:08.000Z\",\"2013-08-14T04:25:09.000Z\",\"2013-08-14T05:04:08.000Z\",\"2013-08-14T05:16:16.000Z\",\"2013-08-14T05:34:08.000Z\",\"2013-08-14T05:46:10.000Z\",\"2013-08-14T06:01:10.000Z\",\"2013-08-14T06:31:12.000Z\",\"2013-08-14T06:46:12.000Z\",\"2013-08-14T06:58:12.000Z\",\"2013-08-14T07:22:13.000Z\",\"2013-08-14T07:34:15.000Z\",\"2013-08-14T08:01:15.000Z\",\"2013-08-14T08:16:18.000Z\",\"2013-08-14T08:57:12.000Z\",\"2013-08-14T09:09:33.000Z\",\"2013-08-14T09:22:15.000Z\",\"2013-08-14T10:01:16.000Z\",\"2013-08-14T10:40:17.000Z\",\"2013-08-14T11:10:19.000Z\",\"2013-08-14T11:53:28.000Z\",\"2013-08-14T12:07:08.000Z\",\"2013-08-14T12:19:20.000Z\",\"2013-08-14T12:58:20.000Z\",\"2013-08-14T13:34:22.000Z\",\"2013-08-14T13:46:23.000Z\",\"2013-08-14T13:58:23.000Z\",\"2013-08-14T14:34:26.000Z\",\"2013-08-14T14:49:24.000Z\",\"2013-08-14T15:01:25.000Z\",\"2013-08-14T15:13:26.000Z\",\"2013-08-14T15:25:26.000Z\",\"2013-08-14T16:10:26.000Z\",\"2013-08-14T16:46:34.000Z\",\"2013-08-14T17:25:28.000Z\",\"2013-08-14T17:37:30.000Z\",\"2013-08-14T17:52:31.000Z\",\"2013-08-14T18:34:32.000Z\",\"2013-08-14T19:04:33.000Z\",\"2013-08-14T19:43:33.000Z\",\"2013-08-14T20:19:34.000Z\",\"2013-08-14T20:46:36.000Z\",\"2013-08-14T20:58:38.000Z\",\"2013-08-14T21:40:38.000Z\",\"2013-08-14T22:19:38.000Z\",\"2013-08-14T22:48:21.000Z\",\"2013-08-14T23:01:39.000Z\",\"2013-08-14T23:19:37.000Z\",\"2013-08-14T23:31:42.000Z\",\"2013-08-15T00:10:41.000Z\",\"2013-08-15T00:49:42.000Z\",\"2013-08-15T01:28:41.000Z\",\"2013-08-15T02:10:44.000Z\",\"2013-08-15T02:37:44.000Z\",\"2013-08-15T02:52:45.000Z\",\"2013-08-15T03:33:03.000Z\",\"2013-08-15T03:45:06.000Z\",\"2013-08-15T03:58:49.000Z\",\"2013-08-15T04:13:45.000Z\",\"2013-08-15T04:25:47.000Z\",\"2013-08-15T05:04:13.000Z\",\"2013-08-15T05:40:50.000Z\",\"2013-08-15T05:52:52.000Z\",\"2013-08-15T06:07:50.000Z\",\"2013-08-15T06:49:51.000Z\",\"2013-08-15T07:01:52.000Z\",\"2013-08-15T07:16:51.000Z\",\"2013-08-15T07:46:52.000Z\",\"2013-08-15T08:10:56.000Z\",\"2013-08-15T08:28:54.000Z\",\"2013-08-15T09:07:56.000Z\",\"2013-08-15T09:46:58.000Z\",\"2013-08-15T10:01:56.000Z\",\"2013-08-15T10:16:56.000Z\",\"2013-08-15T10:55:59.000Z\",\"2013-08-15T11:10:16.000Z\",\"2013-08-15T11:22:58.000Z\",\"2013-08-15T12:01:59.000Z\",\"2013-08-15T12:41:01.000Z\",\"2013-08-15T13:05:01.000Z\",\"2013-08-15T13:19:48.000Z\",\"2013-08-15T13:56:04.000Z\",\"2013-08-15T14:08:05.000Z\",\"2013-08-15T14:20:07.000Z\",\"2013-08-15T14:32:08.000Z\",\"2013-08-15T14:47:04.000Z\",\"2013-08-15T15:23:05.000Z\",\"2013-08-15T16:02:07.000Z\",\"2013-08-15T16:41:08.000Z\",\"2013-08-15T17:20:10.000Z\",\"2013-08-15T18:02:08.000Z\",\"2013-08-15T18:14:09.000Z\",\"2013-08-15T18:41:09.000Z\",\"2013-08-15T18:53:12.000Z\",\"2013-08-15T19:08:03.000Z\",\"2013-08-15T19:59:14.000Z\",\"2013-08-15T20:38:14.000Z\",\"2013-08-15T21:17:15.000Z\",\"2013-08-15T21:54:45.000Z\",\"2013-08-15T22:35:18.000Z\",\"2013-08-15T23:02:17.000Z\",\"2013-08-15T23:14:17.000Z\",\"2013-08-15T23:41:19.000Z\",\"2013-08-16T00:08:21.000Z\",\"2013-08-16T00:50:21.000Z\",\"2013-08-16T01:32:23.000Z\",\"2013-08-16T02:11:24.000Z\",\"2013-08-16T02:50:23.000Z\",\"2013-08-16T03:17:24.000Z\",\"2013-08-16T03:29:27.000Z\",\"2013-08-16T04:08:33.000Z\",\"2013-08-16T04:49:26.000Z\",\"2013-08-16T05:20:27.000Z\",\"2013-08-16T05:59:31.000Z\",\"2013-08-16T06:38:30.000Z\",\"2013-08-16T06:53:32.000Z\",\"2013-08-16T07:08:30.000Z\",\"2013-08-16T07:20:31.000Z\",\"2013-08-16T07:34:08.000Z\",\"2013-08-16T07:47:33.000Z\",\"2013-08-16T07:59:35.000Z\",\"2013-08-16T08:32:36.000Z\",\"2013-08-16T08:47:34.000Z\",\"2013-08-16T08:59:36.000Z\",\"2013-08-16T09:32:35.000Z\",\"2013-08-16T10:10:06.000Z\",\"2013-08-16T10:56:38.000Z\",\"2013-08-16T11:35:39.000Z\",\"2013-08-16T12:02:39.000Z\",\"2013-08-16T12:14:41.000Z\",\"2013-08-16T12:56:41.000Z\",\"2013-08-16T13:35:43.000Z\",\"2013-08-16T14:05:50.000Z\",\"2013-08-16T14:44:50.000Z\",\"2013-08-16T14:59:46.000Z\",\"2013-08-16T15:11:46.000Z\",\"2013-08-16T15:47:51.000Z\",\"2013-08-16T16:32:47.000Z\",\"2013-08-16T17:02:48.000Z\",\"2013-08-16T17:14:48.000Z\",\"2013-08-16T17:32:52.000Z\",\"2013-08-16T18:03:21.000Z\",\"2013-08-16T18:17:49.000Z\",\"2013-08-16T18:29:50.000Z\",\"2013-08-16T19:05:54.000Z\",\"2013-08-16T19:47:53.000Z\",\"2013-08-16T20:02:54.000Z\",\"2013-08-16T20:15:59.000Z\",\"2013-08-16T20:41:58.000Z\",\"2013-08-16T21:19:39.000Z\",\"2013-08-16T21:32:18.000Z\",\"2013-01-31T18:05:22.000Z\",\"2013-01-31T18:17:32.000Z\",\"2013-01-31T18:29:36.000Z\",\"2013-01-31T18:42:12.000Z\",\"2013-01-31T18:54:23.000Z\",\"2013-01-31T19:06:27.000Z\",\"2013-01-31T19:18:32.000Z\",\"2013-01-31T19:31:27.000Z\",\"2013-01-31T19:43:32.000Z\",\"2013-01-31T19:56:31.000Z\",\"2013-01-31T20:08:33.000Z\",\"2013-01-31T20:46:43.000Z\",\"2013-01-31T20:59:24.000Z\",\"2013-01-31T21:12:12.000Z\",\"2013-01-31T21:25:26.000Z\",\"2013-01-31T21:37:39.000Z\",\"2013-01-31T22:15:14.000Z\",\"2013-01-31T22:52:52.000Z\",\"2013-01-31T23:04:54.000Z\",\"2013-01-31T23:17:12.000Z\",\"2013-01-31T23:42:11.000Z\",\"2013-01-31T23:54:15.000Z\",\"2013-02-01T00:32:59.000Z\",\"2013-02-01T01:10:32.000Z\",\"2013-02-01T01:35:43.000Z\",\"2013-02-01T01:48:09.000Z\",\"2013-02-01T02:00:30.000Z\",\"2013-02-01T02:13:12.000Z\",\"2013-02-01T02:25:13.000Z\",\"2013-02-01T02:37:34.000Z\",\"2013-02-01T03:15:33.000Z\",\"2013-02-01T03:52:10.000Z\",\"2013-02-01T04:29:42.000Z\",\"2013-02-01T04:41:42.000Z\",\"2013-02-01T05:06:12.000Z\",\"2013-02-01T05:43:44.000Z\",\"2013-02-01T05:56:02.000Z\",\"2013-02-01T06:08:18.000Z\",\"2013-02-01T06:44:53.000Z\",\"2013-02-01T07:22:40.000Z\",\"2013-02-01T07:35:41.000Z\",\"2013-02-01T07:47:52.000Z\",\"2013-02-01T08:26:32.000Z\",\"2013-02-01T09:04:49.000Z\",\"2013-02-01T09:16:58.000Z\",\"2013-02-01T09:42:55.000Z\",\"2013-02-01T10:20:11.000Z\",\"2013-02-01T10:32:12.000Z\",\"2013-02-01T10:44:42.000Z\",\"2013-02-01T10:57:11.000Z\",\"2013-02-01T11:10:41.000Z\",\"2013-02-01T11:59:51.000Z\",\"2013-02-01T12:37:11.000Z\",\"2013-02-01T13:26:19.000Z\",\"2013-02-01T14:02:43.000Z\",\"2013-02-01T14:39:35.000Z\",\"2013-02-01T15:16:34.000Z\",\"2013-02-01T16:06:13.000Z\",\"2013-02-01T16:18:24.000Z\",\"2013-02-01T16:30:32.000Z\",\"2013-02-01T16:42:50.000Z\",\"2013-02-01T17:20:22.000Z\",\"2013-02-01T17:44:52.000Z\",\"2013-02-01T17:57:52.000Z\",\"2013-02-01T18:23:43.000Z\",\"2013-02-01T18:36:12.000Z\",\"2013-02-01T19:01:14.000Z\",\"2013-02-01T19:13:59.000Z\",\"2013-02-01T19:26:51.000Z\",\"2013-02-01T19:39:51.000Z\",\"2013-02-01T20:17:23.000Z\",\"2013-02-01T20:54:17.000Z\",\"2013-02-01T21:31:04.000Z\",\"2013-02-01T21:43:22.000Z\",\"2013-02-01T21:55:23.000Z\",\"2013-02-01T22:32:11.000Z\",\"2013-02-01T23:09:33.000Z\",\"2013-02-01T23:47:42.000Z\",\"2013-02-02T00:11:44.000Z\",\"2013-02-02T00:24:02.000Z\",\"2013-02-02T01:01:02.000Z\",\"2013-02-02T01:27:11.000Z\",\"2013-02-02T01:39:50.000Z\",\"2013-02-02T02:16:23.000Z\",\"2013-02-02T02:53:54.000Z\",\"2013-02-02T03:31:51.000Z\",\"2013-02-02T04:09:00.000Z\",\"2013-02-02T04:45:55.000Z\",\"2013-02-02T05:22:55.000Z\",\"2013-02-02T05:59:02.000Z\",\"2013-02-02T06:35:34.000Z\",\"2013-02-02T07:24:51.000Z\",\"2013-02-02T08:02:33.000Z\",\"2013-02-02T08:39:30.000Z\",\"2013-02-02T09:29:13.000Z\",\"2013-02-02T10:06:50.000Z\",\"2013-02-02T10:43:53.000Z\",\"2013-02-02T10:56:21.000Z\",\"2013-02-02T11:08:43.000Z\",\"2013-02-02T11:46:32.000Z\",\"2013-02-02T12:36:53.000Z\",\"2013-02-02T13:14:54.000Z\",\"2013-02-02T13:52:34.000Z\",\"2013-02-02T14:29:34.000Z\",\"2013-02-02T15:05:53.000Z\",\"2013-02-02T15:42:21.000Z\",\"2013-02-02T16:07:11.000Z\",\"2013-02-02T16:19:50.000Z\",\"2013-02-02T16:57:33.000Z\",\"2013-02-02T18:25:11.000Z\",\"2013-02-02T19:02:51.000Z\",\"2013-02-02T19:27:21.000Z\",\"2013-02-02T19:40:31.000Z\",\"2013-02-02T19:52:36.000Z\",\"2013-02-02T20:04:52.000Z\",\"2013-02-02T20:42:11.000Z\",\"2013-02-02T21:19:12.000Z\",\"2013-02-02T21:56:14.000Z\",\"2013-02-02T22:47:12.000Z\",\"2013-02-02T23:24:02.000Z\",\"2013-02-02T23:36:53.000Z\",\"2013-02-02T23:49:08.000Z\",\"2013-02-03T00:01:14.000Z\",\"2013-02-03T00:13:41.000Z\",\"2013-02-03T00:39:10.000Z\",\"2013-02-03T00:51:22.000Z\",\"2013-02-03T01:28:43.000Z\",\"2013-02-03T02:07:53.000Z\",\"2013-02-03T02:46:31.000Z\",\"2013-02-03T03:23:32.000Z\",\"2013-02-03T04:00:20.000Z\",\"2013-02-03T04:37:30.000Z\",\"2013-02-03T05:15:02.000Z\",\"2013-02-03T05:52:12.000Z\",\"2013-02-03T06:17:12.000Z\",\"2013-02-03T06:30:13.000Z\",\"2013-02-03T07:07:15.000Z\",\"2013-02-03T07:56:30.000Z\",\"2013-02-03T08:35:29.000Z\",\"2013-02-03T09:25:02.000Z\",\"2013-02-03T10:01:41.000Z\",\"2013-02-03T10:16:48.000Z\",\"2013-02-03T10:28:51.000Z\",\"2013-02-03T11:07:52.000Z\",\"2013-02-03T11:52:52.000Z\",\"2013-02-03T12:22:53.000Z\",\"2013-02-03T13:04:54.000Z\",\"2013-02-03T13:40:52.000Z\",\"2013-02-03T13:52:57.000Z\",\"2013-02-03T14:09:02.000Z\",\"2013-02-03T14:49:54.000Z\",\"2013-02-03T15:16:55.000Z\",\"2013-02-03T15:28:56.000Z\",\"2013-02-03T16:08:04.000Z\",\"2013-02-03T16:47:01.000Z\",\"2013-02-03T17:40:59.000Z\",\"2013-02-03T18:11:01.000Z\",\"2013-02-03T18:50:01.000Z\",\"2013-02-03T19:32:00.000Z\",\"2013-02-03T20:02:09.000Z\",\"2013-02-03T20:44:07.000Z\",\"2013-02-03T21:41:04.000Z\",\"2013-02-03T22:17:08.000Z\",\"2013-02-03T22:29:08.000Z\",\"2013-02-03T22:41:08.000Z\",\"2013-02-03T23:11:09.000Z\",\"2013-02-03T23:53:11.000Z\",\"2013-02-04T00:05:12.000Z\",\"2013-02-04T00:35:12.000Z\",\"2013-02-04T01:14:10.000Z\",\"2013-02-04T01:50:16.000Z\",\"2013-02-04T02:29:18.000Z\",\"2013-02-04T03:20:18.000Z\",\"2013-02-04T04:02:18.000Z\",\"2013-02-04T04:41:16.000Z\",\"2013-02-04T05:20:18.000Z\",\"2013-02-04T05:59:21.000Z\",\"2013-02-04T06:41:24.000Z\",\"2013-02-04T07:23:23.000Z\",\"2013-02-04T08:32:24.000Z\",\"2013-02-04T09:26:28.000Z\",\"2013-02-04T10:05:28.000Z\",\"2013-02-04T10:35:31.000Z\",\"2013-02-04T11:11:36.000Z\",\"2013-02-04T12:02:32.000Z\",\"2013-02-04T12:47:33.000Z\",\"2013-02-04T13:05:36.000Z\",\"2013-02-04T13:20:36.000Z\",\"2013-02-04T14:05:35.000Z\",\"2013-02-04T14:49:34.000Z\",\"2013-02-04T15:20:35.000Z\",\"2013-02-04T15:50:40.000Z\",\"2013-02-04T16:47:44.000Z\",\"2013-02-04T17:14:40.000Z\",\"2013-02-04T17:29:41.000Z\",\"2013-02-04T17:56:39.000Z\",\"2013-02-04T18:08:41.000Z\",\"2013-02-04T19:17:43.000Z\",\"2013-02-04T19:56:46.000Z\",\"2013-02-04T20:38:43.000Z\",\"2013-02-04T21:08:44.000Z\",\"2013-02-04T21:47:49.000Z\",\"2013-02-04T22:29:48.000Z\",\"2013-02-04T23:23:54.000Z\",\"2013-02-05T00:23:54.000Z\",\"2013-02-05T01:05:54.000Z\",\"2013-02-05T01:50:54.000Z\",\"2013-02-05T02:20:55.000Z\",\"2013-02-05T02:50:56.000Z\",\"2013-02-05T03:23:54.000Z\",\"2013-02-05T03:35:58.000Z\",\"2013-02-05T03:48:00.000Z\",\"2013-02-05T04:44:58.000Z\",\"2013-02-05T05:39:00.000Z\",\"2013-02-05T06:30:03.000Z\",\"2013-02-05T07:15:02.000Z\",\"2013-02-05T07:54:02.000Z\",\"2013-02-05T08:21:06.000Z\",\"2013-02-05T08:35:30.000Z\",\"2013-02-05T08:48:07.000Z\",\"2013-02-05T09:12:08.000Z\",\"2013-02-05T09:51:13.000Z\",\"2013-02-05T10:24:07.000Z\",\"2013-02-05T10:57:07.000Z\",\"2013-02-05T11:39:12.000Z\",\"2013-02-05T12:24:15.000Z\",\"2013-02-05T13:03:13.000Z\",\"2013-02-05T13:45:17.000Z\",\"2013-02-05T14:18:22.000Z\",\"2013-02-05T14:45:14.000Z\",\"2013-02-05T15:00:17.000Z\",\"2013-02-05T15:42:16.000Z\",\"2013-02-05T16:27:17.000Z\",\"2013-02-05T16:39:18.000Z\",\"2013-02-05T16:51:21.000Z\",\"2013-02-05T17:33:23.000Z\",\"2013-02-05T17:48:23.000Z\",\"2013-02-05T18:03:19.000Z\",\"2013-02-05T18:30:24.000Z\",\"2013-02-05T18:42:25.000Z\",\"2013-02-05T19:24:24.000Z\",\"2013-02-05T19:51:26.000Z\",\"2013-02-05T20:06:27.000Z\",\"2013-02-05T20:39:23.000Z\",\"2013-02-05T21:21:24.000Z\",\"2013-02-05T21:36:26.000Z\",\"2013-02-05T21:48:27.000Z\",\"2013-02-05T22:27:29.000Z\",\"2013-02-05T23:09:33.000Z\",\"2013-02-05T23:48:31.000Z\",\"2013-02-06T00:30:32.000Z\",\"2013-02-06T01:12:33.000Z\",\"2013-02-06T01:51:35.000Z\",\"2013-02-06T02:32:05.000Z\",\"2013-02-06T03:12:36.000Z\",\"2013-02-06T04:00:39.000Z\",\"2013-02-06T04:42:41.000Z\",\"2013-02-06T05:24:42.000Z\",\"2013-02-06T05:57:42.000Z\",\"2013-02-06T06:12:41.000Z\",\"2013-02-06T06:24:44.000Z\",\"2013-02-06T07:09:43.000Z\",\"2013-02-06T07:24:46.000Z\",\"2013-02-06T07:41:22.000Z\",\"2013-02-06T08:24:44.000Z\",\"2013-02-06T08:36:47.000Z\",\"2013-02-06T08:48:49.000Z\",\"2013-02-06T09:54:50.000Z\",\"2013-02-06T10:34:57.000Z\",\"2013-02-06T11:18:51.000Z\",\"2013-02-06T12:03:50.000Z\",\"2013-02-06T12:15:54.000Z\",\"2013-02-06T12:27:54.000Z\",\"2013-02-06T12:57:55.000Z\",\"2013-02-06T13:30:56.000Z\",\"2013-02-06T13:57:54.000Z\",\"2013-02-06T14:09:58.000Z\",\"2013-02-06T14:21:58.000Z\",\"2013-02-06T14:34:00.000Z\",\"2013-02-06T15:12:59.000Z\",\"2013-02-06T15:26:48.000Z\",\"2013-02-06T15:40:01.000Z\",\"2013-02-06T16:22:29.000Z\",\"2013-02-06T17:03:58.000Z\",\"2013-02-06T17:28:02.000Z\",\"2013-02-06T17:43:01.000Z\",\"2013-02-06T18:25:06.000Z\",\"2013-02-06T18:58:03.000Z\",\"2013-02-06T19:52:04.000Z\",\"2013-02-06T20:10:07.000Z\",\"2013-02-06T20:28:02.000Z\",\"2013-02-06T20:40:04.000Z\",\"2013-02-06T21:04:07.000Z\",\"2013-02-06T21:34:09.000Z\",\"2013-02-06T21:50:59.000Z\",\"2013-02-06T22:19:10.000Z\",\"2013-02-06T23:01:18.000Z\",\"2013-02-06T23:28:11.000Z\",\"2013-02-06T23:43:12.000Z\",\"2013-02-07T00:07:14.000Z\",\"2013-02-07T00:22:15.000Z\",\"2013-02-07T01:01:16.000Z\",\"2013-02-07T01:43:04.000Z\",\"2013-02-07T02:16:14.000Z\",\"2013-02-07T02:31:15.000Z\",\"2013-02-07T02:46:18.000Z\",\"2013-02-07T03:31:14.000Z\",\"2013-02-07T04:28:19.000Z\",\"2013-02-07T05:10:19.000Z\",\"2013-02-07T05:52:19.000Z\",\"2013-02-07T06:31:19.000Z\",\"2013-02-07T06:43:22.000Z\",\"2013-02-07T06:55:22.000Z\",\"2013-02-07T07:37:23.000Z\",\"2013-02-07T08:07:25.000Z\",\"2013-02-07T08:22:25.000Z\",\"2013-02-07T08:34:26.000Z\",\"2013-02-07T09:14:22.000Z\",\"2013-02-07T09:28:26.000Z\",\"2013-02-07T09:46:28.000Z\",\"2013-02-07T09:58:28.000Z\",\"2013-02-07T10:13:26.000Z\",\"2013-02-07T10:52:26.000Z\",\"2013-02-07T11:19:29.000Z\",\"2013-02-07T11:34:29.000Z\",\"2013-02-07T12:15:14.000Z\",\"2013-02-07T12:43:33.000Z\",\"2013-02-07T12:58:33.000Z\",\"2013-02-07T13:37:34.000Z\",\"2013-02-07T14:07:35.000Z\",\"2013-02-07T14:55:35.000Z\",\"2013-02-07T15:37:34.000Z\",\"2013-02-07T16:13:38.000Z\",\"2013-02-07T16:37:39.000Z\",\"2013-02-07T16:52:39.000Z\",\"2013-02-07T17:22:39.000Z\",\"2013-02-07T17:34:39.000Z\",\"2013-02-07T18:13:38.000Z\",\"2013-02-07T18:52:41.000Z\",\"2013-02-07T19:31:43.000Z\",\"2013-02-07T20:10:44.000Z\",\"2013-02-07T21:04:46.000Z\",\"2013-02-07T22:04:47.000Z\",\"2013-02-07T22:37:47.000Z\",\"2013-02-07T22:49:48.000Z\",\"2013-02-07T23:01:49.000Z\",\"2013-02-07T23:15:45.000Z\",\"2013-02-07T23:28:49.000Z\",\"2013-02-08T00:04:54.000Z\",\"2013-02-08T00:19:50.000Z\",\"2013-02-08T00:46:53.000Z\",\"2013-02-08T01:28:52.000Z\",\"2013-02-08T02:07:54.000Z\",\"2013-02-08T02:46:55.000Z\",\"2013-02-08T03:25:56.000Z\",\"2013-02-08T04:07:57.000Z\",\"2013-02-08T04:47:08.000Z\",\"2013-02-08T05:29:00.000Z\",\"2013-02-08T06:08:00.000Z\",\"2013-02-08T06:47:05.000Z\",\"2013-02-08T07:27:03.000Z\",\"2013-02-08T08:08:04.000Z\",\"2013-02-08T08:53:05.000Z\",\"2013-02-08T09:05:06.000Z\",\"2013-02-08T09:18:22.000Z\",\"2013-02-08T10:23:07.000Z\",\"2013-02-08T10:59:09.000Z\",\"2013-02-08T11:35:12.000Z\",\"2013-02-08T12:05:12.000Z\",\"2013-02-08T12:20:09.000Z\",\"2013-02-08T12:56:13.000Z\",\"2013-02-08T13:38:13.000Z\",\"2013-02-08T14:15:21.000Z\",\"2013-02-08T14:47:13.000Z\",\"2013-02-08T15:29:16.000Z\",\"2013-02-08T16:08:16.000Z\",\"2013-02-08T16:32:17.000Z\",\"2013-02-08T16:44:18.000Z\",\"2013-02-08T17:21:38.000Z\",\"2013-02-08T18:11:21.000Z\",\"2013-02-08T18:48:18.000Z\",\"2013-02-08T19:05:22.000Z\",\"2013-02-08T19:17:23.000Z\",\"2013-02-08T19:29:28.000Z\",\"2013-02-08T19:42:33.000Z\",\"2013-02-08T20:23:24.000Z\",\"2013-02-08T20:59:25.000Z\",\"2013-02-08T21:38:26.000Z\",\"2013-02-08T21:53:26.000Z\",\"2013-02-08T22:05:26.000Z\",\"2013-02-08T22:41:27.000Z\",\"2013-02-08T23:20:29.000Z\",\"2013-02-08T23:35:28.000Z\",\"2013-02-08T23:47:30.000Z\",\"2013-02-09T00:29:31.000Z\",\"2013-02-09T00:59:33.000Z\",\"2013-02-09T01:38:33.000Z\",\"2013-02-09T02:20:35.000Z\",\"2013-02-09T02:59:35.000Z\",\"2013-02-09T03:41:37.000Z\",\"2013-02-09T04:20:37.000Z\",\"2013-02-09T04:56:42.000Z\",\"2013-02-09T05:35:39.000Z\",\"2013-02-09T06:17:41.000Z\",\"2013-02-09T06:56:42.000Z\",\"2013-02-09T07:32:45.000Z\",\"2013-02-09T07:59:45.000Z\",\"2013-02-09T08:14:45.000Z\",\"2013-02-09T08:41:44.000Z\",\"2013-02-09T08:53:46.000Z\",\"2013-02-09T09:35:46.000Z\",\"2013-02-09T10:14:46.000Z\",\"2013-02-09T10:44:47.000Z\",\"2013-02-09T11:20:53.000Z\",\"2013-02-09T11:50:54.000Z\",\"2013-02-09T12:26:50.000Z\",\"2013-02-09T12:38:50.000Z\",\"2013-02-09T12:50:51.000Z\",\"2013-02-09T13:02:51.000Z\",\"2013-02-09T13:14:53.000Z\",\"2013-02-09T13:56:54.000Z\",\"2013-02-09T14:38:56.000Z\",\"2013-02-09T15:08:57.000Z\",\"2013-02-09T15:38:59.000Z\",\"2013-02-09T16:17:59.000Z\",\"2013-02-09T16:59:58.000Z\",\"2013-02-09T17:42:05.000Z\",\"2013-02-09T17:57:01.000Z\",\"2013-02-09T18:09:02.000Z\",\"2013-02-09T18:39:05.000Z\",\"2013-02-09T19:24:03.000Z\",\"2013-02-09T20:03:03.000Z\",\"2013-02-09T20:42:10.000Z\",\"2013-02-09T21:36:10.000Z\",\"2013-02-09T21:51:07.000Z\",\"2013-02-09T22:06:07.000Z\",\"2013-02-09T22:45:09.000Z\",\"2013-02-09T23:51:15.000Z\",\"2013-02-10T00:48:11.000Z\",\"2013-02-10T01:27:12.000Z\",\"2013-02-10T02:09:14.000Z\",\"2013-02-10T02:45:16.000Z\",\"2013-02-10T03:24:16.000Z\",\"2013-02-10T03:54:18.000Z\",\"2013-02-10T04:36:17.000Z\",\"2013-02-10T05:30:22.000Z\",\"2013-02-10T06:12:21.000Z\",\"2013-02-10T06:48:26.000Z\",\"2013-02-10T07:45:24.000Z\",\"2013-02-10T07:57:47.000Z\",\"2013-02-10T08:10:26.000Z\",\"2013-02-10T08:23:07.000Z\",\"2013-02-10T08:35:08.000Z\",\"2013-02-10T08:47:36.000Z\",\"2013-02-10T09:00:25.000Z\",\"2013-02-10T09:12:25.000Z\",\"2013-02-10T09:37:16.000Z\",\"2013-02-10T09:49:25.000Z\",\"2013-02-10T10:01:48.000Z\",\"2013-08-11T08:37:19.000Z\",\"2013-08-11T09:31:34.000Z\",\"2013-08-11T10:34:34.000Z\",\"2013-08-11T11:07:36.000Z\",\"2013-08-11T11:55:37.000Z\",\"2013-08-11T12:40:38.000Z\",\"2013-08-11T13:22:40.000Z\",\"2013-08-11T13:58:41.000Z\",\"2013-08-11T14:40:42.000Z\",\"2013-08-11T15:31:42.000Z\",\"2013-08-11T16:10:43.000Z\",\"2013-08-11T16:46:48.000Z\",\"2013-08-11T17:31:45.000Z\",\"2013-08-11T17:43:45.000Z\",\"2013-08-11T17:55:47.000Z\",\"2013-08-11T18:37:47.000Z\",\"2013-08-11T19:19:49.000Z\",\"2013-08-11T19:49:51.000Z\",\"2013-08-11T20:28:53.000Z\",\"2013-08-11T21:07:55.000Z\",\"2013-08-11T21:55:54.000Z\",\"2013-08-11T22:31:54.000Z\",\"2013-08-11T23:13:59.000Z\",\"2013-08-11T23:58:56.000Z\",\"2013-08-12T00:31:59.000Z\",\"2013-08-12T01:25:58.000Z\",\"2013-08-12T02:07:59.000Z\",\"2013-08-12T02:50:03.000Z\",\"2013-08-12T03:29:02.000Z\",\"2013-08-12T04:05:52.000Z\",\"2013-08-12T04:47:11.000Z\",\"2013-08-12T05:26:06.000Z\",\"2013-08-12T06:08:07.000Z\",\"2013-08-12T06:41:06.000Z\",\"2013-08-12T07:23:08.000Z\",\"2013-08-12T08:11:08.000Z\",\"2013-08-12T08:38:10.000Z\",\"2013-08-12T08:53:09.000Z\",\"2013-08-12T09:11:22.000Z\",\"2013-08-12T09:26:12.000Z\",\"2013-08-12T09:38:27.000Z\",\"2013-08-12T10:16:37.000Z\",\"2013-08-12T10:29:27.000Z\",\"2013-08-12T10:42:00.000Z\",\"2013-08-12T10:54:49.000Z\",\"2013-08-12T11:07:14.000Z\",\"2013-08-12T11:20:07.000Z\",\"2013-08-12T11:33:06.000Z\",\"2013-08-12T11:46:19.000Z\",\"2013-08-12T11:58:46.000Z\",\"2013-08-12T12:12:29.000Z\",\"2013-08-12T12:25:28.000Z\",\"2013-08-12T12:38:22.000Z\",\"2013-08-12T12:50:54.000Z\",\"2013-08-12T13:03:10.000Z\",\"2013-08-12T14:05:28.000Z\",\"2013-08-12T14:20:34.000Z\",\"2013-08-12T14:35:28.000Z\",\"2013-08-12T15:02:34.000Z\",\"2013-08-12T15:17:29.000Z\",\"2013-08-12T15:59:32.000Z\",\"2013-08-12T16:38:33.000Z\",\"2013-08-12T17:08:34.000Z\",\"2013-08-12T17:20:36.000Z\",\"2013-08-12T17:35:46.000Z\",\"2013-08-12T18:05:35.000Z\",\"2013-08-12T18:20:36.000Z\",\"2013-08-12T19:02:35.000Z\",\"2013-08-12T19:41:36.000Z\",\"2013-08-12T19:53:48.000Z\",\"2013-08-12T20:06:38.000Z\",\"2013-08-12T20:47:39.000Z\",\"2013-08-12T21:17:40.000Z\",\"2013-08-12T21:29:40.000Z\",\"2013-08-12T21:41:42.000Z\",\"2013-08-12T21:56:42.000Z\",\"2013-08-12T22:08:45.000Z\",\"2013-08-12T22:59:41.000Z\",\"2013-08-12T23:44:44.000Z\",\"2013-08-13T00:26:49.000Z\",\"2013-08-13T01:11:46.000Z\",\"2013-08-13T01:41:47.000Z\",\"2013-08-13T01:53:48.000Z\",\"2013-08-13T02:08:47.000Z\",\"2013-08-13T02:47:49.000Z\",\"2013-08-13T03:26:50.000Z\",\"2013-08-13T04:05:50.000Z\",\"2013-08-13T04:41:52.000Z\",\"2013-08-13T05:05:53.000Z\",\"2013-08-13T05:17:55.000Z\",\"2013-08-13T05:29:57.000Z\",\"2013-08-13T05:44:55.000Z\",\"2013-08-13T05:59:56.000Z\",\"2013-08-13T06:12:03.000Z\",\"2013-08-13T06:50:57.000Z\",\"2013-08-13T07:29:59.000Z\",\"2013-08-13T07:59:57.000Z\",\"2013-08-13T08:13:42.000Z\",\"2013-08-13T08:26:33.000Z\",\"2013-08-13T08:38:48.000Z\",\"2013-08-13T08:52:58.000Z\",\"2013-08-13T09:05:06.000Z\",\"2013-08-13T09:17:46.000Z\",\"2013-08-13T09:30:05.000Z\",\"2013-08-13T09:42:28.000Z\",\"2013-08-13T09:54:38.000Z\",\"2013-08-13T10:07:25.000Z\",\"2013-08-13T10:20:07.000Z\",\"2013-08-17T03:42:48.000Z\",\"2013-08-17T03:55:29.000Z\",\"2013-08-17T04:08:38.000Z\",\"2013-08-17T04:21:19.000Z\",\"2013-08-17T04:34:04.000Z\",\"2013-08-17T04:46:59.000Z\",\"2013-08-17T04:59:18.000Z\",\"2013-08-17T05:12:10.000Z\",\"2013-08-17T05:24:17.000Z\",\"2013-08-17T05:37:10.000Z\",\"2013-08-17T05:49:40.000Z\",\"2013-08-17T06:02:51.000Z\",\"2013-08-17T06:15:18.000Z\",\"2013-08-29T17:41:38.000Z\",\"2013-08-29T17:54:28.000Z\",\"2013-08-29T18:07:35.000Z\",\"2013-08-29T18:20:02.000Z\",\"2013-08-29T18:33:09.000Z\",\"2013-08-29T18:45:19.000Z\",\"2013-08-29T18:58:08.000Z\",\"2013-08-29T19:10:38.000Z\",\"2013-08-29T19:23:43.000Z\",\"2013-08-29T19:35:47.000Z\",\"2013-10-31T01:34:43.000Z\",\"2013-10-31T01:46:45.000Z\",\"2013-10-31T02:00:06.000Z\",\"2013-10-31T02:13:35.000Z\",\"2013-10-31T02:26:43.000Z\",\"2013-10-31T02:39:11.000Z\",\"2013-10-31T02:51:49.000Z\",\"2013-10-31T03:04:15.000Z\",\"2013-10-31T03:30:35.000Z\",\"2013-10-31T03:42:55.000Z\",\"2013-10-31T03:54:56.000Z\",\"2013-10-31T04:06:56.000Z\",\"2013-10-31T04:19:25.000Z\",\"2013-10-31T04:31:54.000Z\",\"2013-10-31T05:08:20.000Z\",\"2013-10-31T05:20:35.000Z\",\"2013-10-31T05:33:06.000Z\",\"2013-10-31T06:11:34.000Z\",\"2013-10-31T06:50:25.000Z\",\"2013-10-31T07:42:35.000Z\",\"2013-10-31T08:21:36.000Z\",\"2013-10-31T08:59:37.000Z\",\"2013-10-31T09:36:26.000Z\",\"2013-10-31T10:16:25.000Z\",\"2013-10-31T10:54:06.000Z\",\"2013-10-31T11:30:44.000Z\",\"2013-10-31T12:09:43.000Z\",\"2013-10-31T12:21:53.000Z\",\"2013-10-31T12:34:39.000Z\",\"2013-10-31T12:58:57.000Z\",\"2013-10-31T13:23:34.000Z\",\"2013-10-31T14:03:43.000Z\",\"2013-10-31T14:28:26.000Z\",\"2013-10-31T14:40:27.000Z\",\"2013-10-31T15:18:35.000Z\",\"2013-10-31T15:43:24.000Z\",\"2013-10-31T15:55:37.000Z\",\"2013-10-31T16:09:56.000Z\",\"2013-10-31T16:22:04.000Z\",\"2013-10-31T16:58:57.000Z\",\"2013-10-31T17:12:04.000Z\",\"2013-10-31T17:24:35.000Z\",\"2013-10-31T18:02:35.000Z\",\"2013-10-31T19:05:29.000Z\",\"2013-10-31T19:42:15.000Z\",\"2013-10-31T20:20:49.000Z\",\"2013-10-31T20:59:04.000Z\",\"2013-10-31T21:37:24.000Z\",\"2013-10-31T22:29:04.000Z\",\"2013-10-31T23:22:49.000Z\",\"2013-11-01T00:01:24.000Z\",\"2013-11-01T00:38:01.000Z\",\"2013-11-01T01:16:24.000Z\",\"2013-11-01T01:57:55.000Z\",\"2013-11-01T02:35:25.000Z\",\"2013-11-01T03:11:47.000Z\",\"2013-11-01T03:49:23.000Z\",\"2013-11-01T04:28:25.000Z\",\"2013-11-01T05:06:54.000Z\",\"2013-11-01T05:44:34.000Z\",\"2013-11-01T06:22:05.000Z\",\"2013-11-01T06:59:54.000Z\",\"2013-11-01T07:37:25.000Z\",\"2013-11-01T08:14:54.000Z\",\"2013-11-01T08:51:48.000Z\",\"2013-11-01T09:29:15.000Z\",\"2013-11-01T09:42:32.000Z\",\"2013-11-01T09:55:14.000Z\",\"2013-11-01T10:33:06.000Z\",\"2013-11-01T11:12:26.000Z\",\"2013-11-01T11:50:55.000Z\",\"2013-11-01T12:28:09.000Z\",\"2013-11-01T13:07:46.000Z\",\"2013-11-01T13:46:14.000Z\",\"2013-11-01T14:24:51.000Z\",\"2013-11-01T14:38:26.000Z\",\"2013-11-01T14:52:10.000Z\",\"2013-11-01T15:28:35.000Z\",\"2013-11-01T15:53:28.000Z\",\"2013-11-01T16:05:56.000Z\",\"2013-11-05T15:44:16.000Z\",\"2013-11-05T16:09:46.000Z\",\"2013-11-05T16:22:16.000Z\",\"2013-11-05T16:34:54.000Z\",\"2013-11-05T16:59:19.000Z\",\"2013-11-05T17:11:47.000Z\",\"2013-11-05T17:26:06.000Z\",\"2013-11-05T17:39:13.000Z\",\"2013-12-29T10:10:06.000Z\",\"2013-12-29T10:22:13.000Z\",\"2013-12-29T10:34:23.000Z\",\"2013-12-29T10:46:55.000Z\",\"2013-12-29T11:12:22.000Z\",\"2013-12-29T11:25:05.000Z\",\"2013-12-29T11:37:17.000Z\",\"2013-12-29T11:49:44.000Z\",\"2013-12-29T12:02:06.000Z\",\"2013-12-29T12:43:47.000Z\",\"2013-12-29T13:13:48.000Z\",\"2013-12-29T13:52:55.000Z\",\"2013-12-29T14:07:49.000Z\",\"2013-12-29T14:19:50.000Z\",\"2013-12-29T14:58:50.000Z\",\"2013-12-29T15:37:52.000Z\",\"2013-12-29T16:19:53.000Z\",\"2013-12-29T16:49:54.000Z\",\"2013-12-29T17:28:58.000Z\",\"2013-12-29T18:10:57.000Z\",\"2013-12-29T18:49:59.000Z\",\"2013-12-29T19:34:57.000Z\",\"2013-12-29T20:19:59.000Z\",\"2013-12-29T21:02:01.000Z\",\"2013-12-29T21:44:02.000Z\",\"2013-12-29T22:41:04.000Z\",\"2013-12-29T23:23:07.000Z\",\"2013-12-29T23:56:07.000Z\",\"2013-12-30T00:38:07.000Z\",\"2013-12-30T00:50:08.000Z\",\"2013-12-30T01:02:08.000Z\",\"2013-12-30T01:44:09.000Z\",\"2013-12-30T01:56:10.000Z\",\"2013-12-30T02:11:10.000Z\",\"2013-12-30T02:53:12.000Z\",\"2013-12-30T03:32:12.000Z\",\"2013-12-30T03:50:11.000Z\",\"2013-12-30T04:02:11.000Z\",\"2013-12-30T04:44:12.000Z\",\"2013-12-30T04:56:13.000Z\",\"2013-12-30T05:08:13.000Z\",\"2013-12-30T05:20:14.000Z\",\"2013-12-30T05:32:17.000Z\",\"2013-12-30T06:11:18.000Z\",\"2013-12-30T07:08:17.000Z\",\"2013-12-30T07:47:17.000Z\",\"2013-12-30T08:26:19.000Z\",\"2013-12-30T08:41:19.000Z\",\"2013-12-30T08:53:20.000Z\",\"2013-12-30T09:32:22.000Z\",\"2013-12-30T09:44:22.000Z\",\"2013-12-30T10:02:23.000Z\",\"2013-12-30T10:41:26.000Z\",\"2013-12-30T11:20:24.000Z\",\"2013-12-30T11:56:26.000Z\",\"2013-12-30T12:08:27.000Z\",\"2013-12-30T12:23:25.000Z\",\"2013-12-30T13:05:27.000Z\",\"2013-12-30T13:47:30.000Z\",\"2013-12-30T14:44:31.000Z\",\"2013-12-30T15:26:31.000Z\",\"2013-12-30T16:02:38.000Z\",\"2013-12-30T16:44:33.000Z\",\"2013-12-30T17:17:35.000Z\",\"2013-12-30T17:29:54.000Z\",\"2013-12-30T17:41:56.000Z\",\"2013-12-30T17:56:02.000Z\",\"2013-12-30T18:09:20.000Z\",\"2013-12-30T18:21:44.000Z\",\"2013-12-30T18:36:01.000Z\",\"2013-12-30T18:51:42.000Z\",\"2013-08-30T06:30:44.000Z\",\"2013-08-30T06:44:18.000Z\",\"2013-08-30T06:56:43.000Z\",\"2013-08-30T07:09:14.000Z\",\"2013-08-30T07:21:16.000Z\",\"2013-08-30T07:33:48.000Z\",\"2013-08-30T07:46:33.000Z\",\"2013-08-30T08:13:14.000Z\",\"2013-08-30T08:25:34.000Z\",\"2013-08-30T08:38:48.000Z\",\"2013-08-30T08:51:25.000Z\",\"2013-08-30T09:03:58.000Z\",\"2013-08-30T09:16:05.000Z\",\"2013-08-30T09:28:24.000Z\",\"2013-08-30T09:40:47.000Z\",\"2013-08-30T09:54:59.000Z\",\"2013-08-30T10:07:46.000Z\",\"2013-08-30T10:38:35.000Z\",\"2013-08-30T11:05:29.000Z\",\"2013-08-30T11:17:59.000Z\",\"2013-08-30T17:15:01.000Z\",\"2013-08-30T17:27:42.000Z\",\"2013-08-30T17:40:11.000Z\",\"2013-08-30T18:17:26.000Z\",\"2013-08-30T18:43:37.000Z\",\"2013-08-30T18:55:41.000Z\",\"2013-08-30T19:08:10.000Z\",\"2013-08-30T19:21:23.000Z\",\"2013-08-30T19:33:48.000Z\",\"2013-08-30T19:46:17.000Z\",\"2013-08-30T19:58:28.000Z\",\"2013-08-30T20:12:02.000Z\",\"2013-08-30T20:24:56.000Z\",\"2013-08-30T20:37:44.000Z\",\"2013-08-30T20:51:18.000Z\",\"2013-08-30T21:03:54.000Z\",\"2013-08-30T21:16:04.000Z\",\"2013-08-30T21:44:07.000Z\",\"2013-08-30T22:23:59.000Z\",\"2013-08-30T22:36:11.000Z\",\"2013-08-30T23:01:12.000Z\",\"2013-08-30T23:14:06.000Z\",\"2013-08-30T23:26:22.000Z\",\"2013-10-27T06:12:39.000Z\",\"2013-10-27T06:24:39.000Z\",\"2013-10-27T06:37:07.000Z\",\"2013-10-27T06:49:07.000Z\",\"2013-10-27T07:01:35.000Z\",\"2013-10-27T07:15:16.000Z\",\"2013-10-27T07:27:38.000Z\",\"2013-10-27T07:40:15.000Z\",\"2013-10-27T08:05:12.000Z\",\"2013-10-27T08:30:46.000Z\",\"2013-10-27T08:42:58.000Z\",\"2013-10-27T08:55:09.000Z\",\"2013-10-27T09:07:33.000Z\",\"2013-10-27T09:19:52.000Z\",\"2013-10-27T09:32:35.000Z\",\"2013-10-27T09:44:56.000Z\",\"2013-10-27T09:57:37.000Z\",\"2013-10-27T10:09:52.000Z\",\"2013-10-27T10:22:16.000Z\",\"2013-10-27T10:34:20.000Z\",\"2013-10-27T10:47:24.000Z\",\"2013-10-27T11:00:05.000Z\",\"2013-10-27T11:12:16.000Z\",\"2013-10-27T11:24:17.000Z\",\"2013-10-27T11:37:04.000Z\",\"2013-10-27T11:49:28.000Z\",\"2013-10-27T12:28:51.000Z\",\"2013-10-27T12:42:21.000Z\",\"2013-10-27T12:54:31.000Z\",\"2013-10-30T14:37:28.000Z\",\"2013-10-30T14:52:33.000Z\",\"2013-10-30T15:16:34.000Z\",\"2013-10-30T15:57:47.000Z\",\"2013-10-30T16:10:01.000Z\",\"2013-10-30T16:22:07.000Z\",\"2013-10-30T16:34:42.000Z\",\"2013-10-30T16:47:11.000Z\",\"2013-10-30T16:59:28.000Z\",\"2013-10-30T17:12:44.000Z\",\"2013-10-30T17:24:59.000Z\",\"2013-10-30T17:37:35.000Z\",\"2013-10-30T17:50:05.000Z\",\"2013-10-30T18:02:11.000Z\",\"2013-10-30T18:14:25.000Z\",\"2013-10-30T18:26:27.000Z\",\"2013-10-30T18:39:30.000Z\",\"2013-10-30T18:52:28.000Z\",\"2013-10-30T19:06:29.000Z\",\"2013-10-30T19:18:41.000Z\",\"2013-10-30T19:30:51.000Z\",\"2013-10-30T19:43:07.000Z\",\"2013-10-30T19:55:08.000Z\",\"2013-10-30T20:07:55.000Z\",\"2013-10-30T20:33:05.000Z\"]]]}}},\"view\":{\"type\":\"object\",\"name\":\"CDSView\",\"id\":\"p1279\",\"attributes\":{\"filter\":{\"type\":\"object\",\"name\":\"AllIndices\",\"id\":\"p1280\"}}},\"glyph\":{\"type\":\"object\",\"name\":\"Scatter\",\"id\":\"p1275\",\"attributes\":{\"tags\":[\"apply_ranges\"],\"x\":{\"type\":\"field\",\"field\":\"Longitude\"},\"y\":{\"type\":\"field\",\"field\":\"Latitude\"},\"size\":{\"type\":\"value\",\"value\":5.477225575051661},\"line_color\":{\"type\":\"value\",\"value\":\"#30a2da\"},\"fill_color\":{\"type\":\"value\",\"value\":\"#30a2da\"},\"hatch_color\":{\"type\":\"value\",\"value\":\"#30a2da\"}}},\"selection_glyph\":{\"type\":\"object\",\"name\":\"Scatter\",\"id\":\"p1283\",\"attributes\":{\"tags\":[\"apply_ranges\"],\"x\":{\"type\":\"field\",\"field\":\"Longitude\"},\"y\":{\"type\":\"field\",\"field\":\"Latitude\"},\"size\":{\"type\":\"value\",\"value\":5.477225575051661},\"angle\":{\"type\":\"value\",\"value\":0.0},\"line_color\":{\"type\":\"value\",\"value\":\"#30a2da\"},\"line_alpha\":{\"type\":\"value\",\"value\":1.0},\"line_width\":{\"type\":\"value\",\"value\":1},\"line_join\":{\"type\":\"value\",\"value\":\"bevel\"},\"line_cap\":{\"type\":\"value\",\"value\":\"butt\"},\"line_dash\":{\"type\":\"value\",\"value\":[]},\"line_dash_offset\":{\"type\":\"value\",\"value\":0},\"fill_color\":{\"type\":\"value\",\"value\":\"#30a2da\"},\"fill_alpha\":{\"type\":\"value\",\"value\":1.0},\"hatch_color\":{\"type\":\"value\",\"value\":\"#30a2da\"},\"hatch_alpha\":{\"type\":\"value\",\"value\":1.0},\"hatch_scale\":{\"type\":\"value\",\"value\":12.0},\"hatch_pattern\":{\"type\":\"value\",\"value\":null},\"hatch_weight\":{\"type\":\"value\",\"value\":1.0},\"marker\":{\"type\":\"value\",\"value\":\"circle\"}}},\"nonselection_glyph\":{\"type\":\"object\",\"name\":\"Scatter\",\"id\":\"p1276\",\"attributes\":{\"tags\":[\"apply_ranges\"],\"x\":{\"type\":\"field\",\"field\":\"Longitude\"},\"y\":{\"type\":\"field\",\"field\":\"Latitude\"},\"size\":{\"type\":\"value\",\"value\":5.477225575051661},\"line_color\":{\"type\":\"value\",\"value\":\"#30a2da\"},\"line_alpha\":{\"type\":\"value\",\"value\":0.1},\"fill_color\":{\"type\":\"value\",\"value\":\"#30a2da\"},\"fill_alpha\":{\"type\":\"value\",\"value\":0.1},\"hatch_color\":{\"type\":\"value\",\"value\":\"#30a2da\"},\"hatch_alpha\":{\"type\":\"value\",\"value\":0.1}}},\"muted_glyph\":{\"type\":\"object\",\"name\":\"Scatter\",\"id\":\"p1277\",\"attributes\":{\"tags\":[\"apply_ranges\"],\"x\":{\"type\":\"field\",\"field\":\"Longitude\"},\"y\":{\"type\":\"field\",\"field\":\"Latitude\"},\"size\":{\"type\":\"value\",\"value\":5.477225575051661},\"line_color\":{\"type\":\"value\",\"value\":\"#30a2da\"},\"line_alpha\":{\"type\":\"value\",\"value\":0.2},\"fill_color\":{\"type\":\"value\",\"value\":\"#30a2da\"},\"fill_alpha\":{\"type\":\"value\",\"value\":0.2},\"hatch_color\":{\"type\":\"value\",\"value\":\"#30a2da\"},\"hatch_alpha\":{\"type\":\"value\",\"value\":0.2}}}}}],\"toolbar\":{\"type\":\"object\",\"name\":\"Toolbar\",\"id\":\"p1241\",\"attributes\":{\"tools\":[{\"type\":\"object\",\"name\":\"WheelZoomTool\",\"id\":\"p1217\",\"attributes\":{\"renderers\":\"auto\",\"zoom_on_axis\":false}},{\"type\":\"object\",\"name\":\"BoxZoomTool\",\"id\":\"p1218\",\"attributes\":{\"overlay\":{\"type\":\"object\",\"name\":\"BoxAnnotation\",\"id\":\"p1010\",\"attributes\":{\"syncable\":false,\"level\":\"overlay\",\"visible\":false,\"left\":{\"type\":\"number\",\"value\":\"nan\"},\"right\":{\"type\":\"number\",\"value\":\"nan\"},\"top\":{\"type\":\"number\",\"value\":\"nan\"},\"bottom\":{\"type\":\"number\",\"value\":\"nan\"},\"left_units\":\"canvas\",\"right_units\":\"canvas\",\"top_units\":\"canvas\",\"bottom_units\":\"canvas\",\"line_color\":\"black\",\"line_alpha\":1.0,\"line_width\":2,\"line_dash\":[4,4],\"fill_color\":\"lightgrey\",\"fill_alpha\":0.5}},\"match_aspect\":true}},{\"type\":\"object\",\"name\":\"HoverTool\",\"id\":\"p1231\",\"attributes\":{\"tags\":[\"hv_created\"],\"renderers\":[{\"id\":\"p1278\"}],\"tooltips\":[[\"Longitude\",\"$x{custom}\"],[\"Latitude\",\"$y{custom}\"],[\"timestamp\",\"@{timestamp}\"]],\"formatters\":{\"type\":\"map\",\"entries\":[[\"$x\",{\"type\":\"object\",\"name\":\"CustomJSHover\",\"id\":\"p1267\",\"attributes\":{\"code\":\"\\n        const projections = Bokeh.require(\\\"core/util/projections\\\");\\n        const {snap_x, snap_y} = special_vars\\n        const coords = projections.wgs84_mercator.invert(snap_x, snap_y)\\n        return \\\"\\\" + (coords[0]).toFixed(4)\\n    \"}}],[\"$y\",{\"type\":\"object\",\"name\":\"CustomJSHover\",\"id\":\"p1268\",\"attributes\":{\"code\":\"\\n        const projections = Bokeh.require(\\\"core/util/projections\\\");\\n        const {snap_x, snap_y} = special_vars\\n        const coords = projections.wgs84_mercator.invert(snap_x, snap_y)\\n        return \\\"\\\" + (coords[1]).toFixed(4)\\n    \"}}]]}}},{\"type\":\"object\",\"name\":\"PanTool\",\"id\":\"p1255\"},{\"type\":\"object\",\"name\":\"ResetTool\",\"id\":\"p1256\"}],\"active_drag\":{\"id\":\"p1255\"}}},\"left\":[{\"type\":\"object\",\"name\":\"LinearAxis\",\"id\":\"p1249\",\"attributes\":{\"ticker\":{\"type\":\"object\",\"name\":\"MercatorTicker\",\"id\":\"p1259\",\"attributes\":{\"mantissas\":[1,2,5],\"dimension\":\"lat\"}},\"formatter\":{\"type\":\"object\",\"name\":\"MercatorTickFormatter\",\"id\":\"p1260\",\"attributes\":{\"dimension\":\"lat\"}},\"axis_label\":\"Latitude\",\"major_label_policy\":{\"type\":\"object\",\"name\":\"AllLabels\",\"id\":\"p1252\"}}}],\"below\":[{\"type\":\"object\",\"name\":\"LinearAxis\",\"id\":\"p1244\",\"attributes\":{\"ticker\":{\"type\":\"object\",\"name\":\"MercatorTicker\",\"id\":\"p1257\",\"attributes\":{\"mantissas\":[1,2,5],\"dimension\":\"lon\"}},\"formatter\":{\"type\":\"object\",\"name\":\"MercatorTickFormatter\",\"id\":\"p1258\",\"attributes\":{\"dimension\":\"lon\"}},\"axis_label\":\"Longitude\",\"major_label_policy\":{\"type\":\"object\",\"name\":\"AllLabels\",\"id\":\"p1247\"}}}],\"center\":[{\"type\":\"object\",\"name\":\"Grid\",\"id\":\"p1248\",\"attributes\":{\"axis\":{\"id\":\"p1244\"},\"grid_line_color\":null}},{\"type\":\"object\",\"name\":\"Grid\",\"id\":\"p1253\",\"attributes\":{\"dimension\":1,\"axis\":{\"id\":\"p1249\"},\"grid_line_color\":null}}],\"frame_width\":800,\"frame_height\":600,\"min_border_top\":10,\"min_border_bottom\":10,\"min_border_left\":10,\"min_border_right\":10,\"output_backend\":\"webgl\",\"match_aspect\":true}},{\"type\":\"object\",\"name\":\"Spacer\",\"id\":\"p1285\",\"attributes\":{\"name\":\"HSpacer01995\",\"stylesheets\":[\"\\n:host(.pn-loading.pn-arc):before, .pn-loading.pn-arc:before {\\n  background-image: url(\\\"data:image/svg+xml;base64,PHN2ZyB4bWxucz0iaHR0cDovL3d3dy53My5vcmcvMjAwMC9zdmciIHN0eWxlPSJtYXJnaW46IGF1dG87IGJhY2tncm91bmQ6IG5vbmU7IGRpc3BsYXk6IGJsb2NrOyBzaGFwZS1yZW5kZXJpbmc6IGF1dG87IiB2aWV3Qm94PSIwIDAgMTAwIDEwMCIgcHJlc2VydmVBc3BlY3RSYXRpbz0ieE1pZFlNaWQiPiAgPGNpcmNsZSBjeD0iNTAiIGN5PSI1MCIgZmlsbD0ibm9uZSIgc3Ryb2tlPSIjYzNjM2MzIiBzdHJva2Utd2lkdGg9IjEwIiByPSIzNSIgc3Ryb2tlLWRhc2hhcnJheT0iMTY0LjkzMzYxNDMxMzQ2NDE1IDU2Ljk3Nzg3MTQzNzgyMTM4Ij4gICAgPGFuaW1hdGVUcmFuc2Zvcm0gYXR0cmlidXRlTmFtZT0idHJhbnNmb3JtIiB0eXBlPSJyb3RhdGUiIHJlcGVhdENvdW50PSJpbmRlZmluaXRlIiBkdXI9IjFzIiB2YWx1ZXM9IjAgNTAgNTA7MzYwIDUwIDUwIiBrZXlUaW1lcz0iMDsxIj48L2FuaW1hdGVUcmFuc2Zvcm0+ICA8L2NpcmNsZT48L3N2Zz4=\\\");\\n  background-size: auto calc(min(50%, 400px));\\n}\",{\"id\":\"p1202\"},{\"id\":\"p1200\"},{\"id\":\"p1201\"}],\"margin\":0,\"sizing_mode\":\"stretch_width\",\"align\":\"start\"}}]}}],\"defs\":[{\"type\":\"model\",\"name\":\"ReactiveHTML1\"},{\"type\":\"model\",\"name\":\"FlexBox1\",\"properties\":[{\"name\":\"align_content\",\"kind\":\"Any\",\"default\":\"flex-start\"},{\"name\":\"align_items\",\"kind\":\"Any\",\"default\":\"flex-start\"},{\"name\":\"flex_direction\",\"kind\":\"Any\",\"default\":\"row\"},{\"name\":\"flex_wrap\",\"kind\":\"Any\",\"default\":\"wrap\"},{\"name\":\"justify_content\",\"kind\":\"Any\",\"default\":\"flex-start\"}]},{\"type\":\"model\",\"name\":\"FloatPanel1\",\"properties\":[{\"name\":\"config\",\"kind\":\"Any\",\"default\":{\"type\":\"map\"}},{\"name\":\"contained\",\"kind\":\"Any\",\"default\":true},{\"name\":\"position\",\"kind\":\"Any\",\"default\":\"right-top\"},{\"name\":\"offsetx\",\"kind\":\"Any\",\"default\":null},{\"name\":\"offsety\",\"kind\":\"Any\",\"default\":null},{\"name\":\"theme\",\"kind\":\"Any\",\"default\":\"primary\"},{\"name\":\"status\",\"kind\":\"Any\",\"default\":\"normalized\"}]},{\"type\":\"model\",\"name\":\"GridStack1\",\"properties\":[{\"name\":\"mode\",\"kind\":\"Any\",\"default\":\"warn\"},{\"name\":\"ncols\",\"kind\":\"Any\",\"default\":null},{\"name\":\"nrows\",\"kind\":\"Any\",\"default\":null},{\"name\":\"allow_resize\",\"kind\":\"Any\",\"default\":true},{\"name\":\"allow_drag\",\"kind\":\"Any\",\"default\":true},{\"name\":\"state\",\"kind\":\"Any\",\"default\":[]}]},{\"type\":\"model\",\"name\":\"drag1\",\"properties\":[{\"name\":\"slider_width\",\"kind\":\"Any\",\"default\":5},{\"name\":\"slider_color\",\"kind\":\"Any\",\"default\":\"black\"},{\"name\":\"value\",\"kind\":\"Any\",\"default\":50}]},{\"type\":\"model\",\"name\":\"click1\",\"properties\":[{\"name\":\"terminal_output\",\"kind\":\"Any\",\"default\":\"\"},{\"name\":\"debug_name\",\"kind\":\"Any\",\"default\":\"\"},{\"name\":\"clears\",\"kind\":\"Any\",\"default\":0}]},{\"type\":\"model\",\"name\":\"toggle_value1\",\"properties\":[{\"name\":\"active_icons\",\"kind\":\"Any\",\"default\":{\"type\":\"map\"}},{\"name\":\"options\",\"kind\":\"Any\",\"default\":{\"type\":\"map\",\"entries\":[[\"favorite\",\"heart\"]]}},{\"name\":\"value\",\"kind\":\"Any\",\"default\":[]},{\"name\":\"_reactions\",\"kind\":\"Any\",\"default\":[]},{\"name\":\"_base_url\",\"kind\":\"Any\",\"default\":\"https://tabler-icons.io/static/tabler-icons/icons/\"}]},{\"type\":\"model\",\"name\":\"copy_to_clipboard1\",\"properties\":[{\"name\":\"value\",\"kind\":\"Any\",\"default\":null},{\"name\":\"fill\",\"kind\":\"Any\",\"default\":\"none\"}]},{\"type\":\"model\",\"name\":\"FastWrapper1\",\"properties\":[{\"name\":\"object\",\"kind\":\"Any\",\"default\":null},{\"name\":\"style\",\"kind\":\"Any\",\"default\":null}]},{\"type\":\"model\",\"name\":\"NotificationAreaBase1\",\"properties\":[{\"name\":\"js_events\",\"kind\":\"Any\",\"default\":{\"type\":\"map\"}},{\"name\":\"position\",\"kind\":\"Any\",\"default\":\"bottom-right\"},{\"name\":\"_clear\",\"kind\":\"Any\",\"default\":0}]},{\"type\":\"model\",\"name\":\"NotificationArea1\",\"properties\":[{\"name\":\"js_events\",\"kind\":\"Any\",\"default\":{\"type\":\"map\"}},{\"name\":\"notifications\",\"kind\":\"Any\",\"default\":[]},{\"name\":\"position\",\"kind\":\"Any\",\"default\":\"bottom-right\"},{\"name\":\"_clear\",\"kind\":\"Any\",\"default\":0},{\"name\":\"types\",\"kind\":\"Any\",\"default\":[{\"type\":\"map\",\"entries\":[[\"type\",\"warning\"],[\"background\",\"#ffc107\"],[\"icon\",{\"type\":\"map\",\"entries\":[[\"className\",\"fas fa-exclamation-triangle\"],[\"tagName\",\"i\"],[\"color\",\"white\"]]}]]},{\"type\":\"map\",\"entries\":[[\"type\",\"info\"],[\"background\",\"#007bff\"],[\"icon\",{\"type\":\"map\",\"entries\":[[\"className\",\"fas fa-info-circle\"],[\"tagName\",\"i\"],[\"color\",\"white\"]]}]]}]}]},{\"type\":\"model\",\"name\":\"Notification\",\"properties\":[{\"name\":\"background\",\"kind\":\"Any\",\"default\":null},{\"name\":\"duration\",\"kind\":\"Any\",\"default\":3000},{\"name\":\"icon\",\"kind\":\"Any\",\"default\":null},{\"name\":\"message\",\"kind\":\"Any\",\"default\":\"\"},{\"name\":\"notification_type\",\"kind\":\"Any\",\"default\":null},{\"name\":\"_destroyed\",\"kind\":\"Any\",\"default\":false}]},{\"type\":\"model\",\"name\":\"TemplateActions1\",\"properties\":[{\"name\":\"open_modal\",\"kind\":\"Any\",\"default\":0},{\"name\":\"close_modal\",\"kind\":\"Any\",\"default\":0}]},{\"type\":\"model\",\"name\":\"BootstrapTemplateActions1\",\"properties\":[{\"name\":\"open_modal\",\"kind\":\"Any\",\"default\":0},{\"name\":\"close_modal\",\"kind\":\"Any\",\"default\":0}]},{\"type\":\"model\",\"name\":\"MaterialTemplateActions1\",\"properties\":[{\"name\":\"open_modal\",\"kind\":\"Any\",\"default\":0},{\"name\":\"close_modal\",\"kind\":\"Any\",\"default\":0}]}]}};\n",
       "  var render_items = [{\"docid\":\"4a85436f-4184-4278-af8c-fc8a220aa425\",\"roots\":{\"p1199\":\"ded353b8-f45a-462a-a839-b870b7e599f5\"},\"root_ids\":[\"p1199\"]}];\n",
       "  var docs = Object.values(docs_json)\n",
       "  if (!docs) {\n",
       "    return\n",
       "  }\n",
       "  const py_version = docs[0].version.replace('rc', '-rc.').replace('.dev', '-dev.')\n",
       "  function embed_document(root) {\n",
       "    var Bokeh = get_bokeh(root)\n",
       "    Bokeh.embed.embed_items_notebook(docs_json, render_items);\n",
       "    for (const render_item of render_items) {\n",
       "      for (const root_id of render_item.root_ids) {\n",
       "\tconst id_el = document.getElementById(root_id)\n",
       "\tif (id_el.children.length && (id_el.children[0].className === 'bk-root')) {\n",
       "\t  const root_el = id_el.children[0]\n",
       "\t  root_el.id = root_el.id + '-rendered'\n",
       "\t}\n",
       "      }\n",
       "    }\n",
       "  }\n",
       "  function get_bokeh(root) {\n",
       "    if (root.Bokeh === undefined) {\n",
       "      return null\n",
       "    } else if (root.Bokeh.version !== py_version) {\n",
       "      if (root.Bokeh.versions === undefined || !root.Bokeh.versions.has(py_version)) {\n",
       "\treturn null\n",
       "      }\n",
       "      return root.Bokeh.versions.get(py_version);\n",
       "    } else if (root.Bokeh.version === py_version) {\n",
       "      return root.Bokeh\n",
       "    }\n",
       "    return null\n",
       "  }\n",
       "  function is_loaded(root) {\n",
       "    var Bokeh = get_bokeh(root)\n",
       "    return (Bokeh != null && Bokeh.Panel !== undefined)\n",
       "  }\n",
       "  if (is_loaded(root)) {\n",
       "    embed_document(root);\n",
       "  } else {\n",
       "    var attempts = 0;\n",
       "    var timer = setInterval(function(root) {\n",
       "      if (is_loaded(root)) {\n",
       "        clearInterval(timer);\n",
       "        embed_document(root);\n",
       "      } else if (document.readyState == \"complete\") {\n",
       "        attempts++;\n",
       "        if (attempts > 200) {\n",
       "          clearInterval(timer);\n",
       "\t  var Bokeh = get_bokeh(root)\n",
       "\t  if (Bokeh == null || Bokeh.Panel == null) {\n",
       "            console.warn(\"Panel: ERROR: Unable to run Panel code because Bokeh or Panel library is missing\");\n",
       "\t  } else {\n",
       "\t    console.warn(\"Panel: WARNING: Attempting to render but not all required libraries could be resolved.\")\n",
       "\t    embed_document(root)\n",
       "\t  }\n",
       "        }\n",
       "      }\n",
       "    }, 25, root)\n",
       "  }\n",
       "})(window);</script>"
      ],
      "text/plain": [
       ":Overlay\n",
       "   .WMTS.I   :WMTS   [Longitude,Latitude]\n",
       "   .Points.I :Points   [Longitude,Latitude]   (timestamp)"
      ]
     },
     "execution_count": 118,
     "metadata": {
      "application/vnd.holoviews_exec.v0+json": {
       "id": "p1199"
      }
     },
     "output_type": "execute_result"
    }
   ],
   "source": [
    "portsnl[portsnl.vessel=='omegastar'].hvplot(geo=True,\n",
    "                                            tiles=True,\n",
    "                                            hover_cols=['timestamp'],\n",
    "                                            width=800,\n",
    "                                            height=600)"
   ]
  },
  {
   "cell_type": "code",
   "execution_count": 113,
   "metadata": {},
   "outputs": [
    {
     "data": {
      "text/plain": [
       "7437"
      ]
     },
     "execution_count": 113,
     "metadata": {},
     "output_type": "execute_result"
    }
   ],
   "source": [
    "ports = pd.read_csv(PATH.joinpath('gfw_api', 'port_visits.csv'))\n",
    "ports = gpd.GeoDataFrame(ports, geometry=gpd.points_from_xy(x=ports.lon, y=ports.lat), crs=4326)\n",
    "cols = ['start', 'end']\n",
    "for col in cols:\n",
    "    ports[col] = pd.to_datetime(ports[col])\n",
    "\n",
    "ports.sort_values(by=['vessel_name', 'start'], inplace=True)\n",
    "len(ports)"
   ]
  },
  {
   "cell_type": "code",
   "execution_count": null,
   "metadata": {},
   "outputs": [],
   "source": [
    "# Calculate time between port visits\n",
    "\n",
    "ports = ports.join(ports.groupby('vessel_id').shift(-1), rsuffix='-')\n",
    "ports.rename(columns={'start-': 'start_next'}, inplace=True)\n",
    "cols = [x for x in ports.columns if '-' not in x]\n",
    "ports = ports[cols]\n",
    "ports['journey'] = (ports.start_next- ports.end) / pd.to_timedelta(1, unit='D')"
   ]
  },
  {
   "cell_type": "code",
   "execution_count": null,
   "metadata": {},
   "outputs": [],
   "source": [
    "miny = 51.23\n",
    "maxy = 53.77\n",
    "minx = 2.9\n",
    "maxx = 7.07\n",
    "\n",
    "ports[(ports.lat > miny) & (ports.lat < maxy) & (ports.lon > minx) & (ports.lon < maxx)].mmsi.unique()"
   ]
  },
  {
   "cell_type": "code",
   "execution_count": null,
   "metadata": {},
   "outputs": [],
   "source": [
    "# Plot a histogram\n",
    "\n",
    "ports[(ports.journey < 50) & (ports.journey > 5)].hvplot.hist(y='journey')"
   ]
  },
  {
   "cell_type": "code",
   "execution_count": null,
   "metadata": {},
   "outputs": [],
   "source": [
    "ports[ports.journey > 20].vessel_name.value_counts()"
   ]
  },
  {
   "cell_type": "markdown",
   "metadata": {},
   "source": [
    "## Loitering "
   ]
  },
  {
   "cell_type": "code",
   "execution_count": null,
   "metadata": {},
   "outputs": [],
   "source": [
    "loitering = pd.read_csv(PATH.joinpath('gfw_api', 'loitering.csv'))\n",
    "loitering = gpd.GeoDataFrame(loitering, geometry=gpd.points_from_xy(x=loitering.lon, y=loitering.lat), crs=4326)\n",
    "len(loitering)"
   ]
  },
  {
   "cell_type": "code",
   "execution_count": null,
   "metadata": {},
   "outputs": [],
   "source": [
    "# Get histogram\n",
    "\n",
    "loitering.hvplot.hist(y='loitering_hours')"
   ]
  },
  {
   "cell_type": "code",
   "execution_count": null,
   "metadata": {},
   "outputs": [],
   "source": [
    "# Remove outliers\n",
    "\n",
    "loitering = loitering[(loitering.loitering_hours < 500) & (loitering.loitering_hours > 12)].copy()\n",
    "loitering.hvplot.hist(y='loitering_hours')"
   ]
  },
  {
   "cell_type": "code",
   "execution_count": null,
   "metadata": {},
   "outputs": [],
   "source": [
    "loitering.explore()"
   ]
  },
  {
   "cell_type": "code",
   "execution_count": null,
   "metadata": {},
   "outputs": [],
   "source": [
    "# Top 10 companies with most loitering hours\n",
    "\n",
    "top10 = loitering.groupby('vessel_name').agg(hours = ('loitering_hours', 'sum')).sort_values(by='hours', ascending=False).reset_index()[0:10]\n",
    "top10\n",
    "\n"
   ]
  },
  {
   "cell_type": "code",
   "execution_count": null,
   "metadata": {},
   "outputs": [],
   "source": [
    "# Where did they loiter?\n",
    "\n",
    "vessels = list(top10.vessel_name)\n",
    "loitering[loitering.vessel_name.isin(vessels)].explore(column='loitering_hours',\n",
    "                                                       cmap='fire')"
   ]
  },
  {
   "cell_type": "markdown",
   "metadata": {},
   "source": [
    "Some observations:\n",
    "1. The loitering events are concentrated in the Mediterenean (Spain, Middle East and around South Africa and Madagascar)\n",
    "2. On the Atlantic the Bashar One Transport seems to stop. Often not that long, but still. \n",
    "3. Long loitering events are clustered around Crete. Also near Dominica, Bolivia and Mauritius. Why there?"
   ]
  },
  {
   "cell_type": "code",
   "execution_count": null,
   "metadata": {},
   "outputs": [],
   "source": [
    "records = []\n",
    "count = 0\n",
    "with open(PATH.joinpath('meteo', 'meteo_results.json'), 'r') as file:\n",
    "    for line in file:\n",
    "        records.append(literal_eval(line))\n",
    "        count += 1\n",
    "        if count > 10:\n",
    "            break"
   ]
  },
  {
   "cell_type": "markdown",
   "metadata": {},
   "source": [
    "## Simulation"
   ]
  },
  {
   "cell_type": "code",
   "execution_count": 5,
   "metadata": {},
   "outputs": [],
   "source": [
    "import numpy as np"
   ]
  },
  {
   "cell_type": "code",
   "execution_count": 67,
   "metadata": {},
   "outputs": [],
   "source": [
    "# Get stream data\n",
    "\n",
    "npz = np.load(PATH.joinpath('meteo', 'koe_fwd_2024-02-08_11.npz'))"
   ]
  },
  {
   "cell_type": "code",
   "execution_count": 68,
   "metadata": {},
   "outputs": [],
   "source": [
    "longitude = npz['arr_1']\n",
    "latitude = npz['arr_2']\n",
    "timestamp = npz['arr_3']\n",
    "vessels = npz['arr_4']"
   ]
  },
  {
   "cell_type": "code",
   "execution_count": 70,
   "metadata": {},
   "outputs": [],
   "source": [
    "# Parse npz file\n",
    "\n",
    "records = []\n",
    "for lon, lat, time, vessel in zip(longitude, latitude, timestamp, vessels):\n",
    "    for lo, la, t in zip(lon, lat, time):\n",
    "        records.append({'vessel': vessel,\n",
    "                        'longitude': lo,\n",
    "                        'latitude': la,\n",
    "                        'timestamp': t})\n",
    "        \n",
    "df = pd.DataFrame(records)\n",
    "df = df[df.longitude.notna()]\n",
    "\n",
    "# Write to file\n",
    "df.to_csv(PATH.joinpath('meteo', 'simulation.csv'))"
   ]
  }
 ],
 "metadata": {
  "kernelspec": {
   "display_name": "geo",
   "language": "python",
   "name": "geo"
  },
  "language_info": {
   "codemirror_mode": {
    "name": "ipython",
    "version": 3
   },
   "file_extension": ".py",
   "mimetype": "text/x-python",
   "name": "python",
   "nbconvert_exporter": "python",
   "pygments_lexer": "ipython3",
   "version": "3.10.13"
  }
 },
 "nbformat": 4,
 "nbformat_minor": 2
}
